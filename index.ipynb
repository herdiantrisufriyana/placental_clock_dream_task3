{
 "cells": [
  {
   "cell_type": "code",
   "execution_count": 1,
   "id": "fa371021-7867-4c5e-bf60-33d896f9aab0",
   "metadata": {},
   "outputs": [],
   "source": [
    "seed = 2024-6-10"
   ]
  },
  {
   "cell_type": "code",
   "execution_count": 2,
   "id": "7407a22f-b1b7-41eb-a2fa-cbca797867cc",
   "metadata": {},
   "outputs": [],
   "source": [
    "from sklearn.metrics import mean_squared_error, make_scorer, precision_score"
   ]
  },
  {
   "cell_type": "code",
   "execution_count": 3,
   "id": "0481526d-b4e3-4c59-bb51-237379c99c0b",
   "metadata": {},
   "outputs": [],
   "source": [
    "from utils import test_idx, train_and_save_model, load_and_predict, load_and_predict_probabilities_by_imp, load_and_predict_probabilities"
   ]
  },
  {
   "cell_type": "code",
   "execution_count": 4,
   "id": "247d3a05-1301-4b2c-8ea5-40dd47d5f990",
   "metadata": {},
   "outputs": [],
   "source": [
    "from sklearn.ensemble import RandomForestClassifier, RandomForestRegressor\n",
    "from sklearn.linear_model import ElasticNet, LogisticRegression\n",
    "\n",
    "# Define models and their parameter grids\n",
    "models_and_params = {\n",
    "    'RandomForestClassifier': {\n",
    "        'model': RandomForestClassifier(random_state=seed),\n",
    "        'param_grid': {\n",
    "            'n_estimators': [50, 100, 200],\n",
    "            'max_depth': [None, 10, 20],\n",
    "            'min_samples_split': [2, 5, 10]\n",
    "        }\n",
    "    },\n",
    "    'RandomForestRegressor': {\n",
    "        'model': RandomForestRegressor(random_state=seed),\n",
    "        'param_grid': {\n",
    "            'n_estimators': [50, 100, 200],\n",
    "            'max_depth': [None, 10, 20],\n",
    "            'min_samples_split': [2, 5, 10]\n",
    "        }\n",
    "    },\n",
    "    'ElasticNet': {\n",
    "        'model': ElasticNet(random_state=seed, max_iter=100000),\n",
    "        'param_grid': {\n",
    "            'alpha': [0.01, 0.1, 1, 10],\n",
    "            'l1_ratio': [0.2, 0.5, 0.8]\n",
    "        }\n",
    "    },\n",
    "    'LogisticElasticNet': {\n",
    "        'model': LogisticRegression(penalty='elasticnet', solver='saga', l1_ratio=0.5, random_state=seed, max_iter=10000),\n",
    "        'param_grid': {\n",
    "            'C': [0.01, 0.1, 1, 10],\n",
    "            'l1_ratio': [0.1, 0.5, 0.9]  # Adjusting l1_ratio close to 1 acts like LASSO, close to 0 acts like Ridge\n",
    "        }\n",
    "    }\n",
    "}"
   ]
  },
  {
   "cell_type": "code",
   "execution_count": 22,
   "id": "96ded3f2-2f20-4cdf-a9c7-84ae62e1a609",
   "metadata": {},
   "outputs": [
    {
     "name": "stdout",
     "output_type": "stream",
     "text": [
      "Scaler saved at inst/extdata/anencephaly_imp_scaler.joblib\n",
      "Model saved at inst/extdata/anencephaly_imp_best_model.joblib\n",
      "True Positive Rate (Sensitivity): 0.67\n",
      "True Negative Rate (Specificity): 1.00\n",
      "Positive Predictive Value (Precision): 1.00\n",
      "Negative Predictive Value: 0.89\n"
     ]
    }
   ],
   "source": [
    "prefix = 'anencephaly_imp'\n",
    "model_name = 'RandomForestClassifier'\n",
    "custom_precision = make_scorer(precision_score, zero_division=0)\n",
    "train_and_save_model(prefix, seed, model_name, cv=3, scoring=custom_precision)"
   ]
  },
  {
   "cell_type": "code",
   "execution_count": 23,
   "id": "153acb28-174f-43df-84cc-f9d1351cad65",
   "metadata": {},
   "outputs": [
    {
     "name": "stdout",
     "output_type": "stream",
     "text": [
      "Predicted probabilities saved at inst/extdata/anencephaly_imp_prob.csv\n"
     ]
    }
   ],
   "source": [
    "prefix = 'anencephaly'\n",
    "model_name = 'RandomForestClassifier'\n",
    "load_and_predict_probabilities_by_imp(prefix)"
   ]
  },
  {
   "cell_type": "code",
   "execution_count": 20,
   "id": "e276f7f1-eb1d-47fe-a5bc-229701a93b4d",
   "metadata": {},
   "outputs": [
    {
     "name": "stdout",
     "output_type": "stream",
     "text": [
      "Scaler saved at inst/extdata/spina_bifida_imp_scaler.joblib\n",
      "Model saved at inst/extdata/spina_bifida_imp_best_model.joblib\n",
      "True Positive Rate (Sensitivity): 0.80\n",
      "True Negative Rate (Specificity): 1.00\n",
      "Positive Predictive Value (Precision): 1.00\n",
      "Negative Predictive Value: 0.86\n"
     ]
    }
   ],
   "source": [
    "prefix = 'spina_bifida_imp'\n",
    "model_name = 'RandomForestClassifier'\n",
    "train_and_save_model(prefix, seed, model_name)"
   ]
  },
  {
   "cell_type": "code",
   "execution_count": 21,
   "id": "550c57e0-628d-4edb-971d-8716eafb070e",
   "metadata": {},
   "outputs": [
    {
     "name": "stdout",
     "output_type": "stream",
     "text": [
      "Predicted probabilities saved at inst/extdata/spina_bifida_imp_prob.csv\n"
     ]
    }
   ],
   "source": [
    "prefix = 'spina_bifida'\n",
    "model_name = 'RandomForestClassifier'\n",
    "load_and_predict_probabilities_by_imp(prefix)"
   ]
  },
  {
   "cell_type": "code",
   "execution_count": 5,
   "id": "b2ffdb22-41a9-4c31-b8c7-713d11ebf15a",
   "metadata": {},
   "outputs": [
    {
     "name": "stdout",
     "output_type": "stream",
     "text": [
      "Test indices saved at inst/extdata/preterm_imp_test_idx.csv\n",
      "Scaler saved at inst/extdata/preterm_imp_scaler.joblib\n",
      "Model saved at inst/extdata/preterm_imp_best_model.joblib\n",
      "Predictions saved at inst/extdata/preterm_imp_predictions.csv\n"
     ]
    }
   ],
   "source": [
    "prefix = 'preterm_imp'\n",
    "model_name = 'RandomForestClassifier'\n",
    "train_and_save_model(prefix, seed, models_and_params[model_name])\n",
    "load_and_predict(prefix)"
   ]
  },
  {
   "cell_type": "code",
   "execution_count": null,
   "id": "9e4851b1-6e8d-4dfa-94fa-cb51cf4152b5",
   "metadata": {},
   "outputs": [],
   "source": [
    "prefix = 'preterm'\n",
    "model_name = 'RandomForestClassifier'\n",
    "load_and_predict_probabilities_by_imp(prefix)"
   ]
  },
  {
   "cell_type": "code",
   "execution_count": 5,
   "id": "00603191-7f3d-4516-83f7-dfa6806767c2",
   "metadata": {},
   "outputs": [
    {
     "name": "stdout",
     "output_type": "stream",
     "text": [
      "Test indices saved at inst/extdata/gdm_imp_test_idx.csv\n",
      "Scaler saved at inst/extdata/gdm_imp_scaler.joblib\n",
      "Model saved at inst/extdata/gdm_imp_best_model.joblib\n",
      "Predictions saved at inst/extdata/gdm_imp_predictions.csv\n"
     ]
    }
   ],
   "source": [
    "prefix = 'gdm_imp'\n",
    "model_name = 'RandomForestClassifier'\n",
    "custom_precision = make_scorer(precision_score, zero_division=0)\n",
    "train_and_save_model(prefix, seed, models_and_params[model_name], cv=5, scoring=custom_precision)\n",
    "load_and_predict(prefix)"
   ]
  },
  {
   "cell_type": "code",
   "execution_count": 13,
   "id": "2293a94d-eb61-408e-913b-289359d2e061",
   "metadata": {},
   "outputs": [
    {
     "name": "stdout",
     "output_type": "stream",
     "text": [
      "Predicted probabilities saved at inst/extdata/gdm_imp_prob.csv\n"
     ]
    }
   ],
   "source": [
    "prefix = 'gdm'\n",
    "model_name = 'RandomForestClassifier'\n",
    "load_and_predict_probabilities_by_imp(prefix)"
   ]
  },
  {
   "cell_type": "code",
   "execution_count": 6,
   "id": "9064c8e2-d2f8-41ac-ac97-2c48d3d00b63",
   "metadata": {},
   "outputs": [
    {
     "name": "stdout",
     "output_type": "stream",
     "text": [
      "Test indices saved at inst/extdata/lga_imp_test_idx.csv\n",
      "Scaler saved at inst/extdata/lga_imp_scaler.joblib\n",
      "Model saved at inst/extdata/lga_imp_best_model.joblib\n",
      "Predictions saved at inst/extdata/lga_imp_predictions.csv\n"
     ]
    }
   ],
   "source": [
    "prefix = 'lga_imp'\n",
    "model_name = 'RandomForestClassifier'\n",
    "custom_precision = make_scorer(precision_score, zero_division=0)\n",
    "train_and_save_model(prefix, seed, models_and_params[model_name], cv=5, scoring=custom_precision)\n",
    "load_and_predict(prefix)"
   ]
  },
  {
   "cell_type": "code",
   "execution_count": 15,
   "id": "6809b9f9-aa17-4fd9-bcc1-947562ed98fc",
   "metadata": {},
   "outputs": [
    {
     "name": "stdout",
     "output_type": "stream",
     "text": [
      "Predicted probabilities saved at inst/extdata/lga_imp_prob.csv\n"
     ]
    }
   ],
   "source": [
    "prefix = 'lga'\n",
    "model_name = 'RandomForestClassifier'\n",
    "load_and_predict_probabilities_by_imp(prefix)"
   ]
  },
  {
   "cell_type": "code",
   "execution_count": 7,
   "id": "fa56e380-8e96-4dc4-880e-ec78162513b5",
   "metadata": {},
   "outputs": [
    {
     "name": "stdout",
     "output_type": "stream",
     "text": [
      "Test indices saved at inst/extdata/chorioamnionitis_imp_test_idx.csv\n",
      "Scaler saved at inst/extdata/chorioamnionitis_imp_scaler.joblib\n",
      "Model saved at inst/extdata/chorioamnionitis_imp_best_model.joblib\n",
      "Predictions saved at inst/extdata/chorioamnionitis_imp_predictions.csv\n"
     ]
    }
   ],
   "source": [
    "prefix = 'chorioamnionitis_imp'\n",
    "model_name = 'RandomForestClassifier'\n",
    "custom_precision = make_scorer(precision_score, zero_division=0)\n",
    "train_and_save_model(prefix, seed, models_and_params[model_name], cv=5, scoring=custom_precision)\n",
    "load_and_predict(prefix)"
   ]
  },
  {
   "cell_type": "code",
   "execution_count": 17,
   "id": "f63c8d2f-86b3-4dea-92e0-4e1ea1c7ef05",
   "metadata": {},
   "outputs": [
    {
     "name": "stdout",
     "output_type": "stream",
     "text": [
      "Predicted probabilities saved at inst/extdata/chorioamnionitis_imp_prob.csv\n"
     ]
    }
   ],
   "source": [
    "prefix = 'chorioamnionitis'\n",
    "model_name = 'RandomForestClassifier'\n",
    "load_and_predict_probabilities_by_imp(prefix)"
   ]
  },
  {
   "cell_type": "code",
   "execution_count": 12,
   "id": "3ebb551a-743d-4752-befb-159d90b1489b",
   "metadata": {
    "scrolled": true
   },
   "outputs": [
    {
     "ename": "FileNotFoundError",
     "evalue": "[Errno 2] No such file or directory: 'inst/extdata/fetal_sex_imp_train_set.csv'",
     "output_type": "error",
     "traceback": [
      "\u001b[0;31m---------------------------------------------------------------------------\u001b[0m",
      "\u001b[0;31mFileNotFoundError\u001b[0m                         Traceback (most recent call last)",
      "Cell \u001b[0;32mIn[12], line 4\u001b[0m\n\u001b[1;32m      2\u001b[0m model_name \u001b[38;5;241m=\u001b[39m \u001b[38;5;124m'\u001b[39m\u001b[38;5;124mRandomForestClassifier\u001b[39m\u001b[38;5;124m'\u001b[39m\n\u001b[1;32m      3\u001b[0m custom_precision \u001b[38;5;241m=\u001b[39m make_scorer(precision_score, zero_division\u001b[38;5;241m=\u001b[39m\u001b[38;5;241m0\u001b[39m)\n\u001b[0;32m----> 4\u001b[0m train_and_save_model(prefix, seed, models_and_params[model_name], cv\u001b[38;5;241m=\u001b[39m\u001b[38;5;241m2\u001b[39m, scoring\u001b[38;5;241m=\u001b[39mcustom_precision)\n\u001b[1;32m      5\u001b[0m load_and_predict(prefix)\n",
      "File \u001b[0;32m/home/rstudio/project/utils.py:50\u001b[0m, in \u001b[0;36mtrain_and_save_model\u001b[0;34m(prefix, seed, model_details, cv, scoring, task)\u001b[0m\n\u001b[1;32m     47\u001b[0m param_grid \u001b[38;5;241m=\u001b[39m model_details[\u001b[38;5;124m'\u001b[39m\u001b[38;5;124mparam_grid\u001b[39m\u001b[38;5;124m'\u001b[39m]\n\u001b[1;32m     49\u001b[0m \u001b[38;5;66;03m# Load the training dataset\u001b[39;00m\n\u001b[0;32m---> 50\u001b[0m data \u001b[38;5;241m=\u001b[39m pd\u001b[38;5;241m.\u001b[39mread_csv(\u001b[38;5;124mf\u001b[39m\u001b[38;5;124m'\u001b[39m\u001b[38;5;124minst/extdata/\u001b[39m\u001b[38;5;132;01m{\u001b[39;00mprefix\u001b[38;5;132;01m}\u001b[39;00m\u001b[38;5;124m_train_set.csv\u001b[39m\u001b[38;5;124m'\u001b[39m)\n\u001b[1;32m     52\u001b[0m \u001b[38;5;66;03m# Add an index column to keep track of original rows\u001b[39;00m\n\u001b[1;32m     53\u001b[0m data[\u001b[38;5;124m'\u001b[39m\u001b[38;5;124midx\u001b[39m\u001b[38;5;124m'\u001b[39m] \u001b[38;5;241m=\u001b[39m \u001b[38;5;28mrange\u001b[39m(\u001b[38;5;241m1\u001b[39m, \u001b[38;5;28mlen\u001b[39m(data) \u001b[38;5;241m+\u001b[39m \u001b[38;5;241m1\u001b[39m)\n",
      "File \u001b[0;32m/opt/conda/lib/python3.12/site-packages/pandas/io/parsers/readers.py:1026\u001b[0m, in \u001b[0;36mread_csv\u001b[0;34m(filepath_or_buffer, sep, delimiter, header, names, index_col, usecols, dtype, engine, converters, true_values, false_values, skipinitialspace, skiprows, skipfooter, nrows, na_values, keep_default_na, na_filter, verbose, skip_blank_lines, parse_dates, infer_datetime_format, keep_date_col, date_parser, date_format, dayfirst, cache_dates, iterator, chunksize, compression, thousands, decimal, lineterminator, quotechar, quoting, doublequote, escapechar, comment, encoding, encoding_errors, dialect, on_bad_lines, delim_whitespace, low_memory, memory_map, float_precision, storage_options, dtype_backend)\u001b[0m\n\u001b[1;32m   1013\u001b[0m kwds_defaults \u001b[38;5;241m=\u001b[39m _refine_defaults_read(\n\u001b[1;32m   1014\u001b[0m     dialect,\n\u001b[1;32m   1015\u001b[0m     delimiter,\n\u001b[0;32m   (...)\u001b[0m\n\u001b[1;32m   1022\u001b[0m     dtype_backend\u001b[38;5;241m=\u001b[39mdtype_backend,\n\u001b[1;32m   1023\u001b[0m )\n\u001b[1;32m   1024\u001b[0m kwds\u001b[38;5;241m.\u001b[39mupdate(kwds_defaults)\n\u001b[0;32m-> 1026\u001b[0m \u001b[38;5;28;01mreturn\u001b[39;00m _read(filepath_or_buffer, kwds)\n",
      "File \u001b[0;32m/opt/conda/lib/python3.12/site-packages/pandas/io/parsers/readers.py:620\u001b[0m, in \u001b[0;36m_read\u001b[0;34m(filepath_or_buffer, kwds)\u001b[0m\n\u001b[1;32m    617\u001b[0m _validate_names(kwds\u001b[38;5;241m.\u001b[39mget(\u001b[38;5;124m\"\u001b[39m\u001b[38;5;124mnames\u001b[39m\u001b[38;5;124m\"\u001b[39m, \u001b[38;5;28;01mNone\u001b[39;00m))\n\u001b[1;32m    619\u001b[0m \u001b[38;5;66;03m# Create the parser.\u001b[39;00m\n\u001b[0;32m--> 620\u001b[0m parser \u001b[38;5;241m=\u001b[39m TextFileReader(filepath_or_buffer, \u001b[38;5;241m*\u001b[39m\u001b[38;5;241m*\u001b[39mkwds)\n\u001b[1;32m    622\u001b[0m \u001b[38;5;28;01mif\u001b[39;00m chunksize \u001b[38;5;129;01mor\u001b[39;00m iterator:\n\u001b[1;32m    623\u001b[0m     \u001b[38;5;28;01mreturn\u001b[39;00m parser\n",
      "File \u001b[0;32m/opt/conda/lib/python3.12/site-packages/pandas/io/parsers/readers.py:1620\u001b[0m, in \u001b[0;36mTextFileReader.__init__\u001b[0;34m(self, f, engine, **kwds)\u001b[0m\n\u001b[1;32m   1617\u001b[0m     \u001b[38;5;28mself\u001b[39m\u001b[38;5;241m.\u001b[39moptions[\u001b[38;5;124m\"\u001b[39m\u001b[38;5;124mhas_index_names\u001b[39m\u001b[38;5;124m\"\u001b[39m] \u001b[38;5;241m=\u001b[39m kwds[\u001b[38;5;124m\"\u001b[39m\u001b[38;5;124mhas_index_names\u001b[39m\u001b[38;5;124m\"\u001b[39m]\n\u001b[1;32m   1619\u001b[0m \u001b[38;5;28mself\u001b[39m\u001b[38;5;241m.\u001b[39mhandles: IOHandles \u001b[38;5;241m|\u001b[39m \u001b[38;5;28;01mNone\u001b[39;00m \u001b[38;5;241m=\u001b[39m \u001b[38;5;28;01mNone\u001b[39;00m\n\u001b[0;32m-> 1620\u001b[0m \u001b[38;5;28mself\u001b[39m\u001b[38;5;241m.\u001b[39m_engine \u001b[38;5;241m=\u001b[39m \u001b[38;5;28mself\u001b[39m\u001b[38;5;241m.\u001b[39m_make_engine(f, \u001b[38;5;28mself\u001b[39m\u001b[38;5;241m.\u001b[39mengine)\n",
      "File \u001b[0;32m/opt/conda/lib/python3.12/site-packages/pandas/io/parsers/readers.py:1880\u001b[0m, in \u001b[0;36mTextFileReader._make_engine\u001b[0;34m(self, f, engine)\u001b[0m\n\u001b[1;32m   1878\u001b[0m     \u001b[38;5;28;01mif\u001b[39;00m \u001b[38;5;124m\"\u001b[39m\u001b[38;5;124mb\u001b[39m\u001b[38;5;124m\"\u001b[39m \u001b[38;5;129;01mnot\u001b[39;00m \u001b[38;5;129;01min\u001b[39;00m mode:\n\u001b[1;32m   1879\u001b[0m         mode \u001b[38;5;241m+\u001b[39m\u001b[38;5;241m=\u001b[39m \u001b[38;5;124m\"\u001b[39m\u001b[38;5;124mb\u001b[39m\u001b[38;5;124m\"\u001b[39m\n\u001b[0;32m-> 1880\u001b[0m \u001b[38;5;28mself\u001b[39m\u001b[38;5;241m.\u001b[39mhandles \u001b[38;5;241m=\u001b[39m get_handle(\n\u001b[1;32m   1881\u001b[0m     f,\n\u001b[1;32m   1882\u001b[0m     mode,\n\u001b[1;32m   1883\u001b[0m     encoding\u001b[38;5;241m=\u001b[39m\u001b[38;5;28mself\u001b[39m\u001b[38;5;241m.\u001b[39moptions\u001b[38;5;241m.\u001b[39mget(\u001b[38;5;124m\"\u001b[39m\u001b[38;5;124mencoding\u001b[39m\u001b[38;5;124m\"\u001b[39m, \u001b[38;5;28;01mNone\u001b[39;00m),\n\u001b[1;32m   1884\u001b[0m     compression\u001b[38;5;241m=\u001b[39m\u001b[38;5;28mself\u001b[39m\u001b[38;5;241m.\u001b[39moptions\u001b[38;5;241m.\u001b[39mget(\u001b[38;5;124m\"\u001b[39m\u001b[38;5;124mcompression\u001b[39m\u001b[38;5;124m\"\u001b[39m, \u001b[38;5;28;01mNone\u001b[39;00m),\n\u001b[1;32m   1885\u001b[0m     memory_map\u001b[38;5;241m=\u001b[39m\u001b[38;5;28mself\u001b[39m\u001b[38;5;241m.\u001b[39moptions\u001b[38;5;241m.\u001b[39mget(\u001b[38;5;124m\"\u001b[39m\u001b[38;5;124mmemory_map\u001b[39m\u001b[38;5;124m\"\u001b[39m, \u001b[38;5;28;01mFalse\u001b[39;00m),\n\u001b[1;32m   1886\u001b[0m     is_text\u001b[38;5;241m=\u001b[39mis_text,\n\u001b[1;32m   1887\u001b[0m     errors\u001b[38;5;241m=\u001b[39m\u001b[38;5;28mself\u001b[39m\u001b[38;5;241m.\u001b[39moptions\u001b[38;5;241m.\u001b[39mget(\u001b[38;5;124m\"\u001b[39m\u001b[38;5;124mencoding_errors\u001b[39m\u001b[38;5;124m\"\u001b[39m, \u001b[38;5;124m\"\u001b[39m\u001b[38;5;124mstrict\u001b[39m\u001b[38;5;124m\"\u001b[39m),\n\u001b[1;32m   1888\u001b[0m     storage_options\u001b[38;5;241m=\u001b[39m\u001b[38;5;28mself\u001b[39m\u001b[38;5;241m.\u001b[39moptions\u001b[38;5;241m.\u001b[39mget(\u001b[38;5;124m\"\u001b[39m\u001b[38;5;124mstorage_options\u001b[39m\u001b[38;5;124m\"\u001b[39m, \u001b[38;5;28;01mNone\u001b[39;00m),\n\u001b[1;32m   1889\u001b[0m )\n\u001b[1;32m   1890\u001b[0m \u001b[38;5;28;01massert\u001b[39;00m \u001b[38;5;28mself\u001b[39m\u001b[38;5;241m.\u001b[39mhandles \u001b[38;5;129;01mis\u001b[39;00m \u001b[38;5;129;01mnot\u001b[39;00m \u001b[38;5;28;01mNone\u001b[39;00m\n\u001b[1;32m   1891\u001b[0m f \u001b[38;5;241m=\u001b[39m \u001b[38;5;28mself\u001b[39m\u001b[38;5;241m.\u001b[39mhandles\u001b[38;5;241m.\u001b[39mhandle\n",
      "File \u001b[0;32m/opt/conda/lib/python3.12/site-packages/pandas/io/common.py:873\u001b[0m, in \u001b[0;36mget_handle\u001b[0;34m(path_or_buf, mode, encoding, compression, memory_map, is_text, errors, storage_options)\u001b[0m\n\u001b[1;32m    868\u001b[0m \u001b[38;5;28;01melif\u001b[39;00m \u001b[38;5;28misinstance\u001b[39m(handle, \u001b[38;5;28mstr\u001b[39m):\n\u001b[1;32m    869\u001b[0m     \u001b[38;5;66;03m# Check whether the filename is to be opened in binary mode.\u001b[39;00m\n\u001b[1;32m    870\u001b[0m     \u001b[38;5;66;03m# Binary mode does not support 'encoding' and 'newline'.\u001b[39;00m\n\u001b[1;32m    871\u001b[0m     \u001b[38;5;28;01mif\u001b[39;00m ioargs\u001b[38;5;241m.\u001b[39mencoding \u001b[38;5;129;01mand\u001b[39;00m \u001b[38;5;124m\"\u001b[39m\u001b[38;5;124mb\u001b[39m\u001b[38;5;124m\"\u001b[39m \u001b[38;5;129;01mnot\u001b[39;00m \u001b[38;5;129;01min\u001b[39;00m ioargs\u001b[38;5;241m.\u001b[39mmode:\n\u001b[1;32m    872\u001b[0m         \u001b[38;5;66;03m# Encoding\u001b[39;00m\n\u001b[0;32m--> 873\u001b[0m         handle \u001b[38;5;241m=\u001b[39m \u001b[38;5;28mopen\u001b[39m(\n\u001b[1;32m    874\u001b[0m             handle,\n\u001b[1;32m    875\u001b[0m             ioargs\u001b[38;5;241m.\u001b[39mmode,\n\u001b[1;32m    876\u001b[0m             encoding\u001b[38;5;241m=\u001b[39mioargs\u001b[38;5;241m.\u001b[39mencoding,\n\u001b[1;32m    877\u001b[0m             errors\u001b[38;5;241m=\u001b[39merrors,\n\u001b[1;32m    878\u001b[0m             newline\u001b[38;5;241m=\u001b[39m\u001b[38;5;124m\"\u001b[39m\u001b[38;5;124m\"\u001b[39m,\n\u001b[1;32m    879\u001b[0m         )\n\u001b[1;32m    880\u001b[0m     \u001b[38;5;28;01melse\u001b[39;00m:\n\u001b[1;32m    881\u001b[0m         \u001b[38;5;66;03m# Binary mode\u001b[39;00m\n\u001b[1;32m    882\u001b[0m         handle \u001b[38;5;241m=\u001b[39m \u001b[38;5;28mopen\u001b[39m(handle, ioargs\u001b[38;5;241m.\u001b[39mmode)\n",
      "\u001b[0;31mFileNotFoundError\u001b[0m: [Errno 2] No such file or directory: 'inst/extdata/fetal_sex_imp_train_set.csv'"
     ]
    }
   ],
   "source": [
    "prefix = 'fetal_sex_imp'\n",
    "model_name = 'RandomForestClassifier'\n",
    "custom_precision = make_scorer(precision_score, zero_division=0)\n",
    "train_and_save_model(prefix, seed, models_and_params[model_name], cv=2, scoring=custom_precision)\n",
    "load_and_predict(prefix)"
   ]
  },
  {
   "cell_type": "code",
   "execution_count": 7,
   "id": "660cbb17-969d-46e9-a024-2434d9b0f682",
   "metadata": {},
   "outputs": [
    {
     "name": "stdout",
     "output_type": "stream",
     "text": [
      "Test indices saved at inst/extdata/ga_est_test_idx.csv\n",
      "Scaler saved at inst/extdata/ga_est_scaler.joblib\n",
      "Model saved at inst/extdata/ga_est_best_model.joblib\n"
     ]
    }
   ],
   "source": [
    "prefix = 'ga_est'\n",
    "model_name = 'ElasticNet'\n",
    "neg_mse_scorer = make_scorer(mean_squared_error, greater_is_better=False)\n",
    "train_and_save_model(prefix, seed, models_and_params[model_name], cv=3, scoring=neg_mse_scorer, task = 'regression')"
   ]
  },
  {
   "cell_type": "code",
   "execution_count": 8,
   "id": "aecef5be-5c91-4827-b59f-96bd2e4c4b89",
   "metadata": {},
   "outputs": [
    {
     "name": "stdout",
     "output_type": "stream",
     "text": [
      "Predictions saved at inst/extdata/ga_est_predictions.csv\n"
     ]
    }
   ],
   "source": [
    "prefix = 'ga_est'\n",
    "model_name = 'ElasticNet'\n",
    "load_and_predict(prefix)"
   ]
  },
  {
   "cell_type": "code",
   "execution_count": 5,
   "id": "545deaba-7fe8-42dd-9f4d-8ec0d0f12d22",
   "metadata": {},
   "outputs": [
    {
     "name": "stdout",
     "output_type": "stream",
     "text": [
      "Scaler saved at inst/extdata/ga_rtc_est_scaler.joblib\n",
      "Model saved at inst/extdata/ga_rtc_est_best_model.joblib\n",
      "Root Mean Squared Error: 1.25\n",
      "Mean Absolute Error: 0.82\n",
      "R^2: 0.43\n"
     ]
    }
   ],
   "source": [
    "prefix = 'ga_rtc_est'\n",
    "model_name = 'ElasticNet'\n",
    "neg_mse_scorer = make_scorer(mean_squared_error, greater_is_better=False)\n",
    "train_and_save_model(prefix, seed, models_and_params[model_name], cv=5, scoring=neg_mse_scorer, task = 'regression')"
   ]
  },
  {
   "cell_type": "code",
   "execution_count": 6,
   "id": "97efe07c-c2b8-4498-bac2-2da73eca36f9",
   "metadata": {},
   "outputs": [
    {
     "name": "stdout",
     "output_type": "stream",
     "text": [
      "Predictions saved at inst/extdata/ga_rtc_est_predictions.csv\n"
     ]
    }
   ],
   "source": [
    "prefix = 'ga_rtc_est'\n",
    "model_name = 'ElasticNet'\n",
    "load_and_predict(prefix)"
   ]
  },
  {
   "cell_type": "code",
   "execution_count": 8,
   "id": "4517bfa9-ad54-4cef-841c-a3a8ad8a33f7",
   "metadata": {
    "scrolled": true
   },
   "outputs": [
    {
     "name": "stdout",
     "output_type": "stream",
     "text": [
      "Scaler saved at inst/extdata/ga_rtc_rf_est_scaler.joblib\n",
      "Model saved at inst/extdata/ga_rtc_rf_est_best_model.joblib\n",
      "Root Mean Squared Error: 1.22\n",
      "Mean Absolute Error: 0.77\n",
      "R^2: 0.46\n"
     ]
    }
   ],
   "source": [
    "prefix = 'ga_rtc_rf_est'\n",
    "model_name = 'RandomForestRegressor'\n",
    "neg_mse_scorer = make_scorer(mean_squared_error, greater_is_better=False)\n",
    "train_and_save_model(prefix, seed, models_and_params[model_name], cv=5, scoring=neg_mse_scorer, task = 'regression')"
   ]
  },
  {
   "cell_type": "code",
   "execution_count": 9,
   "id": "13810a64-197a-412e-ab48-8a2a40315267",
   "metadata": {},
   "outputs": [
    {
     "name": "stdout",
     "output_type": "stream",
     "text": [
      "Predictions saved at inst/extdata/ga_rtc_rf_est_predictions.csv\n"
     ]
    }
   ],
   "source": [
    "prefix = 'ga_rtc_rf_est'\n",
    "model_name = 'RandomForestRegressor'\n",
    "load_and_predict(prefix)"
   ]
  },
  {
   "cell_type": "code",
   "execution_count": 25,
   "id": "10a0ff68-f6e7-4f26-ba93-e4d35a26423e",
   "metadata": {},
   "outputs": [
    {
     "name": "stdout",
     "output_type": "stream",
     "text": [
      "Scaler saved at inst/extdata/ga_res_est_scaler.joblib\n",
      "Model saved at inst/extdata/ga_res_est_best_model.joblib\n",
      "Root Mean Squared Error: 1.48\n",
      "Mean Absolute Error: 1.01\n",
      "R^2: 0.28\n"
     ]
    }
   ],
   "source": [
    "prefix = 'ga_res_est'\n",
    "model_name = 'ElasticNet'\n",
    "neg_mse_scorer = make_scorer(mean_squared_error, greater_is_better=False)\n",
    "train_and_save_model(prefix, seed, model_name, cv=5, scoring=neg_mse_scorer, task = 'regression')"
   ]
  },
  {
   "cell_type": "code",
   "execution_count": 28,
   "id": "45de6311-a4ff-4e7c-8b08-4ca7276e07c0",
   "metadata": {},
   "outputs": [
    {
     "name": "stdout",
     "output_type": "stream",
     "text": [
      "Predictions saved at inst/extdata/ga_res_est_predictions.csv\n"
     ]
    }
   ],
   "source": [
    "prefix = 'ga_res_est'\n",
    "model_name = 'ElasticNet'\n",
    "load_and_predict(prefix)"
   ]
  },
  {
   "cell_type": "code",
   "execution_count": null,
   "id": "fb6a2211-ea10-4771-9a89-a897dbdf1fae",
   "metadata": {},
   "outputs": [],
   "source": [
    "prefix = 'ga_res_rf_est'\n",
    "model_name = 'RandomForestRegressor'\n",
    "train_and_save_model(prefix, seed, model_name, task = 'regression')"
   ]
  },
  {
   "cell_type": "code",
   "execution_count": null,
   "id": "ef3104ab-3444-4bce-9f07-479b7d55637f",
   "metadata": {},
   "outputs": [],
   "source": [
    "prefix = 'ga_res_rf_est'\n",
    "model_name = 'RandomForestRegressor'\n",
    "load_and_predict(prefix)"
   ]
  },
  {
   "cell_type": "code",
   "execution_count": null,
   "id": "43c10a25-2414-48de-8966-518efb739a28",
   "metadata": {},
   "outputs": [],
   "source": [
    "prefix = 'ga_res_cr_est'\n",
    "model_name = 'ElasticNet'\n",
    "neg_mse_scorer = make_scorer(mean_squared_error, greater_is_better=False)\n",
    "train_and_save_model(prefix, seed, model_name, cv=5, scoring=neg_mse_scorer, task = 'regression')"
   ]
  },
  {
   "cell_type": "code",
   "execution_count": null,
   "id": "cdbed715-21fd-4e17-819f-f9c837bdbb8e",
   "metadata": {},
   "outputs": [],
   "source": [
    "prefix = 'ga_res_cr_est'\n",
    "model_name = 'ElasticNet'\n",
    "load_and_predict(prefix)"
   ]
  },
  {
   "cell_type": "code",
   "execution_count": null,
   "id": "6c2c45e9-6b23-494a-85d5-5dd12fc573e9",
   "metadata": {},
   "outputs": [],
   "source": [
    "prefix = 'ga_res_cr_rf_est'\n",
    "model_name = 'RandomForestRegressor'\n",
    "train_and_save_model(prefix, seed, model_name, task = 'regression')"
   ]
  },
  {
   "cell_type": "code",
   "execution_count": null,
   "id": "65f9380a-3a11-451e-af7d-b76508bf4307",
   "metadata": {},
   "outputs": [],
   "source": [
    "prefix = 'ga_res_cr_rf_est'\n",
    "model_name = 'RandomForestRegressor'\n",
    "load_and_predict(prefix)"
   ]
  },
  {
   "cell_type": "code",
   "execution_count": 5,
   "id": "04932f7c-3c7b-413e-85ce-44f681a39648",
   "metadata": {},
   "outputs": [
    {
     "name": "stdout",
     "output_type": "stream",
     "text": [
      "Scaler saved at inst/extdata/ga_resfull_est_scaler.joblib\n",
      "Model saved at inst/extdata/ga_resfull_est_best_model.joblib\n",
      "Root Mean Squared Error: 1.30\n",
      "Mean Absolute Error: 0.91\n",
      "R^2: 0.45\n"
     ]
    }
   ],
   "source": [
    "prefix = 'ga_resfull_est'\n",
    "model_name = 'ElasticNet'\n",
    "neg_mse_scorer = make_scorer(mean_squared_error, greater_is_better=False)\n",
    "train_and_save_model(prefix, seed, models_and_params[model_name], cv=5, scoring=neg_mse_scorer, task = 'regression')"
   ]
  },
  {
   "cell_type": "code",
   "execution_count": 6,
   "id": "5684dd98-e70f-4559-b121-af5b791eb7ab",
   "metadata": {},
   "outputs": [
    {
     "name": "stdout",
     "output_type": "stream",
     "text": [
      "Predictions saved at inst/extdata/ga_resfull_est_predictions.csv\n"
     ]
    }
   ],
   "source": [
    "prefix = 'ga_resfull_est'\n",
    "model_name = 'ElasticNet'\n",
    "load_and_predict(prefix)"
   ]
  },
  {
   "cell_type": "code",
   "execution_count": 30,
   "id": "0e4d36b8-fae5-44b1-8c75-19ef78ec8803",
   "metadata": {},
   "outputs": [
    {
     "name": "stdout",
     "output_type": "stream",
     "text": [
      "Scaler saved at inst/extdata/ga_resfull_rf_est_scaler.joblib\n",
      "Model saved at inst/extdata/ga_resfull_rf_est_best_model.joblib\n"
     ]
    }
   ],
   "source": [
    "prefix = 'ga_resfull_rf_est'\n",
    "model_name = 'RandomForestRegressor'\n",
    "neg_mse_scorer = make_scorer(mean_squared_error, greater_is_better=False)\n",
    "train_and_save_model(prefix, seed, models_and_params[model_name], cv=5, scoring=neg_mse_scorer, task = 'regression')"
   ]
  },
  {
   "cell_type": "code",
   "execution_count": 31,
   "id": "8bda5545-3103-48a6-9428-9fd5a71d0183",
   "metadata": {},
   "outputs": [
    {
     "name": "stdout",
     "output_type": "stream",
     "text": [
      "Predictions saved at inst/extdata/ga_resfull_rf_est_predictions.csv\n"
     ]
    }
   ],
   "source": [
    "prefix = 'ga_resfull_rf_est'\n",
    "model_name = 'RandomForestRegressor'\n",
    "load_and_predict(prefix)"
   ]
  },
  {
   "cell_type": "code",
   "execution_count": 6,
   "id": "e5354886-5885-4696-a4f7-74716dfadec9",
   "metadata": {},
   "outputs": [
    {
     "name": "stdout",
     "output_type": "stream",
     "text": [
      "Scaler saved at inst/extdata/ga_res_sr1_est_scaler.joblib\n",
      "Model saved at inst/extdata/ga_res_sr1_est_best_model.joblib\n",
      "Root Mean Squared Error: 1.71\n",
      "Mean Absolute Error: 1.12\n",
      "R^2: 0.04\n"
     ]
    }
   ],
   "source": [
    "prefix = 'ga_res_sr1_est'\n",
    "model_name = 'ElasticNet'\n",
    "neg_mse_scorer = make_scorer(mean_squared_error, greater_is_better=False)\n",
    "train_and_save_model(prefix, seed, models_and_params[model_name], cv=5, scoring=neg_mse_scorer, task = 'regression')"
   ]
  },
  {
   "cell_type": "code",
   "execution_count": 7,
   "id": "3fc115f0-d13b-4fad-ab8f-64e033608042",
   "metadata": {},
   "outputs": [
    {
     "name": "stdout",
     "output_type": "stream",
     "text": [
      "Predictions saved at inst/extdata/ga_res_sr1_est_predictions.csv\n"
     ]
    }
   ],
   "source": [
    "prefix = 'ga_res_sr1_est'\n",
    "model_name = 'ElasticNet'\n",
    "load_and_predict(prefix)"
   ]
  },
  {
   "cell_type": "code",
   "execution_count": 10,
   "id": "b266a5bb-97c7-4472-aa02-047b460182b2",
   "metadata": {},
   "outputs": [
    {
     "name": "stdout",
     "output_type": "stream",
     "text": [
      "Scaler saved at inst/extdata/ga_res_sr2_est_scaler.joblib\n",
      "Model saved at inst/extdata/ga_res_sr2_est_best_model.joblib\n",
      "Root Mean Squared Error: 1.71\n",
      "Mean Absolute Error: 1.09\n",
      "R^2: 0.00\n"
     ]
    }
   ],
   "source": [
    "prefix = 'ga_res_sr2_est'\n",
    "model_name = 'ElasticNet'\n",
    "neg_mse_scorer = make_scorer(mean_squared_error, greater_is_better=False)\n",
    "train_and_save_model(prefix, seed, models_and_params[model_name], cv=5, scoring=neg_mse_scorer, task = 'regression')"
   ]
  },
  {
   "cell_type": "code",
   "execution_count": 11,
   "id": "ed617200-25b2-4a1a-a4b2-139681ddf7dd",
   "metadata": {},
   "outputs": [
    {
     "name": "stdout",
     "output_type": "stream",
     "text": [
      "Predictions saved at inst/extdata/ga_res_sr2_est_predictions.csv\n"
     ]
    }
   ],
   "source": [
    "prefix = 'ga_res_sr2_est'\n",
    "model_name = 'ElasticNet'\n",
    "load_and_predict(prefix)"
   ]
  },
  {
   "cell_type": "code",
   "execution_count": 14,
   "id": "968b8a12-9ef5-442b-8bfb-94841f6b69a4",
   "metadata": {},
   "outputs": [
    {
     "name": "stdout",
     "output_type": "stream",
     "text": [
      "Scaler saved at inst/extdata/ga_res_sr3_est_scaler.joblib\n",
      "Model saved at inst/extdata/ga_res_sr3_est_best_model.joblib\n",
      "Root Mean Squared Error: 1.69\n",
      "Mean Absolute Error: 1.08\n",
      "R^2: 0.02\n"
     ]
    }
   ],
   "source": [
    "prefix = 'ga_res_sr3_est'\n",
    "model_name = 'ElasticNet'\n",
    "neg_mse_scorer = make_scorer(mean_squared_error, greater_is_better=False)\n",
    "train_and_save_model(prefix, seed, models_and_params[model_name], cv=5, scoring=neg_mse_scorer, task = 'regression')"
   ]
  },
  {
   "cell_type": "code",
   "execution_count": 15,
   "id": "756177aa-de96-402e-9eef-eef34729d61b",
   "metadata": {},
   "outputs": [
    {
     "name": "stdout",
     "output_type": "stream",
     "text": [
      "Predictions saved at inst/extdata/ga_res_sr3_est_predictions.csv\n"
     ]
    }
   ],
   "source": [
    "prefix = 'ga_res_sr3_est'\n",
    "model_name = 'ElasticNet'\n",
    "load_and_predict(prefix)"
   ]
  },
  {
   "cell_type": "code",
   "execution_count": 18,
   "id": "faf7dd28-157a-4d46-9aac-26ccbbe3df20",
   "metadata": {},
   "outputs": [
    {
     "name": "stdout",
     "output_type": "stream",
     "text": [
      "Scaler saved at inst/extdata/ga_res_sr4_est_scaler.joblib\n",
      "Model saved at inst/extdata/ga_res_sr4_est_best_model.joblib\n",
      "Root Mean Squared Error: 1.69\n",
      "Mean Absolute Error: 1.08\n",
      "R^2: -0.00\n"
     ]
    }
   ],
   "source": [
    "prefix = 'ga_res_sr4_est'\n",
    "model_name = 'ElasticNet'\n",
    "neg_mse_scorer = make_scorer(mean_squared_error, greater_is_better=False)\n",
    "train_and_save_model(prefix, seed, models_and_params[model_name], cv=5, scoring=neg_mse_scorer, task = 'regression')"
   ]
  },
  {
   "cell_type": "code",
   "execution_count": 19,
   "id": "bdd3b9ed-9502-4ed5-93cc-71204f6fc47e",
   "metadata": {},
   "outputs": [
    {
     "name": "stdout",
     "output_type": "stream",
     "text": [
      "Predictions saved at inst/extdata/ga_res_sr4_est_predictions.csv\n"
     ]
    }
   ],
   "source": [
    "prefix = 'ga_res_sr4_est'\n",
    "model_name = 'ElasticNet'\n",
    "load_and_predict(prefix)"
   ]
  },
  {
   "cell_type": "code",
   "execution_count": 22,
   "id": "44236441-4bd8-4a0e-882c-f9dd9476b236",
   "metadata": {},
   "outputs": [
    {
     "name": "stdout",
     "output_type": "stream",
     "text": [
      "Scaler saved at inst/extdata/ga_res_sr_est_scaler.joblib\n",
      "Model saved at inst/extdata/ga_res_sr_est_best_model.joblib\n",
      "Root Mean Squared Error: 1.69\n",
      "Mean Absolute Error: 1.08\n",
      "R^2: 0.00\n"
     ]
    }
   ],
   "source": [
    "prefix = 'ga_res_sr_est'\n",
    "model_name = 'ElasticNet'\n",
    "neg_mse_scorer = make_scorer(mean_squared_error, greater_is_better=False)\n",
    "train_and_save_model(prefix, seed, models_and_params[model_name], cv=5, scoring=neg_mse_scorer, task = 'regression')"
   ]
  },
  {
   "cell_type": "code",
   "execution_count": 23,
   "id": "7d320fa0-c37f-4483-80ce-85401c2c338f",
   "metadata": {},
   "outputs": [
    {
     "name": "stdout",
     "output_type": "stream",
     "text": [
      "Predictions saved at inst/extdata/ga_res_sr_est_predictions.csv\n"
     ]
    }
   ],
   "source": [
    "prefix = 'ga_res_sr_est'\n",
    "model_name = 'ElasticNet'\n",
    "load_and_predict(prefix)"
   ]
  },
  {
   "cell_type": "code",
   "execution_count": 8,
   "id": "0421cf99-78f2-4cf7-b251-5b518326038b",
   "metadata": {},
   "outputs": [
    {
     "name": "stdout",
     "output_type": "stream",
     "text": [
      "Scaler saved at inst/extdata/ga_res_sr1_rf_est_scaler.joblib\n",
      "Model saved at inst/extdata/ga_res_sr1_rf_est_best_model.joblib\n",
      "Root Mean Squared Error: 1.60\n",
      "Mean Absolute Error: 1.14\n",
      "R^2: 0.16\n"
     ]
    }
   ],
   "source": [
    "prefix = 'ga_res_sr1_rf_est'\n",
    "model_name = 'RandomForestRegressor'\n",
    "neg_mse_scorer = make_scorer(mean_squared_error, greater_is_better=False)\n",
    "train_and_save_model(prefix, seed, models_and_params[model_name], cv=5, scoring=neg_mse_scorer, task = 'regression')"
   ]
  },
  {
   "cell_type": "code",
   "execution_count": 9,
   "id": "c9f7f5d3-04fd-46c5-9d37-614d5b6ba3f1",
   "metadata": {},
   "outputs": [
    {
     "name": "stdout",
     "output_type": "stream",
     "text": [
      "Predictions saved at inst/extdata/ga_res_sr1_rf_est_predictions.csv\n"
     ]
    }
   ],
   "source": [
    "prefix = 'ga_res_sr1_rf_est'\n",
    "model_name = 'RandomForestRegressor'\n",
    "load_and_predict(prefix)"
   ]
  },
  {
   "cell_type": "code",
   "execution_count": 12,
   "id": "086ee955-811b-4418-993e-d070bf3099ce",
   "metadata": {},
   "outputs": [
    {
     "name": "stdout",
     "output_type": "stream",
     "text": [
      "Scaler saved at inst/extdata/ga_res_sr2_rf_est_scaler.joblib\n",
      "Model saved at inst/extdata/ga_res_sr2_rf_est_best_model.joblib\n",
      "Root Mean Squared Error: 1.53\n",
      "Mean Absolute Error: 1.09\n",
      "R^2: 0.09\n"
     ]
    }
   ],
   "source": [
    "prefix = 'ga_res_sr2_rf_est'\n",
    "model_name = 'RandomForestRegressor'\n",
    "neg_mse_scorer = make_scorer(mean_squared_error, greater_is_better=False)\n",
    "train_and_save_model(prefix, seed, models_and_params[model_name], cv=5, scoring=neg_mse_scorer, task = 'regression')"
   ]
  },
  {
   "cell_type": "code",
   "execution_count": 13,
   "id": "fb490a50-e20b-4b8b-98b2-b1cc71bed49d",
   "metadata": {},
   "outputs": [
    {
     "name": "stdout",
     "output_type": "stream",
     "text": [
      "Predictions saved at inst/extdata/ga_res_sr2_rf_est_predictions.csv\n"
     ]
    }
   ],
   "source": [
    "prefix = 'ga_res_sr2_rf_est'\n",
    "model_name = 'RandomForestRegressor'\n",
    "load_and_predict(prefix)"
   ]
  },
  {
   "cell_type": "code",
   "execution_count": 16,
   "id": "420cb79e-9322-4a52-a9b4-5764cf8acb3b",
   "metadata": {},
   "outputs": [
    {
     "name": "stdout",
     "output_type": "stream",
     "text": [
      "Scaler saved at inst/extdata/ga_res_sr3_rf_est_scaler.joblib\n",
      "Model saved at inst/extdata/ga_res_sr3_rf_est_best_model.joblib\n",
      "Root Mean Squared Error: 1.50\n",
      "Mean Absolute Error: 0.95\n",
      "R^2: 0.14\n"
     ]
    }
   ],
   "source": [
    "prefix = 'ga_res_sr3_rf_est'\n",
    "model_name = 'RandomForestRegressor'\n",
    "neg_mse_scorer = make_scorer(mean_squared_error, greater_is_better=False)\n",
    "train_and_save_model(prefix, seed, models_and_params[model_name], cv=5, scoring=neg_mse_scorer, task = 'regression')"
   ]
  },
  {
   "cell_type": "code",
   "execution_count": 17,
   "id": "12f971b0-3ec0-443e-95c7-ed7b9b55edaf",
   "metadata": {},
   "outputs": [
    {
     "name": "stdout",
     "output_type": "stream",
     "text": [
      "Predictions saved at inst/extdata/ga_res_sr3_rf_est_predictions.csv\n"
     ]
    }
   ],
   "source": [
    "prefix = 'ga_res_sr3_rf_est'\n",
    "model_name = 'RandomForestRegressor'\n",
    "load_and_predict(prefix)"
   ]
  },
  {
   "cell_type": "code",
   "execution_count": 20,
   "id": "34766dcd-4b90-405c-a451-5ff041288205",
   "metadata": {},
   "outputs": [
    {
     "name": "stdout",
     "output_type": "stream",
     "text": [
      "Scaler saved at inst/extdata/ga_res_sr4_rf_est_scaler.joblib\n",
      "Model saved at inst/extdata/ga_res_sr4_rf_est_best_model.joblib\n",
      "Root Mean Squared Error: 1.56\n",
      "Mean Absolute Error: 1.00\n",
      "R^2: 0.01\n"
     ]
    }
   ],
   "source": [
    "prefix = 'ga_res_sr4_rf_est'\n",
    "model_name = 'RandomForestRegressor'\n",
    "neg_mse_scorer = make_scorer(mean_squared_error, greater_is_better=False)\n",
    "train_and_save_model(prefix, seed, models_and_params[model_name], cv=5, scoring=neg_mse_scorer, task = 'regression')"
   ]
  },
  {
   "cell_type": "code",
   "execution_count": 21,
   "id": "fe1829a6-6c20-4d59-8f72-a1ef63dbe44b",
   "metadata": {},
   "outputs": [
    {
     "name": "stdout",
     "output_type": "stream",
     "text": [
      "Predictions saved at inst/extdata/ga_res_sr4_rf_est_predictions.csv\n"
     ]
    }
   ],
   "source": [
    "prefix = 'ga_res_sr4_rf_est'\n",
    "model_name = 'RandomForestRegressor'\n",
    "load_and_predict(prefix)"
   ]
  },
  {
   "cell_type": "code",
   "execution_count": 24,
   "id": "2991f59a-951d-4224-9d0e-19d5d0c10f55",
   "metadata": {},
   "outputs": [
    {
     "name": "stdout",
     "output_type": "stream",
     "text": [
      "Scaler saved at inst/extdata/ga_res_sr_rf_est_scaler.joblib\n",
      "Model saved at inst/extdata/ga_res_sr_rf_est_best_model.joblib\n",
      "Root Mean Squared Error: 1.77\n",
      "Mean Absolute Error: 1.13\n",
      "R^2: -0.13\n"
     ]
    }
   ],
   "source": [
    "prefix = 'ga_res_sr_rf_est'\n",
    "model_name = 'RandomForestRegressor'\n",
    "neg_mse_scorer = make_scorer(mean_squared_error, greater_is_better=False)\n",
    "train_and_save_model(prefix, seed, models_and_params[model_name], cv=5, scoring=neg_mse_scorer, task = 'regression')"
   ]
  },
  {
   "cell_type": "code",
   "execution_count": 25,
   "id": "ef4fe4f1-07cd-42db-bce3-a7ab5e1995a2",
   "metadata": {},
   "outputs": [
    {
     "name": "stdout",
     "output_type": "stream",
     "text": [
      "Predictions saved at inst/extdata/ga_res_sr_rf_est_predictions.csv\n"
     ]
    }
   ],
   "source": [
    "prefix = 'ga_res_sr_rf_est'\n",
    "model_name = 'RandomForestRegressor'\n",
    "load_and_predict(prefix)"
   ]
  },
  {
   "cell_type": "code",
   "execution_count": 7,
   "id": "6da1115d-625d-47b7-ac33-b99313c2b4db",
   "metadata": {},
   "outputs": [
    {
     "name": "stdout",
     "output_type": "stream",
     "text": [
      "Scaler saved at inst/extdata/ga_res_cpg_pr_est_scaler.joblib\n",
      "Model saved at inst/extdata/ga_res_cpg_pr_est_best_model.joblib\n",
      "Root Mean Squared Error: 1.33\n",
      "Mean Absolute Error: 1.05\n",
      "R^2: 0.60\n"
     ]
    }
   ],
   "source": [
    "prefix = 'ga_res_cpg_pr_est'\n",
    "model_name = 'ElasticNet'\n",
    "neg_mse_scorer = make_scorer(mean_squared_error, greater_is_better=False)\n",
    "train_and_save_model(prefix, seed, models_and_params[model_name], cv=5, scoring=neg_mse_scorer, task = 'regression')"
   ]
  },
  {
   "cell_type": "code",
   "execution_count": 8,
   "id": "76897bfa-10cb-483a-8d04-22df0357f579",
   "metadata": {},
   "outputs": [
    {
     "name": "stdout",
     "output_type": "stream",
     "text": [
      "Predictions saved at inst/extdata/ga_res_cpg_pr_est_predictions.csv\n"
     ]
    }
   ],
   "source": [
    "prefix = 'ga_res_cpg_pr_est'\n",
    "model_name = 'ElasticNet'\n",
    "load_and_predict(prefix)"
   ]
  },
  {
   "cell_type": "code",
   "execution_count": 8,
   "id": "15fb5eaf-cfbd-4409-9ba7-4d0ee0f4b7e2",
   "metadata": {
    "scrolled": true
   },
   "outputs": [
    {
     "name": "stdout",
     "output_type": "stream",
     "text": [
      "Scaler saved at inst/extdata/ga_res_cpg_thr_est_scaler.joblib\n",
      "Model saved at inst/extdata/ga_res_cpg_thr_est_best_model.joblib\n",
      "Root Mean Squared Error: 1.11\n",
      "Mean Absolute Error: 0.81\n",
      "R^2: 0.38\n"
     ]
    }
   ],
   "source": [
    "prefix = 'ga_res_cpg_thr_est'\n",
    "model_name = 'ElasticNet'\n",
    "neg_mse_scorer = make_scorer(mean_squared_error, greater_is_better=False)\n",
    "train_and_save_model(prefix, seed, models_and_params[model_name], cv=5, scoring=neg_mse_scorer, task = 'regression')"
   ]
  },
  {
   "cell_type": "code",
   "execution_count": 9,
   "id": "1c2940d5-0215-4f38-b67b-06f744cb2d3f",
   "metadata": {},
   "outputs": [
    {
     "name": "stdout",
     "output_type": "stream",
     "text": [
      "Predictions saved at inst/extdata/ga_res_cpg_thr_est_predictions.csv\n"
     ]
    }
   ],
   "source": [
    "prefix = 'ga_res_cpg_thr_est'\n",
    "model_name = 'ElasticNet'\n",
    "load_and_predict(prefix)"
   ]
  },
  {
   "cell_type": "code",
   "execution_count": 5,
   "id": "a4d143d0-8eb6-4ab1-9fb0-ae97a369221f",
   "metadata": {},
   "outputs": [
    {
     "name": "stdout",
     "output_type": "stream",
     "text": [
      "Scaler saved at inst/extdata/ga_res_cpg_t_est_scaler.joblib\n",
      "Model saved at inst/extdata/ga_res_cpg_t_est_best_model.joblib\n",
      "Root Mean Squared Error: 1.08\n",
      "Mean Absolute Error: 0.70\n",
      "R^2: 0.38\n"
     ]
    }
   ],
   "source": [
    "prefix = 'ga_res_cpg_t_est'\n",
    "model_name = 'ElasticNet'\n",
    "neg_mse_scorer = make_scorer(mean_squared_error, greater_is_better=False)\n",
    "train_and_save_model(prefix, seed, models_and_params[model_name], cv=5, scoring=neg_mse_scorer, task = 'regression')"
   ]
  },
  {
   "cell_type": "code",
   "execution_count": 6,
   "id": "1e65cfdb-7061-4b1b-bbdc-da7ce61d464a",
   "metadata": {},
   "outputs": [
    {
     "name": "stdout",
     "output_type": "stream",
     "text": [
      "Predictions saved at inst/extdata/ga_res_cpg_t_est_predictions.csv\n"
     ]
    }
   ],
   "source": [
    "prefix = 'ga_res_cpg_t_est'\n",
    "model_name = 'ElasticNet'\n",
    "load_and_predict(prefix)"
   ]
  },
  {
   "cell_type": "code",
   "execution_count": 17,
   "id": "73f644b0-7b46-466e-8974-f5314086ce70",
   "metadata": {},
   "outputs": [
    {
     "name": "stdout",
     "output_type": "stream",
     "text": [
      "Test indices saved at inst/extdata/ga_res_conds_fgr_est_test_idx.csv\n",
      "Scaler saved at inst/extdata/ga_res_conds_fgr_est_scaler.joblib\n",
      "Model saved at inst/extdata/ga_res_conds_fgr_est_best_model.joblib\n"
     ]
    }
   ],
   "source": [
    "prefix = 'ga_res_conds_fgr_est'\n",
    "model_name = 'ElasticNet'\n",
    "neg_mse_scorer = make_scorer(mean_squared_error, greater_is_better=False)\n",
    "train_and_save_model(prefix, seed, models_and_params[model_name], cv=5, scoring=neg_mse_scorer, task = 'regression')"
   ]
  },
  {
   "cell_type": "code",
   "execution_count": 23,
   "id": "6ad3dfc9-859f-4e50-9e9a-9ed353fac4a2",
   "metadata": {},
   "outputs": [
    {
     "name": "stdout",
     "output_type": "stream",
     "text": [
      "Predictions saved at inst/extdata/ga_res_conds_fgr_est_predictions.csv\n"
     ]
    }
   ],
   "source": [
    "prefix = 'ga_res_conds_fgr_est'\n",
    "model_name = 'ElasticNet'\n",
    "load_and_predict(prefix)"
   ]
  },
  {
   "cell_type": "code",
   "execution_count": 21,
   "id": "b5fbe528-95ea-4577-9701-1a9f22782da8",
   "metadata": {},
   "outputs": [
    {
     "ename": "MemoryError",
     "evalue": "",
     "output_type": "error",
     "traceback": [
      "\u001b[1;31m---------------------------------------------------------------------------\u001b[0m",
      "\u001b[1;31mMemoryError\u001b[0m                               Traceback (most recent call last)",
      "Cell \u001b[1;32mIn[21], line 4\u001b[0m\n\u001b[0;32m      2\u001b[0m model_name \u001b[38;5;241m=\u001b[39m \u001b[38;5;124m'\u001b[39m\u001b[38;5;124mElasticNet\u001b[39m\u001b[38;5;124m'\u001b[39m\n\u001b[0;32m      3\u001b[0m neg_mse_scorer \u001b[38;5;241m=\u001b[39m make_scorer(mean_squared_error, greater_is_better\u001b[38;5;241m=\u001b[39m\u001b[38;5;28;01mFalse\u001b[39;00m)\n\u001b[1;32m----> 4\u001b[0m train_and_save_model(prefix, seed, models_and_params[model_name], cv\u001b[38;5;241m=\u001b[39m\u001b[38;5;241m5\u001b[39m, scoring\u001b[38;5;241m=\u001b[39mneg_mse_scorer, task \u001b[38;5;241m=\u001b[39m \u001b[38;5;124m'\u001b[39m\u001b[38;5;124mregression\u001b[39m\u001b[38;5;124m'\u001b[39m)\n",
      "File \u001b[1;32mD:\\herdian\\tmp_project_folders\\placental_clock_dream_task2\\utils0.py:48\u001b[0m, in \u001b[0;36mtrain_and_save_model\u001b[1;34m(prefix, seed, model_details, cv, scoring, task)\u001b[0m\n\u001b[0;32m     45\u001b[0m param_grid \u001b[38;5;241m=\u001b[39m model_details[\u001b[38;5;124m'\u001b[39m\u001b[38;5;124mparam_grid\u001b[39m\u001b[38;5;124m'\u001b[39m]\n\u001b[0;32m     47\u001b[0m \u001b[38;5;66;03m# Load the training dataset\u001b[39;00m\n\u001b[1;32m---> 48\u001b[0m data \u001b[38;5;241m=\u001b[39m pd\u001b[38;5;241m.\u001b[39mread_csv(\u001b[38;5;124mf\u001b[39m\u001b[38;5;124m'\u001b[39m\u001b[38;5;124minst/extdata/\u001b[39m\u001b[38;5;132;01m{\u001b[39;00mprefix\u001b[38;5;132;01m}\u001b[39;00m\u001b[38;5;124m_train_set.csv\u001b[39m\u001b[38;5;124m'\u001b[39m)\n\u001b[0;32m     50\u001b[0m \u001b[38;5;66;03m# Add an index column to keep track of original rows\u001b[39;00m\n\u001b[0;32m     51\u001b[0m data[\u001b[38;5;124m'\u001b[39m\u001b[38;5;124midx\u001b[39m\u001b[38;5;124m'\u001b[39m] \u001b[38;5;241m=\u001b[39m \u001b[38;5;28mrange\u001b[39m(\u001b[38;5;241m1\u001b[39m, \u001b[38;5;28mlen\u001b[39m(data) \u001b[38;5;241m+\u001b[39m \u001b[38;5;241m1\u001b[39m)\n",
      "File \u001b[1;32mD:\\herdian\\tmp_project_folders\\placental_clock_dream_task2\\placental_clock_dream_task2_env\\Lib\\site-packages\\pandas\\io\\parsers\\readers.py:1026\u001b[0m, in \u001b[0;36mread_csv\u001b[1;34m(filepath_or_buffer, sep, delimiter, header, names, index_col, usecols, dtype, engine, converters, true_values, false_values, skipinitialspace, skiprows, skipfooter, nrows, na_values, keep_default_na, na_filter, verbose, skip_blank_lines, parse_dates, infer_datetime_format, keep_date_col, date_parser, date_format, dayfirst, cache_dates, iterator, chunksize, compression, thousands, decimal, lineterminator, quotechar, quoting, doublequote, escapechar, comment, encoding, encoding_errors, dialect, on_bad_lines, delim_whitespace, low_memory, memory_map, float_precision, storage_options, dtype_backend)\u001b[0m\n\u001b[0;32m   1013\u001b[0m kwds_defaults \u001b[38;5;241m=\u001b[39m _refine_defaults_read(\n\u001b[0;32m   1014\u001b[0m     dialect,\n\u001b[0;32m   1015\u001b[0m     delimiter,\n\u001b[1;32m   (...)\u001b[0m\n\u001b[0;32m   1022\u001b[0m     dtype_backend\u001b[38;5;241m=\u001b[39mdtype_backend,\n\u001b[0;32m   1023\u001b[0m )\n\u001b[0;32m   1024\u001b[0m kwds\u001b[38;5;241m.\u001b[39mupdate(kwds_defaults)\n\u001b[1;32m-> 1026\u001b[0m \u001b[38;5;28;01mreturn\u001b[39;00m _read(filepath_or_buffer, kwds)\n",
      "File \u001b[1;32mD:\\herdian\\tmp_project_folders\\placental_clock_dream_task2\\placental_clock_dream_task2_env\\Lib\\site-packages\\pandas\\io\\parsers\\readers.py:626\u001b[0m, in \u001b[0;36m_read\u001b[1;34m(filepath_or_buffer, kwds)\u001b[0m\n\u001b[0;32m    623\u001b[0m     \u001b[38;5;28;01mreturn\u001b[39;00m parser\n\u001b[0;32m    625\u001b[0m \u001b[38;5;28;01mwith\u001b[39;00m parser:\n\u001b[1;32m--> 626\u001b[0m     \u001b[38;5;28;01mreturn\u001b[39;00m parser\u001b[38;5;241m.\u001b[39mread(nrows)\n",
      "File \u001b[1;32mD:\\herdian\\tmp_project_folders\\placental_clock_dream_task2\\placental_clock_dream_task2_env\\Lib\\site-packages\\pandas\\io\\parsers\\readers.py:1923\u001b[0m, in \u001b[0;36mTextFileReader.read\u001b[1;34m(self, nrows)\u001b[0m\n\u001b[0;32m   1916\u001b[0m nrows \u001b[38;5;241m=\u001b[39m validate_integer(\u001b[38;5;124m\"\u001b[39m\u001b[38;5;124mnrows\u001b[39m\u001b[38;5;124m\"\u001b[39m, nrows)\n\u001b[0;32m   1917\u001b[0m \u001b[38;5;28;01mtry\u001b[39;00m:\n\u001b[0;32m   1918\u001b[0m     \u001b[38;5;66;03m# error: \"ParserBase\" has no attribute \"read\"\u001b[39;00m\n\u001b[0;32m   1919\u001b[0m     (\n\u001b[0;32m   1920\u001b[0m         index,\n\u001b[0;32m   1921\u001b[0m         columns,\n\u001b[0;32m   1922\u001b[0m         col_dict,\n\u001b[1;32m-> 1923\u001b[0m     ) \u001b[38;5;241m=\u001b[39m \u001b[38;5;28mself\u001b[39m\u001b[38;5;241m.\u001b[39m_engine\u001b[38;5;241m.\u001b[39mread(  \u001b[38;5;66;03m# type: ignore[attr-defined]\u001b[39;00m\n\u001b[0;32m   1924\u001b[0m         nrows\n\u001b[0;32m   1925\u001b[0m     )\n\u001b[0;32m   1926\u001b[0m \u001b[38;5;28;01mexcept\u001b[39;00m \u001b[38;5;167;01mException\u001b[39;00m:\n\u001b[0;32m   1927\u001b[0m     \u001b[38;5;28mself\u001b[39m\u001b[38;5;241m.\u001b[39mclose()\n",
      "File \u001b[1;32mD:\\herdian\\tmp_project_folders\\placental_clock_dream_task2\\placental_clock_dream_task2_env\\Lib\\site-packages\\pandas\\io\\parsers\\c_parser_wrapper.py:234\u001b[0m, in \u001b[0;36mCParserWrapper.read\u001b[1;34m(self, nrows)\u001b[0m\n\u001b[0;32m    232\u001b[0m \u001b[38;5;28;01mtry\u001b[39;00m:\n\u001b[0;32m    233\u001b[0m     \u001b[38;5;28;01mif\u001b[39;00m \u001b[38;5;28mself\u001b[39m\u001b[38;5;241m.\u001b[39mlow_memory:\n\u001b[1;32m--> 234\u001b[0m         chunks \u001b[38;5;241m=\u001b[39m \u001b[38;5;28mself\u001b[39m\u001b[38;5;241m.\u001b[39m_reader\u001b[38;5;241m.\u001b[39mread_low_memory(nrows)\n\u001b[0;32m    235\u001b[0m         \u001b[38;5;66;03m# destructive to chunks\u001b[39;00m\n\u001b[0;32m    236\u001b[0m         data \u001b[38;5;241m=\u001b[39m _concatenate_chunks(chunks)\n",
      "File \u001b[1;32mparsers.pyx:838\u001b[0m, in \u001b[0;36mpandas._libs.parsers.TextReader.read_low_memory\u001b[1;34m()\u001b[0m\n",
      "File \u001b[1;32mparsers.pyx:921\u001b[0m, in \u001b[0;36mpandas._libs.parsers.TextReader._read_rows\u001b[1;34m()\u001b[0m\n",
      "File \u001b[1;32mparsers.pyx:1092\u001b[0m, in \u001b[0;36mpandas._libs.parsers.TextReader._convert_column_data\u001b[1;34m()\u001b[0m\n",
      "\u001b[1;31mMemoryError\u001b[0m: "
     ]
    }
   ],
   "source": [
    "prefix = 'ga_res_conds_pe_est'\n",
    "model_name = 'ElasticNet'\n",
    "neg_mse_scorer = make_scorer(mean_squared_error, greater_is_better=False)\n",
    "train_and_save_model(prefix, seed, models_and_params[model_name], cv=5, scoring=neg_mse_scorer, task = 'regression')"
   ]
  },
  {
   "cell_type": "code",
   "execution_count": null,
   "id": "f3b76711-b5d6-4c1c-96bd-fed2578f2c21",
   "metadata": {},
   "outputs": [],
   "source": [
    "prefix = 'ga_res_conds_pe_est'\n",
    "model_name = 'ElasticNet'\n",
    "load_and_predict(prefix)"
   ]
  },
  {
   "cell_type": "code",
   "execution_count": 20,
   "id": "6ad04136-31d4-491d-9bcc-3af810b0500f",
   "metadata": {},
   "outputs": [
    {
     "name": "stdout",
     "output_type": "stream",
     "text": [
      "Test indices saved at inst/extdata/ga_res_conds_pe_onset_est_test_idx.csv\n",
      "Scaler saved at inst/extdata/ga_res_conds_pe_onset_est_scaler.joblib\n",
      "Model saved at inst/extdata/ga_res_conds_pe_onset_est_best_model.joblib\n"
     ]
    }
   ],
   "source": [
    "prefix = 'ga_res_conds_pe_onset_est'\n",
    "model_name = 'ElasticNet'\n",
    "neg_mse_scorer = make_scorer(mean_squared_error, greater_is_better=False)\n",
    "train_and_save_model(prefix, seed, models_and_params[model_name], cv=5, scoring=neg_mse_scorer, task = 'regression')"
   ]
  },
  {
   "cell_type": "code",
   "execution_count": null,
   "id": "c5dfd41b-960d-490e-9bd1-53eef2320ba8",
   "metadata": {},
   "outputs": [],
   "source": [
    "prefix = 'ga_res_conds_pe_onset_est'\n",
    "model_name = 'ElasticNet'\n",
    "load_and_predict(prefix)"
   ]
  },
  {
   "cell_type": "code",
   "execution_count": 16,
   "id": "2d4a11eb-41e4-44ac-a8e7-317286c112ec",
   "metadata": {},
   "outputs": [
    {
     "name": "stdout",
     "output_type": "stream",
     "text": [
      "Test indices saved at inst/extdata/ga_res_conds_hellp_est_test_idx.csv\n",
      "Scaler saved at inst/extdata/ga_res_conds_hellp_est_scaler.joblib\n",
      "Model saved at inst/extdata/ga_res_conds_hellp_est_best_model.joblib\n"
     ]
    }
   ],
   "source": [
    "prefix = 'ga_res_conds_hellp_est'\n",
    "model_name = 'ElasticNet'\n",
    "neg_mse_scorer = make_scorer(mean_squared_error, greater_is_better=False)\n",
    "train_and_save_model(prefix, seed, models_and_params[model_name], cv=5, scoring=neg_mse_scorer, task = 'regression')"
   ]
  },
  {
   "cell_type": "code",
   "execution_count": null,
   "id": "76170891-b0e8-4d9a-ad69-a50219eb9ee8",
   "metadata": {},
   "outputs": [],
   "source": [
    "prefix = 'ga_res_conds_hellp_est'\n",
    "model_name = 'ElasticNet'\n",
    "load_and_predict(prefix)"
   ]
  },
  {
   "cell_type": "code",
   "execution_count": 7,
   "id": "8258c39a-8c5a-452d-a1d6-a20b28ee785a",
   "metadata": {},
   "outputs": [
    {
     "name": "stdout",
     "output_type": "stream",
     "text": [
      "Test indices saved at inst/extdata/ga_res_conds_hellp_est_test_idx.csv\n"
     ]
    }
   ],
   "source": [
    "prefix = 'ga_res_conds_hellp_est'\n",
    "test_idx(prefix, seed, task = 'regression')"
   ]
  },
  {
   "cell_type": "code",
   "execution_count": 8,
   "id": "63f2a40e-9f94-43e0-a18f-c40002002bb9",
   "metadata": {},
   "outputs": [
    {
     "name": "stdout",
     "output_type": "stream",
     "text": [
      "Scaler saved at inst/extdata/ga_res_conds_anencephaly_est_scaler.joblib\n",
      "Model saved at inst/extdata/ga_res_conds_anencephaly_est_best_model.joblib\n"
     ]
    }
   ],
   "source": [
    "prefix = 'ga_res_conds_anencephaly_est'\n",
    "model_name = 'ElasticNet'\n",
    "neg_mse_scorer = make_scorer(mean_squared_error, greater_is_better=False)\n",
    "train_and_save_model(prefix, seed, models_and_params[model_name], cv=5, scoring=neg_mse_scorer, task = 'regression')"
   ]
  },
  {
   "cell_type": "code",
   "execution_count": 9,
   "id": "a7e6962c-4c41-4da4-bcf2-78718ccff7c0",
   "metadata": {},
   "outputs": [
    {
     "name": "stdout",
     "output_type": "stream",
     "text": [
      "Predictions saved at inst/extdata/ga_res_conds_anencephaly_est_predictions.csv\n"
     ]
    }
   ],
   "source": [
    "prefix = 'ga_res_conds_anencephaly_est'\n",
    "model_name = 'ElasticNet'\n",
    "load_and_predict(prefix)"
   ]
  },
  {
   "cell_type": "code",
   "execution_count": 10,
   "id": "ae5e22b2-be2a-4124-bf31-1e67bdd7c6a6",
   "metadata": {},
   "outputs": [
    {
     "name": "stdout",
     "output_type": "stream",
     "text": [
      "Test indices saved at inst/extdata/ga_res_conds_anencephaly_est_test_idx.csv\n"
     ]
    }
   ],
   "source": [
    "prefix = 'ga_res_conds_anencephaly_est'\n",
    "test_idx(prefix, seed, task = 'regression')"
   ]
  },
  {
   "cell_type": "code",
   "execution_count": 11,
   "id": "6a3c2b09-8828-4467-8f4a-34351eae6b8e",
   "metadata": {},
   "outputs": [
    {
     "name": "stdout",
     "output_type": "stream",
     "text": [
      "Scaler saved at inst/extdata/ga_res_conds_spina_bifida_est_scaler.joblib\n",
      "Model saved at inst/extdata/ga_res_conds_spina_bifida_est_best_model.joblib\n"
     ]
    }
   ],
   "source": [
    "prefix = 'ga_res_conds_spina_bifida_est'\n",
    "model_name = 'ElasticNet'\n",
    "neg_mse_scorer = make_scorer(mean_squared_error, greater_is_better=False)\n",
    "train_and_save_model(prefix, seed, models_and_params[model_name], cv=5, scoring=neg_mse_scorer, task = 'regression')"
   ]
  },
  {
   "cell_type": "code",
   "execution_count": 12,
   "id": "00f45758-0433-4e0a-b8ea-e7ebe02c3440",
   "metadata": {},
   "outputs": [
    {
     "name": "stdout",
     "output_type": "stream",
     "text": [
      "Predictions saved at inst/extdata/ga_res_conds_spina_bifida_est_predictions.csv\n"
     ]
    }
   ],
   "source": [
    "prefix = 'ga_res_conds_spina_bifida_est'\n",
    "model_name = 'ElasticNet'\n",
    "load_and_predict(prefix)"
   ]
  },
  {
   "cell_type": "code",
   "execution_count": 13,
   "id": "47196f20-a228-4304-8fe8-831184fff6a2",
   "metadata": {},
   "outputs": [
    {
     "name": "stdout",
     "output_type": "stream",
     "text": [
      "Test indices saved at inst/extdata/ga_res_conds_spina_bifida_est_test_idx.csv\n"
     ]
    }
   ],
   "source": [
    "prefix = 'ga_res_conds_spina_bifida_est'\n",
    "test_idx(prefix, seed, task = 'regression')"
   ]
  },
  {
   "cell_type": "code",
   "execution_count": 14,
   "id": "2db87d1a-c3c4-4432-8fba-adb3447b833f",
   "metadata": {},
   "outputs": [
    {
     "name": "stdout",
     "output_type": "stream",
     "text": [
      "Scaler saved at inst/extdata/ga_res_conds_diandric_triploid_est_scaler.joblib\n",
      "Model saved at inst/extdata/ga_res_conds_diandric_triploid_est_best_model.joblib\n"
     ]
    }
   ],
   "source": [
    "prefix = 'ga_res_conds_diandric_triploid_est'\n",
    "model_name = 'ElasticNet'\n",
    "neg_mse_scorer = make_scorer(mean_squared_error, greater_is_better=False)\n",
    "train_and_save_model(prefix, seed, models_and_params[model_name], cv=3, scoring=neg_mse_scorer, task = 'regression')"
   ]
  },
  {
   "cell_type": "code",
   "execution_count": 15,
   "id": "479f85b4-7507-40e6-b059-cb515d0e2263",
   "metadata": {},
   "outputs": [
    {
     "name": "stdout",
     "output_type": "stream",
     "text": [
      "Predictions saved at inst/extdata/ga_res_conds_diandric_triploid_est_predictions.csv\n"
     ]
    }
   ],
   "source": [
    "prefix = 'ga_res_conds_diandric_triploid_est'\n",
    "model_name = 'ElasticNet'\n",
    "load_and_predict(prefix)"
   ]
  },
  {
   "cell_type": "code",
   "execution_count": 16,
   "id": "eb665f5a-9e68-4393-8bbd-5ab6e75007bf",
   "metadata": {},
   "outputs": [
    {
     "name": "stdout",
     "output_type": "stream",
     "text": [
      "Test indices saved at inst/extdata/ga_res_conds_diandric_triploid_est_test_idx.csv\n"
     ]
    }
   ],
   "source": [
    "prefix = 'ga_res_conds_diandric_triploid_est'\n",
    "test_idx(prefix, seed, task = 'regression')"
   ]
  },
  {
   "cell_type": "code",
   "execution_count": 17,
   "id": "5c4a963b-d0d2-4404-80eb-675cc364fddf",
   "metadata": {},
   "outputs": [
    {
     "name": "stdout",
     "output_type": "stream",
     "text": [
      "Scaler saved at inst/extdata/ga_res_conds_miscarriage_est_scaler.joblib\n",
      "Model saved at inst/extdata/ga_res_conds_miscarriage_est_best_model.joblib\n"
     ]
    }
   ],
   "source": [
    "prefix = 'ga_res_conds_miscarriage_est'\n",
    "model_name = 'ElasticNet'\n",
    "neg_mse_scorer = make_scorer(mean_squared_error, greater_is_better=False)\n",
    "train_and_save_model(prefix, seed, models_and_params[model_name], cv=5, scoring=neg_mse_scorer, task = 'regression')"
   ]
  },
  {
   "cell_type": "code",
   "execution_count": 18,
   "id": "c535e162-892d-4dab-8d4f-4c4ab1538329",
   "metadata": {},
   "outputs": [
    {
     "name": "stdout",
     "output_type": "stream",
     "text": [
      "Predictions saved at inst/extdata/ga_res_conds_miscarriage_est_predictions.csv\n"
     ]
    }
   ],
   "source": [
    "prefix = 'ga_res_conds_miscarriage_est'\n",
    "model_name = 'ElasticNet'\n",
    "load_and_predict(prefix)"
   ]
  },
  {
   "cell_type": "code",
   "execution_count": 19,
   "id": "628872f2-20d6-48da-b16c-39d3e4889b70",
   "metadata": {},
   "outputs": [
    {
     "name": "stdout",
     "output_type": "stream",
     "text": [
      "Test indices saved at inst/extdata/ga_res_conds_miscarriage_est_test_idx.csv\n"
     ]
    }
   ],
   "source": [
    "prefix = 'ga_res_conds_miscarriage_est'\n",
    "test_idx(prefix, seed, task = 'regression')"
   ]
  },
  {
   "cell_type": "code",
   "execution_count": 18,
   "id": "30fa9b11-f6fb-49f8-856e-6f4240e2d6ad",
   "metadata": {},
   "outputs": [
    {
     "name": "stdout",
     "output_type": "stream",
     "text": [
      "Test indices saved at inst/extdata/ga_res_conds_preterm_est_test_idx.csv\n",
      "Scaler saved at inst/extdata/ga_res_conds_preterm_est_scaler.joblib\n",
      "Model saved at inst/extdata/ga_res_conds_preterm_est_best_model.joblib\n"
     ]
    }
   ],
   "source": [
    "prefix = 'ga_res_conds_preterm_est'\n",
    "model_name = 'ElasticNet'\n",
    "neg_mse_scorer = make_scorer(mean_squared_error, greater_is_better=False)\n",
    "train_and_save_model(prefix, seed, models_and_params[model_name], cv=5, scoring=neg_mse_scorer, task = 'regression')"
   ]
  },
  {
   "cell_type": "code",
   "execution_count": 15,
   "id": "a71e9b6b-21fb-4b26-9fc9-5752b29c94c8",
   "metadata": {},
   "outputs": [
    {
     "name": "stdout",
     "output_type": "stream",
     "text": [
      "Predictions saved at inst/extdata/ga_res_conds_preterm_est_predictions.csv\n"
     ]
    }
   ],
   "source": [
    "prefix = 'ga_res_conds_preterm_est'\n",
    "model_name = 'ElasticNet'\n",
    "load_and_predict(prefix)"
   ]
  },
  {
   "cell_type": "code",
   "execution_count": 19,
   "id": "8977edc4-a6c7-47a1-9e14-d8cf57d6c846",
   "metadata": {},
   "outputs": [
    {
     "name": "stdout",
     "output_type": "stream",
     "text": [
      "Test indices saved at inst/extdata/ga_res_conds_gdm_est_test_idx.csv\n",
      "Scaler saved at inst/extdata/ga_res_conds_gdm_est_scaler.joblib\n",
      "Model saved at inst/extdata/ga_res_conds_gdm_est_best_model.joblib\n"
     ]
    }
   ],
   "source": [
    "prefix = 'ga_res_conds_gdm_est'\n",
    "model_name = 'ElasticNet'\n",
    "neg_mse_scorer = make_scorer(mean_squared_error, greater_is_better=False)\n",
    "train_and_save_model(prefix, seed, models_and_params[model_name], cv=5, scoring=neg_mse_scorer, task = 'regression')"
   ]
  },
  {
   "cell_type": "code",
   "execution_count": 13,
   "id": "29932361-7ed6-468f-ab49-430efb9e5c5f",
   "metadata": {},
   "outputs": [
    {
     "name": "stdout",
     "output_type": "stream",
     "text": [
      "Predictions saved at inst/extdata/ga_res_conds_gdm_est_predictions.csv\n"
     ]
    }
   ],
   "source": [
    "prefix = 'ga_res_conds_gdm_est'\n",
    "model_name = 'ElasticNet'\n",
    "load_and_predict(prefix)"
   ]
  },
  {
   "cell_type": "code",
   "execution_count": 15,
   "id": "f52cc909-2edf-430d-9c96-7d8d0f4087e3",
   "metadata": {},
   "outputs": [
    {
     "name": "stdout",
     "output_type": "stream",
     "text": [
      "Test indices saved at inst/extdata/ga_res_conds_lga_est_test_idx.csv\n",
      "Scaler saved at inst/extdata/ga_res_conds_lga_est_scaler.joblib\n",
      "Model saved at inst/extdata/ga_res_conds_lga_est_best_model.joblib\n"
     ]
    }
   ],
   "source": [
    "prefix = 'ga_res_conds_lga_est'\n",
    "model_name = 'ElasticNet'\n",
    "neg_mse_scorer = make_scorer(mean_squared_error, greater_is_better=False)\n",
    "train_and_save_model(prefix, seed, models_and_params[model_name], cv=5, scoring=neg_mse_scorer, task = 'regression')"
   ]
  },
  {
   "cell_type": "code",
   "execution_count": null,
   "id": "46de3d78-2fc0-4763-adc6-026df119fd88",
   "metadata": {},
   "outputs": [],
   "source": [
    "prefix = 'ga_res_conds_lga_est'\n",
    "model_name = 'ElasticNet'\n",
    "load_and_predict(prefix)"
   ]
  },
  {
   "cell_type": "code",
   "execution_count": 11,
   "id": "483723dd-6aa6-4ffd-bcf3-3bdaee358a4b",
   "metadata": {},
   "outputs": [
    {
     "name": "stdout",
     "output_type": "stream",
     "text": [
      "Test indices saved at inst/extdata/ga_res_conds_subfertility_est_test_idx.csv\n",
      "Scaler saved at inst/extdata/ga_res_conds_subfertility_est_scaler.joblib\n",
      "Model saved at inst/extdata/ga_res_conds_subfertility_est_best_model.joblib\n"
     ]
    }
   ],
   "source": [
    "prefix = 'ga_res_conds_subfertility_est'\n",
    "model_name = 'ElasticNet'\n",
    "neg_mse_scorer = make_scorer(mean_squared_error, greater_is_better=False)\n",
    "train_and_save_model(prefix, seed, models_and_params[model_name], cv=5, scoring=neg_mse_scorer, task = 'regression')"
   ]
  },
  {
   "cell_type": "code",
   "execution_count": 12,
   "id": "267df3ce-8ea0-4b3d-877c-be754f0b467a",
   "metadata": {},
   "outputs": [
    {
     "name": "stdout",
     "output_type": "stream",
     "text": [
      "Predictions saved at inst/extdata/ga_res_conds_subfertility_est_predictions.csv\n"
     ]
    }
   ],
   "source": [
    "prefix = 'ga_res_conds_subfertility_est'\n",
    "model_name = 'ElasticNet'\n",
    "load_and_predict(prefix)"
   ]
  },
  {
   "cell_type": "code",
   "execution_count": 22,
   "id": "7ed77a6d-f88d-42e4-bfe7-b15d1d4777de",
   "metadata": {},
   "outputs": [
    {
     "name": "stdout",
     "output_type": "stream",
     "text": [
      "Test indices saved at inst/extdata/ga_res_conds_subfertility_est_test_idx.csv\n"
     ]
    }
   ],
   "source": [
    "prefix = 'ga_res_conds_subfertility_est'\n",
    "test_idx(prefix, seed, task = 'regression')"
   ]
  },
  {
   "cell_type": "code",
   "execution_count": 13,
   "id": "f8dbea52-b7f6-4244-84f6-ff4ff0236b8f",
   "metadata": {},
   "outputs": [
    {
     "name": "stdout",
     "output_type": "stream",
     "text": [
      "Test indices saved at inst/extdata/ga_res_conds_chorioamnionitis_est_test_idx.csv\n",
      "Scaler saved at inst/extdata/ga_res_conds_chorioamnionitis_est_scaler.joblib\n",
      "Model saved at inst/extdata/ga_res_conds_chorioamnionitis_est_best_model.joblib\n"
     ]
    }
   ],
   "source": [
    "prefix = 'ga_res_conds_chorioamnionitis_est'\n",
    "model_name = 'ElasticNet'\n",
    "neg_mse_scorer = make_scorer(mean_squared_error, greater_is_better=False)\n",
    "train_and_save_model(prefix, seed, models_and_params[model_name], cv=5, scoring=neg_mse_scorer, task = 'regression')"
   ]
  },
  {
   "cell_type": "code",
   "execution_count": 14,
   "id": "5714a77d-e26a-4bf3-b65a-3fefe777fb34",
   "metadata": {},
   "outputs": [
    {
     "ename": "MemoryError",
     "evalue": "",
     "output_type": "error",
     "traceback": [
      "\u001b[1;31m---------------------------------------------------------------------------\u001b[0m",
      "\u001b[1;31mMemoryError\u001b[0m                               Traceback (most recent call last)",
      "Cell \u001b[1;32mIn[14], line 3\u001b[0m\n\u001b[0;32m      1\u001b[0m prefix \u001b[38;5;241m=\u001b[39m \u001b[38;5;124m'\u001b[39m\u001b[38;5;124mga_res_conds_chorioamnionitis_est\u001b[39m\u001b[38;5;124m'\u001b[39m\n\u001b[0;32m      2\u001b[0m model_name \u001b[38;5;241m=\u001b[39m \u001b[38;5;124m'\u001b[39m\u001b[38;5;124mElasticNet\u001b[39m\u001b[38;5;124m'\u001b[39m\n\u001b[1;32m----> 3\u001b[0m load_and_predict(prefix)\n",
      "File \u001b[1;32mD:\\herdian\\tmp_project_folders\\placental_clock_dream_task2\\utils0.py:105\u001b[0m, in \u001b[0;36mload_and_predict\u001b[1;34m(prefix)\u001b[0m\n\u001b[0;32m    102\u001b[0m best_model \u001b[38;5;241m=\u001b[39m load(\u001b[38;5;124mf\u001b[39m\u001b[38;5;124m'\u001b[39m\u001b[38;5;124minst/extdata/\u001b[39m\u001b[38;5;132;01m{\u001b[39;00mprefix\u001b[38;5;132;01m}\u001b[39;00m\u001b[38;5;124m_best_model.joblib\u001b[39m\u001b[38;5;124m'\u001b[39m)\n\u001b[0;32m    104\u001b[0m \u001b[38;5;66;03m# Load the new dataset for prediction\u001b[39;00m\n\u001b[1;32m--> 105\u001b[0m X_new \u001b[38;5;241m=\u001b[39m pd\u001b[38;5;241m.\u001b[39mread_csv(\u001b[38;5;124mf\u001b[39m\u001b[38;5;124m'\u001b[39m\u001b[38;5;124minst/extdata/\u001b[39m\u001b[38;5;132;01m{\u001b[39;00mprefix\u001b[38;5;132;01m}\u001b[39;00m\u001b[38;5;124m_set.csv\u001b[39m\u001b[38;5;124m'\u001b[39m)\n\u001b[0;32m    107\u001b[0m \u001b[38;5;66;03m# Standardize the new dataset using the same scaler\u001b[39;00m\n\u001b[0;32m    108\u001b[0m X_new_scaled \u001b[38;5;241m=\u001b[39m scaler\u001b[38;5;241m.\u001b[39mtransform(X_new)\n",
      "File \u001b[1;32mD:\\herdian\\tmp_project_folders\\placental_clock_dream_task2\\placental_clock_dream_task2_env\\Lib\\site-packages\\pandas\\io\\parsers\\readers.py:1026\u001b[0m, in \u001b[0;36mread_csv\u001b[1;34m(filepath_or_buffer, sep, delimiter, header, names, index_col, usecols, dtype, engine, converters, true_values, false_values, skipinitialspace, skiprows, skipfooter, nrows, na_values, keep_default_na, na_filter, verbose, skip_blank_lines, parse_dates, infer_datetime_format, keep_date_col, date_parser, date_format, dayfirst, cache_dates, iterator, chunksize, compression, thousands, decimal, lineterminator, quotechar, quoting, doublequote, escapechar, comment, encoding, encoding_errors, dialect, on_bad_lines, delim_whitespace, low_memory, memory_map, float_precision, storage_options, dtype_backend)\u001b[0m\n\u001b[0;32m   1013\u001b[0m kwds_defaults \u001b[38;5;241m=\u001b[39m _refine_defaults_read(\n\u001b[0;32m   1014\u001b[0m     dialect,\n\u001b[0;32m   1015\u001b[0m     delimiter,\n\u001b[1;32m   (...)\u001b[0m\n\u001b[0;32m   1022\u001b[0m     dtype_backend\u001b[38;5;241m=\u001b[39mdtype_backend,\n\u001b[0;32m   1023\u001b[0m )\n\u001b[0;32m   1024\u001b[0m kwds\u001b[38;5;241m.\u001b[39mupdate(kwds_defaults)\n\u001b[1;32m-> 1026\u001b[0m \u001b[38;5;28;01mreturn\u001b[39;00m _read(filepath_or_buffer, kwds)\n",
      "File \u001b[1;32mD:\\herdian\\tmp_project_folders\\placental_clock_dream_task2\\placental_clock_dream_task2_env\\Lib\\site-packages\\pandas\\io\\parsers\\readers.py:626\u001b[0m, in \u001b[0;36m_read\u001b[1;34m(filepath_or_buffer, kwds)\u001b[0m\n\u001b[0;32m    623\u001b[0m     \u001b[38;5;28;01mreturn\u001b[39;00m parser\n\u001b[0;32m    625\u001b[0m \u001b[38;5;28;01mwith\u001b[39;00m parser:\n\u001b[1;32m--> 626\u001b[0m     \u001b[38;5;28;01mreturn\u001b[39;00m parser\u001b[38;5;241m.\u001b[39mread(nrows)\n",
      "File \u001b[1;32mD:\\herdian\\tmp_project_folders\\placental_clock_dream_task2\\placental_clock_dream_task2_env\\Lib\\site-packages\\pandas\\io\\parsers\\readers.py:1923\u001b[0m, in \u001b[0;36mTextFileReader.read\u001b[1;34m(self, nrows)\u001b[0m\n\u001b[0;32m   1916\u001b[0m nrows \u001b[38;5;241m=\u001b[39m validate_integer(\u001b[38;5;124m\"\u001b[39m\u001b[38;5;124mnrows\u001b[39m\u001b[38;5;124m\"\u001b[39m, nrows)\n\u001b[0;32m   1917\u001b[0m \u001b[38;5;28;01mtry\u001b[39;00m:\n\u001b[0;32m   1918\u001b[0m     \u001b[38;5;66;03m# error: \"ParserBase\" has no attribute \"read\"\u001b[39;00m\n\u001b[0;32m   1919\u001b[0m     (\n\u001b[0;32m   1920\u001b[0m         index,\n\u001b[0;32m   1921\u001b[0m         columns,\n\u001b[0;32m   1922\u001b[0m         col_dict,\n\u001b[1;32m-> 1923\u001b[0m     ) \u001b[38;5;241m=\u001b[39m \u001b[38;5;28mself\u001b[39m\u001b[38;5;241m.\u001b[39m_engine\u001b[38;5;241m.\u001b[39mread(  \u001b[38;5;66;03m# type: ignore[attr-defined]\u001b[39;00m\n\u001b[0;32m   1924\u001b[0m         nrows\n\u001b[0;32m   1925\u001b[0m     )\n\u001b[0;32m   1926\u001b[0m \u001b[38;5;28;01mexcept\u001b[39;00m \u001b[38;5;167;01mException\u001b[39;00m:\n\u001b[0;32m   1927\u001b[0m     \u001b[38;5;28mself\u001b[39m\u001b[38;5;241m.\u001b[39mclose()\n",
      "File \u001b[1;32mD:\\herdian\\tmp_project_folders\\placental_clock_dream_task2\\placental_clock_dream_task2_env\\Lib\\site-packages\\pandas\\io\\parsers\\c_parser_wrapper.py:234\u001b[0m, in \u001b[0;36mCParserWrapper.read\u001b[1;34m(self, nrows)\u001b[0m\n\u001b[0;32m    232\u001b[0m \u001b[38;5;28;01mtry\u001b[39;00m:\n\u001b[0;32m    233\u001b[0m     \u001b[38;5;28;01mif\u001b[39;00m \u001b[38;5;28mself\u001b[39m\u001b[38;5;241m.\u001b[39mlow_memory:\n\u001b[1;32m--> 234\u001b[0m         chunks \u001b[38;5;241m=\u001b[39m \u001b[38;5;28mself\u001b[39m\u001b[38;5;241m.\u001b[39m_reader\u001b[38;5;241m.\u001b[39mread_low_memory(nrows)\n\u001b[0;32m    235\u001b[0m         \u001b[38;5;66;03m# destructive to chunks\u001b[39;00m\n\u001b[0;32m    236\u001b[0m         data \u001b[38;5;241m=\u001b[39m _concatenate_chunks(chunks)\n",
      "File \u001b[1;32mparsers.pyx:838\u001b[0m, in \u001b[0;36mpandas._libs.parsers.TextReader.read_low_memory\u001b[1;34m()\u001b[0m\n",
      "File \u001b[1;32mparsers.pyx:921\u001b[0m, in \u001b[0;36mpandas._libs.parsers.TextReader._read_rows\u001b[1;34m()\u001b[0m\n",
      "File \u001b[1;32mparsers.pyx:1092\u001b[0m, in \u001b[0;36mpandas._libs.parsers.TextReader._convert_column_data\u001b[1;34m()\u001b[0m\n",
      "\u001b[1;31mMemoryError\u001b[0m: "
     ]
    }
   ],
   "source": [
    "prefix = 'ga_res_conds_chorioamnionitis_est'\n",
    "model_name = 'ElasticNet'\n",
    "load_and_predict(prefix)"
   ]
  },
  {
   "cell_type": "code",
   "execution_count": 14,
   "id": "3b16f403-3e2b-4661-a4f6-b74538626f53",
   "metadata": {},
   "outputs": [
    {
     "name": "stdout",
     "output_type": "stream",
     "text": [
      "Scaler saved at inst/extdata/ga_res_conds_true_est_scaler.joblib\n",
      "Model saved at inst/extdata/ga_res_conds_true_est_best_model.joblib\n",
      "Root Mean Squared Error: 0.65\n",
      "Mean Absolute Error: 0.42\n",
      "R^2: 0.86\n"
     ]
    }
   ],
   "source": [
    "prefix = 'ga_res_conds_true_est'\n",
    "model_name = 'ElasticNet'\n",
    "neg_mse_scorer = make_scorer(mean_squared_error, greater_is_better=False)\n",
    "train_and_save_model(prefix, seed, models_and_params[model_name], cv=5, scoring=neg_mse_scorer, task = 'regression')"
   ]
  },
  {
   "cell_type": "code",
   "execution_count": 15,
   "id": "f7c50ff0-cc34-4d26-a4a6-0e20277231cc",
   "metadata": {},
   "outputs": [
    {
     "name": "stdout",
     "output_type": "stream",
     "text": [
      "Predictions saved at inst/extdata/ga_res_conds_true_est_predictions.csv\n"
     ]
    }
   ],
   "source": [
    "prefix = 'ga_res_conds_true_est'\n",
    "model_name = 'ElasticNet'\n",
    "load_and_predict(prefix)"
   ]
  },
  {
   "cell_type": "code",
   "execution_count": 16,
   "id": "5a3eeaf2-226f-49c1-8858-da74026a60fa",
   "metadata": {},
   "outputs": [
    {
     "name": "stdout",
     "output_type": "stream",
     "text": [
      "Scaler saved at inst/extdata/ga_res_conds_imp_est_scaler.joblib\n",
      "Model saved at inst/extdata/ga_res_conds_imp_est_best_model.joblib\n",
      "Root Mean Squared Error: 0.74\n",
      "Mean Absolute Error: 0.54\n",
      "R^2: 0.82\n"
     ]
    }
   ],
   "source": [
    "prefix = 'ga_res_conds_imp_est'\n",
    "model_name = 'ElasticNet'\n",
    "neg_mse_scorer = make_scorer(mean_squared_error, greater_is_better=False)\n",
    "train_and_save_model(prefix, seed, models_and_params[model_name], cv=5, scoring=neg_mse_scorer, task = 'regression')"
   ]
  },
  {
   "cell_type": "code",
   "execution_count": 17,
   "id": "a0ed3300-710b-4081-86f9-77cf5c08a8af",
   "metadata": {},
   "outputs": [
    {
     "name": "stdout",
     "output_type": "stream",
     "text": [
      "Predictions saved at inst/extdata/ga_res_conds_imp_est_predictions.csv\n"
     ]
    }
   ],
   "source": [
    "prefix = 'ga_res_conds_imp_est'\n",
    "model_name = 'ElasticNet'\n",
    "load_and_predict(prefix)"
   ]
  },
  {
   "cell_type": "code",
   "execution_count": 18,
   "id": "111785ce-7700-46f8-afba-9d6ea3f9a175",
   "metadata": {},
   "outputs": [
    {
     "name": "stdout",
     "output_type": "stream",
     "text": [
      "Scaler saved at inst/extdata/ga_res_conds_pred_est_scaler.joblib\n",
      "Model saved at inst/extdata/ga_res_conds_pred_est_best_model.joblib\n",
      "Root Mean Squared Error: 0.77\n",
      "Mean Absolute Error: 0.54\n",
      "R^2: 0.81\n"
     ]
    }
   ],
   "source": [
    "prefix = 'ga_res_conds_pred_est'\n",
    "model_name = 'ElasticNet'\n",
    "neg_mse_scorer = make_scorer(mean_squared_error, greater_is_better=False)\n",
    "train_and_save_model(prefix, seed, models_and_params[model_name], cv=5, scoring=neg_mse_scorer, task = 'regression')"
   ]
  },
  {
   "cell_type": "code",
   "execution_count": 19,
   "id": "61d8775f-5d0f-4d84-b68b-d504923e68dd",
   "metadata": {},
   "outputs": [
    {
     "name": "stdout",
     "output_type": "stream",
     "text": [
      "Predictions saved at inst/extdata/ga_res_conds_pred_est_predictions.csv\n"
     ]
    }
   ],
   "source": [
    "prefix = 'ga_res_conds_pred_est'\n",
    "model_name = 'ElasticNet'\n",
    "load_and_predict(prefix)"
   ]
  },
  {
   "cell_type": "code",
   "execution_count": 20,
   "id": "e96d702f-f5c7-4363-b583-765820e26b18",
   "metadata": {},
   "outputs": [
    {
     "name": "stdout",
     "output_type": "stream",
     "text": [
      "Scaler saved at inst/extdata/ga_res_conds_null_est_scaler.joblib\n",
      "Model saved at inst/extdata/ga_res_conds_null_est_best_model.joblib\n",
      "Root Mean Squared Error: 0.86\n",
      "Mean Absolute Error: 0.64\n",
      "R^2: 0.76\n"
     ]
    }
   ],
   "source": [
    "prefix = 'ga_res_conds_null_est'\n",
    "model_name = 'ElasticNet'\n",
    "neg_mse_scorer = make_scorer(mean_squared_error, greater_is_better=False)\n",
    "train_and_save_model(prefix, seed, models_and_params[model_name], cv=5, scoring=neg_mse_scorer, task = 'regression')"
   ]
  },
  {
   "cell_type": "code",
   "execution_count": 21,
   "id": "228e348f-6135-4bea-98a0-574bc5a7c9b3",
   "metadata": {},
   "outputs": [
    {
     "name": "stdout",
     "output_type": "stream",
     "text": [
      "Predictions saved at inst/extdata/ga_res_conds_null_est_predictions.csv\n"
     ]
    }
   ],
   "source": [
    "prefix = 'ga_res_conds_null_est'\n",
    "model_name = 'ElasticNet'\n",
    "load_and_predict(prefix)"
   ]
  },
  {
   "cell_type": "code",
   "execution_count": null,
   "id": "4530016e-1a5c-4df4-b856-fa0167262483",
   "metadata": {},
   "outputs": [
    {
     "name": "stdout",
     "output_type": "stream",
     "text": [
      "Test indices saved at inst/extdata/ga_res_comb_pr_est_test_idx.csv\n",
      "Scaler saved at inst/extdata/ga_res_comb_pr_est_scaler.joblib\n"
     ]
    }
   ],
   "source": [
    "prefix = 'ga_res_comb_pr_est'\n",
    "model_name = 'ElasticNet'\n",
    "neg_mse_scorer = make_scorer(mean_squared_error, greater_is_better=False)\n",
    "train_and_save_model(prefix, seed, models_and_params[model_name], cv=5, scoring=neg_mse_scorer, task = 'regression')"
   ]
  },
  {
   "cell_type": "code",
   "execution_count": 6,
   "id": "84dc9767-7a0b-4614-a357-24da130d8e08",
   "metadata": {},
   "outputs": [
    {
     "name": "stdout",
     "output_type": "stream",
     "text": [
      "Predictions saved at inst/extdata/ga_res_comb_pr_est_predictions.csv\n"
     ]
    }
   ],
   "source": [
    "prefix = 'ga_res_comb_pr_est'\n",
    "model_name = 'ElasticNet'\n",
    "load_and_predict(prefix)"
   ]
  },
  {
   "cell_type": "code",
   "execution_count": 7,
   "id": "44ff6da3-63c4-4b99-b281-67b24c254643",
   "metadata": {
    "scrolled": true
   },
   "outputs": [
    {
     "name": "stdout",
     "output_type": "stream",
     "text": [
      "Test indices saved at inst/extdata/ga_res_comb_tb_est_test_idx.csv\n",
      "Scaler saved at inst/extdata/ga_res_comb_tb_est_scaler.joblib\n",
      "Model saved at inst/extdata/ga_res_comb_tb_est_best_model.joblib\n"
     ]
    }
   ],
   "source": [
    "prefix = 'ga_res_comb_tb_est'\n",
    "model_name = 'ElasticNet'\n",
    "neg_mse_scorer = make_scorer(mean_squared_error, greater_is_better=False)\n",
    "train_and_save_model(prefix, seed, models_and_params[model_name], cv=5, scoring=neg_mse_scorer, task = 'regression')"
   ]
  },
  {
   "cell_type": "code",
   "execution_count": 8,
   "id": "30e7dfa0-dcc2-44e6-a94e-ec6786e0d77e",
   "metadata": {},
   "outputs": [
    {
     "name": "stdout",
     "output_type": "stream",
     "text": [
      "Predictions saved at inst/extdata/ga_res_comb_tb_est_predictions.csv\n"
     ]
    }
   ],
   "source": [
    "prefix = 'ga_res_comb_tb_est'\n",
    "model_name = 'ElasticNet'\n",
    "load_and_predict(prefix)"
   ]
  },
  {
   "cell_type": "code",
   "execution_count": 9,
   "id": "02c11a02-55c2-4c46-992d-536f5c44973e",
   "metadata": {},
   "outputs": [
    {
     "name": "stdout",
     "output_type": "stream",
     "text": [
      "Test indices saved at inst/extdata/ga_res_comb_ta_est_test_idx.csv\n",
      "Scaler saved at inst/extdata/ga_res_comb_ta_est_scaler.joblib\n",
      "Model saved at inst/extdata/ga_res_comb_ta_est_best_model.joblib\n"
     ]
    }
   ],
   "source": [
    "prefix = 'ga_res_comb_ta_est'\n",
    "model_name = 'ElasticNet'\n",
    "neg_mse_scorer = make_scorer(mean_squared_error, greater_is_better=False)\n",
    "train_and_save_model(prefix, seed, models_and_params[model_name], cv=5, scoring=neg_mse_scorer, task = 'regression')"
   ]
  },
  {
   "cell_type": "code",
   "execution_count": 10,
   "id": "f2dfed89-e63e-42af-9436-8f79afb501fd",
   "metadata": {},
   "outputs": [
    {
     "name": "stdout",
     "output_type": "stream",
     "text": [
      "Predictions saved at inst/extdata/ga_res_comb_ta_est_predictions.csv\n"
     ]
    }
   ],
   "source": [
    "prefix = 'ga_res_comb_ta_est'\n",
    "model_name = 'ElasticNet'\n",
    "load_and_predict(prefix)"
   ]
  },
  {
   "cell_type": "code",
   "execution_count": 10,
   "id": "1924d31e-90cb-4383-8d4d-9767a8430206",
   "metadata": {},
   "outputs": [
    {
     "name": "stdout",
     "output_type": "stream",
     "text": [
      "Scaler saved at inst/extdata/ga_res_cpg_comb_fgr_est_scaler.joblib\n",
      "Model saved at inst/extdata/ga_res_cpg_comb_fgr_est_best_model.joblib\n",
      "Root Mean Squared Error: 0.69\n",
      "Mean Absolute Error: 0.38\n",
      "R^2: -1.35\n"
     ]
    }
   ],
   "source": [
    "prefix = 'ga_res_cpg_comb_fgr_est'\n",
    "model_name = 'ElasticNet'\n",
    "neg_mse_scorer = make_scorer(mean_squared_error, greater_is_better=False)\n",
    "train_and_save_model(prefix, seed, models_and_params[model_name], cv=5, scoring=neg_mse_scorer, task = 'regression')"
   ]
  },
  {
   "cell_type": "code",
   "execution_count": 11,
   "id": "9ff4a8bf-db46-4a3f-8aab-df9c863ccb3e",
   "metadata": {},
   "outputs": [
    {
     "name": "stdout",
     "output_type": "stream",
     "text": [
      "Predictions saved at inst/extdata/ga_res_cpg_comb_fgr_est_predictions.csv\n"
     ]
    }
   ],
   "source": [
    "prefix = 'ga_res_cpg_comb_fgr_est'\n",
    "model_name = 'ElasticNet'\n",
    "load_and_predict(prefix)"
   ]
  },
  {
   "cell_type": "code",
   "execution_count": null,
   "id": "9417de99-0058-497f-ad62-12cd3a5f9505",
   "metadata": {},
   "outputs": [],
   "source": [
    "prefix = 'ga_res_cpg_comb_pe_est'\n",
    "model_name = 'ElasticNet'\n",
    "neg_mse_scorer = make_scorer(mean_squared_error, greater_is_better=False)\n",
    "train_and_save_model(prefix, seed, models_and_params[model_name], cv=5, scoring=neg_mse_scorer, task = 'regression')"
   ]
  },
  {
   "cell_type": "code",
   "execution_count": null,
   "id": "741132fa-0112-4690-b484-6a1e049f1133",
   "metadata": {},
   "outputs": [],
   "source": [
    "prefix = 'ga_res_cpg_comb_pe_est'\n",
    "model_name = 'ElasticNet'\n",
    "load_and_predict(prefix)"
   ]
  },
  {
   "cell_type": "code",
   "execution_count": 29,
   "id": "a4a0cb3e-a944-42a5-9d77-77b12768b98f",
   "metadata": {},
   "outputs": [
    {
     "name": "stdout",
     "output_type": "stream",
     "text": [
      "Scaler saved at inst/extdata/ga_res_cpg_comb_pe_onset_est_scaler.joblib\n"
     ]
    },
    {
     "name": "stderr",
     "output_type": "stream",
     "text": [
      "/Users/herdiantrisufriyana/Documents/placental_clock_dream_task1/placental_clock_dream_task1_env/lib/python3.12/site-packages/sklearn/linear_model/_coordinate_descent.py:697: ConvergenceWarning: Objective did not converge. You might want to increase the number of iterations, check the scale of the features or consider increasing regularisation. Duality gap: 9.394e-02, tolerance: 2.369e-02\n",
      "  model = cd_fast.enet_coordinate_descent(\n",
      "/Users/herdiantrisufriyana/Documents/placental_clock_dream_task1/placental_clock_dream_task1_env/lib/python3.12/site-packages/sklearn/linear_model/_coordinate_descent.py:697: ConvergenceWarning: Objective did not converge. You might want to increase the number of iterations, check the scale of the features or consider increasing regularisation. Duality gap: 2.025e-01, tolerance: 2.319e-02\n",
      "  model = cd_fast.enet_coordinate_descent(\n",
      "/Users/herdiantrisufriyana/Documents/placental_clock_dream_task1/placental_clock_dream_task1_env/lib/python3.12/site-packages/sklearn/linear_model/_coordinate_descent.py:697: ConvergenceWarning: Objective did not converge. You might want to increase the number of iterations, check the scale of the features or consider increasing regularisation. Duality gap: 1.692e-01, tolerance: 1.435e-02\n",
      "  model = cd_fast.enet_coordinate_descent(\n"
     ]
    },
    {
     "name": "stdout",
     "output_type": "stream",
     "text": [
      "Model saved at inst/extdata/ga_res_cpg_comb_pe_onset_est_best_model.joblib\n",
      "Root Mean Squared Error: 0.49\n",
      "Mean Absolute Error: 0.21\n",
      "R^2: -0.01\n"
     ]
    },
    {
     "name": "stderr",
     "output_type": "stream",
     "text": [
      "/Users/herdiantrisufriyana/Documents/placental_clock_dream_task1/placental_clock_dream_task1_env/lib/python3.12/site-packages/sklearn/linear_model/_coordinate_descent.py:697: ConvergenceWarning: Objective did not converge. You might want to increase the number of iterations, check the scale of the features or consider increasing regularisation. Duality gap: 1.316e-01, tolerance: 2.465e-02\n",
      "  model = cd_fast.enet_coordinate_descent(\n"
     ]
    }
   ],
   "source": [
    "prefix = 'ga_res_cpg_comb_pe_onset_est'\n",
    "model_name = 'ElasticNet'\n",
    "neg_mse_scorer = make_scorer(mean_squared_error, greater_is_better=False)\n",
    "train_and_save_model(prefix, seed, models_and_params[model_name], cv=5, scoring=neg_mse_scorer, task = 'regression')"
   ]
  },
  {
   "cell_type": "code",
   "execution_count": 30,
   "id": "2c630064-7a4e-4155-99b4-630a4e7de0d4",
   "metadata": {},
   "outputs": [
    {
     "name": "stdout",
     "output_type": "stream",
     "text": [
      "Predictions saved at inst/extdata/ga_res_cpg_comb_pe_onset_est_predictions.csv\n"
     ]
    }
   ],
   "source": [
    "prefix = 'ga_res_cpg_comb_pe_onset_est'\n",
    "model_name = 'ElasticNet'\n",
    "load_and_predict(prefix)"
   ]
  },
  {
   "cell_type": "code",
   "execution_count": 12,
   "id": "12b85583-7cdf-4ee0-b4e3-1635fca21070",
   "metadata": {},
   "outputs": [
    {
     "name": "stdout",
     "output_type": "stream",
     "text": [
      "Scaler saved at inst/extdata/ga_res_cpg_comb_hellp_est_scaler.joblib\n",
      "Model saved at inst/extdata/ga_res_cpg_comb_hellp_est_best_model.joblib\n",
      "Root Mean Squared Error: 0.11\n",
      "Mean Absolute Error: 0.10\n",
      "R^2: -0.61\n"
     ]
    }
   ],
   "source": [
    "prefix = 'ga_res_cpg_comb_hellp_est'\n",
    "model_name = 'ElasticNet'\n",
    "neg_mse_scorer = make_scorer(mean_squared_error, greater_is_better=False)\n",
    "train_and_save_model(prefix, seed, models_and_params[model_name], cv=5, scoring=neg_mse_scorer, task = 'regression')"
   ]
  },
  {
   "cell_type": "code",
   "execution_count": 13,
   "id": "65402c35-96e2-4bee-beb5-69dc3e54da9d",
   "metadata": {},
   "outputs": [
    {
     "name": "stdout",
     "output_type": "stream",
     "text": [
      "Predictions saved at inst/extdata/ga_res_cpg_comb_hellp_est_predictions.csv\n"
     ]
    }
   ],
   "source": [
    "prefix = 'ga_res_cpg_comb_hellp_est'\n",
    "model_name = 'ElasticNet'\n",
    "load_and_predict(prefix)"
   ]
  },
  {
   "cell_type": "code",
   "execution_count": 14,
   "id": "291bfec5-1846-4103-9234-30cf78e72862",
   "metadata": {},
   "outputs": [
    {
     "name": "stdout",
     "output_type": "stream",
     "text": [
      "Scaler saved at inst/extdata/ga_res_cpg_comb_anencephaly_est_scaler.joblib\n",
      "Model saved at inst/extdata/ga_res_cpg_comb_anencephaly_est_best_model.joblib\n",
      "Root Mean Squared Error: 0.02\n",
      "Mean Absolute Error: 0.02\n",
      "R^2: 0.02\n"
     ]
    }
   ],
   "source": [
    "prefix = 'ga_res_cpg_comb_anencephaly_est'\n",
    "model_name = 'ElasticNet'\n",
    "neg_mse_scorer = make_scorer(mean_squared_error, greater_is_better=False)\n",
    "train_and_save_model(prefix, seed, models_and_params[model_name], cv=5, scoring=neg_mse_scorer, task = 'regression')"
   ]
  },
  {
   "cell_type": "code",
   "execution_count": 15,
   "id": "5101c8c9-9e88-4ce5-a280-e936df58c37a",
   "metadata": {},
   "outputs": [
    {
     "name": "stdout",
     "output_type": "stream",
     "text": [
      "Predictions saved at inst/extdata/ga_res_cpg_comb_anencephaly_est_predictions.csv\n"
     ]
    }
   ],
   "source": [
    "prefix = 'ga_res_cpg_comb_anencephaly_est'\n",
    "model_name = 'ElasticNet'\n",
    "load_and_predict(prefix)"
   ]
  },
  {
   "cell_type": "code",
   "execution_count": 16,
   "id": "5169b4a1-9265-46ee-9a0e-99fb8c92ef7f",
   "metadata": {},
   "outputs": [
    {
     "name": "stdout",
     "output_type": "stream",
     "text": [
      "Scaler saved at inst/extdata/ga_res_cpg_comb_spina_bifida_est_scaler.joblib\n",
      "Model saved at inst/extdata/ga_res_cpg_comb_spina_bifida_est_best_model.joblib\n",
      "Root Mean Squared Error: 0.29\n",
      "Mean Absolute Error: 0.19\n",
      "R^2: -1.34\n"
     ]
    }
   ],
   "source": [
    "prefix = 'ga_res_cpg_comb_spina_bifida_est'\n",
    "model_name = 'ElasticNet'\n",
    "neg_mse_scorer = make_scorer(mean_squared_error, greater_is_better=False)\n",
    "train_and_save_model(prefix, seed, models_and_params[model_name], cv=5, scoring=neg_mse_scorer, task = 'regression')"
   ]
  },
  {
   "cell_type": "code",
   "execution_count": 17,
   "id": "0ce1fb81-666b-479b-b32f-dd52b681c17c",
   "metadata": {},
   "outputs": [
    {
     "name": "stdout",
     "output_type": "stream",
     "text": [
      "Predictions saved at inst/extdata/ga_res_cpg_comb_spina_bifida_est_predictions.csv\n"
     ]
    }
   ],
   "source": [
    "prefix = 'ga_res_cpg_comb_spina_bifida_est'\n",
    "model_name = 'ElasticNet'\n",
    "load_and_predict(prefix)"
   ]
  },
  {
   "cell_type": "code",
   "execution_count": 19,
   "id": "27905196-ca2d-45cc-a79c-ea522ecef14a",
   "metadata": {},
   "outputs": [
    {
     "name": "stdout",
     "output_type": "stream",
     "text": [
      "Scaler saved at inst/extdata/ga_res_cpg_comb_diandric_triploid_est_scaler.joblib\n",
      "Model saved at inst/extdata/ga_res_cpg_comb_diandric_triploid_est_best_model.joblib\n",
      "Root Mean Squared Error: 0.10\n",
      "Mean Absolute Error: 0.08\n",
      "R^2: -11.96\n"
     ]
    }
   ],
   "source": [
    "prefix = 'ga_res_cpg_comb_diandric_triploid_est'\n",
    "model_name = 'ElasticNet'\n",
    "neg_mse_scorer = make_scorer(mean_squared_error, greater_is_better=False)\n",
    "train_and_save_model(prefix, seed, models_and_params[model_name], cv=3, scoring=neg_mse_scorer, task = 'regression')"
   ]
  },
  {
   "cell_type": "code",
   "execution_count": 20,
   "id": "dd10a9ab-3a5f-4cdd-b84b-bd30aaeb9a84",
   "metadata": {},
   "outputs": [
    {
     "name": "stdout",
     "output_type": "stream",
     "text": [
      "Predictions saved at inst/extdata/ga_res_cpg_comb_diandric_triploid_est_predictions.csv\n"
     ]
    }
   ],
   "source": [
    "prefix = 'ga_res_cpg_comb_diandric_triploid_est'\n",
    "model_name = 'ElasticNet'\n",
    "load_and_predict(prefix)"
   ]
  },
  {
   "cell_type": "code",
   "execution_count": 21,
   "id": "fc730c0e-6b99-4aa3-a9b4-2eaed26d1109",
   "metadata": {},
   "outputs": [
    {
     "name": "stdout",
     "output_type": "stream",
     "text": [
      "Scaler saved at inst/extdata/ga_res_cpg_comb_miscarriage_est_scaler.joblib\n",
      "Model saved at inst/extdata/ga_res_cpg_comb_miscarriage_est_best_model.joblib\n",
      "Root Mean Squared Error: 2.28\n",
      "Mean Absolute Error: 1.32\n",
      "R^2: -0.55\n"
     ]
    }
   ],
   "source": [
    "prefix = 'ga_res_cpg_comb_miscarriage_est'\n",
    "model_name = 'ElasticNet'\n",
    "neg_mse_scorer = make_scorer(mean_squared_error, greater_is_better=False)\n",
    "train_and_save_model(prefix, seed, models_and_params[model_name], cv=5, scoring=neg_mse_scorer, task = 'regression')"
   ]
  },
  {
   "cell_type": "code",
   "execution_count": 22,
   "id": "5a915ee7-6aa7-4ec8-8907-0884d36c2f9d",
   "metadata": {},
   "outputs": [
    {
     "name": "stdout",
     "output_type": "stream",
     "text": [
      "Predictions saved at inst/extdata/ga_res_cpg_comb_miscarriage_est_predictions.csv\n"
     ]
    }
   ],
   "source": [
    "prefix = 'ga_res_cpg_comb_miscarriage_est'\n",
    "model_name = 'ElasticNet'\n",
    "load_and_predict(prefix)"
   ]
  },
  {
   "cell_type": "code",
   "execution_count": null,
   "id": "f9531052-cf73-48dd-9e94-7d66c91eca3d",
   "metadata": {},
   "outputs": [],
   "source": [
    "prefix = 'ga_res_cpg_comb_preterm_est'\n",
    "model_name = 'ElasticNet'\n",
    "neg_mse_scorer = make_scorer(mean_squared_error, greater_is_better=False)\n",
    "train_and_save_model(prefix, seed, models_and_params[model_name], cv=5, scoring=neg_mse_scorer, task = 'regression')"
   ]
  },
  {
   "cell_type": "code",
   "execution_count": null,
   "id": "0e6336a0-3331-4773-b9f3-6cea5f928104",
   "metadata": {},
   "outputs": [],
   "source": [
    "prefix = 'ga_res_cpg_comb_preterm_est'\n",
    "model_name = 'ElasticNet'\n",
    "load_and_predict(prefix)"
   ]
  },
  {
   "cell_type": "code",
   "execution_count": null,
   "id": "fdc2163e-3b9c-448e-ac95-88bbbf75bc53",
   "metadata": {},
   "outputs": [],
   "source": [
    "prefix = 'ga_res_cpg_comb_gdm_est'\n",
    "model_name = 'ElasticNet'\n",
    "neg_mse_scorer = make_scorer(mean_squared_error, greater_is_better=False)\n",
    "train_and_save_model(prefix, seed, models_and_params[model_name], cv=5, scoring=neg_mse_scorer, task = 'regression')"
   ]
  },
  {
   "cell_type": "code",
   "execution_count": null,
   "id": "d5744a0c-3024-4b74-b1d7-a5b2f9ee80a9",
   "metadata": {},
   "outputs": [],
   "source": [
    "prefix = 'ga_res_cpg_comb_gdm_est'\n",
    "model_name = 'ElasticNet'\n",
    "load_and_predict(prefix)"
   ]
  },
  {
   "cell_type": "code",
   "execution_count": 23,
   "id": "3c2ba77b-62e1-4a5f-8664-fa899c148c87",
   "metadata": {},
   "outputs": [
    {
     "name": "stdout",
     "output_type": "stream",
     "text": [
      "Scaler saved at inst/extdata/ga_res_cpg_comb_lga_est_scaler.joblib\n",
      "Model saved at inst/extdata/ga_res_cpg_comb_lga_est_best_model.joblib\n",
      "Root Mean Squared Error: 0.81\n",
      "Mean Absolute Error: 0.41\n",
      "R^2: -0.03\n"
     ]
    }
   ],
   "source": [
    "prefix = 'ga_res_cpg_comb_lga_est'\n",
    "model_name = 'ElasticNet'\n",
    "neg_mse_scorer = make_scorer(mean_squared_error, greater_is_better=False)\n",
    "train_and_save_model(prefix, seed, models_and_params[model_name], cv=5, scoring=neg_mse_scorer, task = 'regression')"
   ]
  },
  {
   "cell_type": "code",
   "execution_count": 24,
   "id": "05547594-4b46-489f-b336-26522d1f08d7",
   "metadata": {},
   "outputs": [
    {
     "name": "stdout",
     "output_type": "stream",
     "text": [
      "Predictions saved at inst/extdata/ga_res_cpg_comb_lga_est_predictions.csv\n"
     ]
    }
   ],
   "source": [
    "prefix = 'ga_res_cpg_comb_lga_est'\n",
    "model_name = 'ElasticNet'\n",
    "load_and_predict(prefix)"
   ]
  },
  {
   "cell_type": "code",
   "execution_count": 25,
   "id": "09cd7dde-fb99-4467-bee4-9e5adc63563d",
   "metadata": {},
   "outputs": [
    {
     "name": "stdout",
     "output_type": "stream",
     "text": [
      "Scaler saved at inst/extdata/ga_res_cpg_comb_subfertility_est_scaler.joblib\n",
      "Model saved at inst/extdata/ga_res_cpg_comb_subfertility_est_best_model.joblib\n",
      "Root Mean Squared Error: 0.08\n",
      "Mean Absolute Error: 0.06\n",
      "R^2: -2.89\n"
     ]
    }
   ],
   "source": [
    "prefix = 'ga_res_cpg_comb_subfertility_est'\n",
    "model_name = 'ElasticNet'\n",
    "neg_mse_scorer = make_scorer(mean_squared_error, greater_is_better=False)\n",
    "train_and_save_model(prefix, seed, models_and_params[model_name], cv=5, scoring=neg_mse_scorer, task = 'regression')"
   ]
  },
  {
   "cell_type": "code",
   "execution_count": 26,
   "id": "c3bd0af3-d9fb-4790-beee-d58bf8cf83c5",
   "metadata": {},
   "outputs": [
    {
     "name": "stdout",
     "output_type": "stream",
     "text": [
      "Predictions saved at inst/extdata/ga_res_cpg_comb_subfertility_est_predictions.csv\n"
     ]
    }
   ],
   "source": [
    "prefix = 'ga_res_cpg_comb_subfertility_est'\n",
    "model_name = 'ElasticNet'\n",
    "load_and_predict(prefix)"
   ]
  },
  {
   "cell_type": "code",
   "execution_count": null,
   "id": "00aba2e6-8a76-45e1-bbd3-e84bb7ded72e",
   "metadata": {},
   "outputs": [],
   "source": [
    "prefix = 'ga_res_cpg_comb_chorioamnionitis_est'\n",
    "model_name = 'ElasticNet'\n",
    "neg_mse_scorer = make_scorer(mean_squared_error, greater_is_better=False)\n",
    "train_and_save_model(prefix, seed, models_and_params[model_name], cv=5, scoring=neg_mse_scorer, task = 'regression')"
   ]
  },
  {
   "cell_type": "code",
   "execution_count": null,
   "id": "fc33add7-881c-4fdf-a819-a97fc28b9b30",
   "metadata": {},
   "outputs": [],
   "source": [
    "prefix = 'ga_res_cpg_comb_chorioamnionitis_est'\n",
    "model_name = 'ElasticNet'\n",
    "load_and_predict(prefix)"
   ]
  },
  {
   "cell_type": "code",
   "execution_count": 31,
   "id": "4735f7da-221c-4f88-a1e2-41ae1b0b4da9",
   "metadata": {},
   "outputs": [
    {
     "name": "stdout",
     "output_type": "stream",
     "text": [
      "Scaler saved at inst/extdata/ga_res_cpg_comb_true_est_scaler.joblib\n",
      "Model saved at inst/extdata/ga_res_cpg_comb_true_est_best_model.joblib\n",
      "Root Mean Squared Error: 0.39\n",
      "Mean Absolute Error: 0.21\n",
      "R^2: 0.04\n"
     ]
    }
   ],
   "source": [
    "prefix = 'ga_res_cpg_comb_true_est'\n",
    "model_name = 'ElasticNet'\n",
    "neg_mse_scorer = make_scorer(mean_squared_error, greater_is_better=False)\n",
    "train_and_save_model(prefix, seed, models_and_params[model_name], cv=5, scoring=neg_mse_scorer, task = 'regression')"
   ]
  },
  {
   "cell_type": "code",
   "execution_count": 32,
   "id": "b189106b-71ba-422c-8fc5-a1388f61378f",
   "metadata": {},
   "outputs": [
    {
     "name": "stdout",
     "output_type": "stream",
     "text": [
      "Predictions saved at inst/extdata/ga_res_cpg_comb_true_est_predictions.csv\n"
     ]
    }
   ],
   "source": [
    "prefix = 'ga_res_cpg_comb_true_est'\n",
    "model_name = 'ElasticNet'\n",
    "load_and_predict(prefix)"
   ]
  },
  {
   "cell_type": "code",
   "execution_count": 33,
   "id": "1c728071-4509-4cac-909b-10e22f94229d",
   "metadata": {},
   "outputs": [
    {
     "name": "stdout",
     "output_type": "stream",
     "text": [
      "Scaler saved at inst/extdata/ga_res_cpg_comb_imp_est_scaler.joblib\n",
      "Model saved at inst/extdata/ga_res_cpg_comb_imp_est_best_model.joblib\n",
      "Root Mean Squared Error: 0.43\n",
      "Mean Absolute Error: 0.24\n",
      "R^2: -0.16\n"
     ]
    }
   ],
   "source": [
    "prefix = 'ga_res_cpg_comb_imp_est'\n",
    "model_name = 'ElasticNet'\n",
    "neg_mse_scorer = make_scorer(mean_squared_error, greater_is_better=False)\n",
    "train_and_save_model(prefix, seed, models_and_params[model_name], cv=5, scoring=neg_mse_scorer, task = 'regression')"
   ]
  },
  {
   "cell_type": "code",
   "execution_count": 34,
   "id": "6776e2f5-6e10-4c39-9aa1-355c7e55da4b",
   "metadata": {},
   "outputs": [
    {
     "name": "stdout",
     "output_type": "stream",
     "text": [
      "Predictions saved at inst/extdata/ga_res_cpg_comb_imp_est_predictions.csv\n"
     ]
    }
   ],
   "source": [
    "prefix = 'ga_res_cpg_comb_imp_est'\n",
    "model_name = 'ElasticNet'\n",
    "load_and_predict(prefix)"
   ]
  },
  {
   "cell_type": "code",
   "execution_count": 35,
   "id": "229ece69-6aa3-472c-9017-fce208d7d13e",
   "metadata": {},
   "outputs": [
    {
     "name": "stdout",
     "output_type": "stream",
     "text": [
      "Scaler saved at inst/extdata/ga_res_cpg_comb_pred_est_scaler.joblib\n",
      "Model saved at inst/extdata/ga_res_cpg_comb_pred_est_best_model.joblib\n",
      "Root Mean Squared Error: 0.41\n",
      "Mean Absolute Error: 0.23\n",
      "R^2: -0.08\n"
     ]
    }
   ],
   "source": [
    "prefix = 'ga_res_cpg_comb_pred_est'\n",
    "model_name = 'ElasticNet'\n",
    "neg_mse_scorer = make_scorer(mean_squared_error, greater_is_better=False)\n",
    "train_and_save_model(prefix, seed, models_and_params[model_name], cv=5, scoring=neg_mse_scorer, task = 'regression')"
   ]
  },
  {
   "cell_type": "code",
   "execution_count": 36,
   "id": "e89d7819-8ad2-4ed0-b814-2a8bac90a638",
   "metadata": {},
   "outputs": [
    {
     "name": "stdout",
     "output_type": "stream",
     "text": [
      "Predictions saved at inst/extdata/ga_res_cpg_comb_pred_est_predictions.csv\n"
     ]
    }
   ],
   "source": [
    "prefix = 'ga_res_cpg_comb_pred_est'\n",
    "model_name = 'ElasticNet'\n",
    "load_and_predict(prefix)"
   ]
  },
  {
   "cell_type": "code",
   "execution_count": 37,
   "id": "779fc909-6fbd-4f41-a3a2-6b4284c8c320",
   "metadata": {},
   "outputs": [
    {
     "name": "stdout",
     "output_type": "stream",
     "text": [
      "Scaler saved at inst/extdata/ga_res_cpg_comb_null_est_scaler.joblib\n",
      "Model saved at inst/extdata/ga_res_cpg_comb_null_est_best_model.joblib\n",
      "Root Mean Squared Error: 0.43\n",
      "Mean Absolute Error: 0.25\n",
      "R^2: -0.18\n"
     ]
    }
   ],
   "source": [
    "prefix = 'ga_res_cpg_comb_null_est'\n",
    "model_name = 'ElasticNet'\n",
    "neg_mse_scorer = make_scorer(mean_squared_error, greater_is_better=False)\n",
    "train_and_save_model(prefix, seed, models_and_params[model_name], cv=5, scoring=neg_mse_scorer, task = 'regression')"
   ]
  },
  {
   "cell_type": "code",
   "execution_count": 38,
   "id": "aeb70b87-500d-4081-98ce-a9d89fc1158d",
   "metadata": {},
   "outputs": [
    {
     "name": "stdout",
     "output_type": "stream",
     "text": [
      "Predictions saved at inst/extdata/ga_res_cpg_comb_null_est_predictions.csv\n"
     ]
    }
   ],
   "source": [
    "prefix = 'ga_res_cpg_comb_null_est'\n",
    "model_name = 'ElasticNet'\n",
    "load_and_predict(prefix)"
   ]
  },
  {
   "cell_type": "code",
   "execution_count": null,
   "id": "a3ff2856-260b-41a3-b3f7-12db523ce4f3",
   "metadata": {},
   "outputs": [
    {
     "name": "stdout",
     "output_type": "stream",
     "text": [
      "Test indices saved at inst/extdata/preterm_pred_test_idx.csv\n",
      "Scaler saved at inst/extdata/preterm_pred_scaler.joblib\n"
     ]
    }
   ],
   "source": [
    "prefix = 'preterm_pred'\n",
    "model_name = 'LogisticElasticNet'\n",
    "custom_precision = make_scorer(precision_score, zero_division=0)\n",
    "train_and_save_model(prefix, seed, models_and_params[model_name], cv=5, scoring=custom_precision)"
   ]
  },
  {
   "cell_type": "code",
   "execution_count": null,
   "id": "75883ecd-8dc8-4999-ad51-a5e127e6317b",
   "metadata": {},
   "outputs": [],
   "source": [
    "prefix = 'preterm_pred'\n",
    "model_name = 'LogisticElasticNet'\n",
    "load_and_predict_probabilities(prefix)"
   ]
  },
  {
   "cell_type": "code",
   "execution_count": null,
   "id": "a0805f77-b7c6-4521-ae19-5cf5b66271d7",
   "metadata": {},
   "outputs": [],
   "source": [
    "prefix = 'gdm_pred'\n",
    "model_name = 'LogisticElasticNet'\n",
    "custom_precision = make_scorer(precision_score, zero_division=0)\n",
    "train_and_save_model(prefix, seed, models_and_params[model_name], cv=5, scoring=custom_precision)"
   ]
  },
  {
   "cell_type": "code",
   "execution_count": null,
   "id": "b4e9d3a0-8573-4689-9b61-8d6e4df2c7a7",
   "metadata": {},
   "outputs": [],
   "source": [
    "prefix = 'gdm_pred'\n",
    "model_name = 'LogisticElasticNet'\n",
    "load_and_predict_probabilities(prefix)"
   ]
  },
  {
   "cell_type": "code",
   "execution_count": null,
   "id": "94155b14-2f1f-415c-a079-cc0eb9d5f77a",
   "metadata": {},
   "outputs": [],
   "source": [
    "prefix = 'gdm_rf_pred'\n",
    "model_name = 'RandomForestClassifier'\n",
    "custom_precision = make_scorer(precision_score, zero_division=0)\n",
    "train_and_save_model(prefix, seed, models_and_params[model_name], cv=5, scoring=custom_precision)\n",
    "load_and_predict_probabilities(prefix)"
   ]
  },
  {
   "cell_type": "code",
   "execution_count": 7,
   "id": "dafb3903-f9bc-4c07-a3f1-a414f6d37c71",
   "metadata": {},
   "outputs": [
    {
     "name": "stdout",
     "output_type": "stream",
     "text": [
      "Test indices saved at inst/extdata/lga_pred_test_idx.csv\n",
      "Scaler saved at inst/extdata/lga_pred_scaler.joblib\n",
      "Model saved at inst/extdata/lga_pred_best_model.joblib\n"
     ]
    }
   ],
   "source": [
    "prefix = 'lga_pred'\n",
    "model_name = 'LogisticElasticNet'\n",
    "custom_precision = make_scorer(precision_score, zero_division=0)\n",
    "train_and_save_model(prefix, seed, models_and_params[model_name], cv=5, scoring=custom_precision)"
   ]
  },
  {
   "cell_type": "code",
   "execution_count": 8,
   "id": "49bef94f-1308-48c7-ba5f-b1966388efed",
   "metadata": {},
   "outputs": [
    {
     "name": "stdout",
     "output_type": "stream",
     "text": [
      "Predicted probabilities saved at inst/extdata/lga_pred_prob.csv\n"
     ]
    }
   ],
   "source": [
    "prefix = 'lga_pred'\n",
    "model_name = 'LogisticElasticNet'\n",
    "load_and_predict_probabilities(prefix)"
   ]
  },
  {
   "cell_type": "code",
   "execution_count": null,
   "id": "733593bd-a9ee-4d12-bb04-2397a83f765f",
   "metadata": {},
   "outputs": [],
   "source": [
    "prefix = 'lga_rf_pred'\n",
    "model_name = 'RandomForestClassifier'\n",
    "custom_precision = make_scorer(precision_score, zero_division=0)\n",
    "train_and_save_model(prefix, seed, models_and_params[model_name], cv=5, scoring=custom_precision)\n",
    "load_and_predict_probabilities(prefix)"
   ]
  },
  {
   "cell_type": "code",
   "execution_count": null,
   "id": "73e768df-f328-4093-afc5-e21c17286931",
   "metadata": {},
   "outputs": [],
   "source": [
    "prefix = 'subfertility_pred'\n",
    "model_name = 'LogisticElasticNet'\n",
    "custom_precision = make_scorer(precision_score, zero_division=0)\n",
    "train_and_save_model(prefix, seed, model_name, cv=5, scoring=custom_precision)\n",
    "load_and_predict_probabilities(prefix)"
   ]
  },
  {
   "cell_type": "code",
   "execution_count": null,
   "id": "8ba75093-7746-4a2c-98fd-70799a78f381",
   "metadata": {},
   "outputs": [],
   "source": [
    "prefix = 'subfertility_rf_pred'\n",
    "model_name = 'RandomForestClassifier'\n",
    "custom_precision = make_scorer(precision_score, zero_division=0)\n",
    "train_and_save_model(prefix, seed, models_and_params[model_name], cv=5, scoring=custom_precision)\n",
    "load_and_predict_probabilities(prefix)"
   ]
  },
  {
   "cell_type": "code",
   "execution_count": null,
   "id": "69afdc76-c098-4ed5-bc73-b57bff5dbe98",
   "metadata": {},
   "outputs": [],
   "source": [
    "prefix = 'chorioamnionitis_pred'\n",
    "model_name = 'LogisticElasticNet'\n",
    "custom_precision = make_scorer(precision_score, zero_division=0)\n",
    "train_and_save_model(prefix, seed, models_and_params[model_name], cv=5, scoring=custom_precision)"
   ]
  },
  {
   "cell_type": "code",
   "execution_count": null,
   "id": "218632b9-40e6-403b-b6af-12e9e3ee70a6",
   "metadata": {},
   "outputs": [],
   "source": [
    "prefix = 'chorioamnionitis_pred'\n",
    "model_name = 'LogisticElasticNet'\n",
    "load_and_predict_probabilities(prefix)"
   ]
  },
  {
   "cell_type": "code",
   "execution_count": null,
   "id": "5c345e31-3619-42e2-9d7e-09c714624aba",
   "metadata": {},
   "outputs": [],
   "source": [
    "prefix = 'chorioamnionitis_rf_pred'\n",
    "model_name = 'RandomForestClassifier'\n",
    "custom_precision = make_scorer(precision_score, zero_division=0)\n",
    "train_and_save_model(prefix, seed, models_and_params[model_name], cv=5, scoring=custom_precision)\n",
    "load_and_predict_probabilities(prefix)"
   ]
  }
 ],
 "metadata": {
  "kernelspec": {
   "display_name": "Python 3 (ipykernel)",
   "language": "python",
   "name": "python3"
  },
  "language_info": {
   "codemirror_mode": {
    "name": "ipython",
    "version": 3
   },
   "file_extension": ".py",
   "mimetype": "text/x-python",
   "name": "python",
   "nbconvert_exporter": "python",
   "pygments_lexer": "ipython3",
   "version": "3.12.4"
  }
 },
 "nbformat": 4,
 "nbformat_minor": 5
}

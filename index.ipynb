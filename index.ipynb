{
 "cells": [
  {
   "cell_type": "code",
   "execution_count": 1,
   "id": "fa371021-7867-4c5e-bf60-33d896f9aab0",
   "metadata": {},
   "outputs": [],
   "source": [
    "seed = 2024-6-10"
   ]
  },
  {
   "cell_type": "code",
   "execution_count": 2,
   "id": "7407a22f-b1b7-41eb-a2fa-cbca797867cc",
   "metadata": {},
   "outputs": [],
   "source": [
    "from sklearn.metrics import mean_squared_error, make_scorer, precision_score"
   ]
  },
  {
   "cell_type": "code",
   "execution_count": 3,
   "id": "0481526d-b4e3-4c59-bb51-237379c99c0b",
   "metadata": {},
   "outputs": [],
   "source": [
    "from utils import train_and_save_model, load_and_predict, load_and_predict_probabilities"
   ]
  },
  {
   "cell_type": "code",
   "execution_count": 4,
   "id": "247d3a05-1301-4b2c-8ea5-40dd47d5f990",
   "metadata": {},
   "outputs": [],
   "source": [
    "from sklearn.ensemble import RandomForestClassifier, RandomForestRegressor\n",
    "from sklearn.linear_model import ElasticNet, LogisticRegression\n",
    "\n",
    "# Define models and their parameter grids\n",
    "models_and_params = {\n",
    "    'RandomForestClassifier': {\n",
    "        'model': RandomForestClassifier(random_state=seed),\n",
    "        'param_grid': {\n",
    "            'n_estimators': [50, 100, 200],\n",
    "            'max_depth': [None, 10, 20],\n",
    "            'min_samples_split': [2, 5, 10]\n",
    "        }\n",
    "    },\n",
    "    'RandomForestRegressor': {\n",
    "        'model': RandomForestRegressor(random_state=seed),\n",
    "        'param_grid': {\n",
    "            'n_estimators': [50, 100, 200],\n",
    "            'max_depth': [None, 10, 20],\n",
    "            'min_samples_split': [2, 5, 10]\n",
    "        }\n",
    "    },\n",
    "    'ElasticNet': {\n",
    "        'model': ElasticNet(random_state=seed, max_iter=100000),\n",
    "        'param_grid': {\n",
    "            'alpha': [0.01, 0.1, 1, 10],\n",
    "            'l1_ratio': [0.2, 0.5, 0.8]\n",
    "        }\n",
    "    },\n",
    "    'LogisticElasticNet': {\n",
    "        'model': LogisticRegression(penalty='elasticnet', solver='saga', l1_ratio=0.5, random_state=seed, max_iter=10000),\n",
    "        'param_grid': {\n",
    "            'C': [0.01, 0.1, 1, 10],\n",
    "            'l1_ratio': [0.1, 0.5, 0.9]  # Adjusting l1_ratio close to 1 acts like LASSO, close to 0 acts like Ridge\n",
    "        }\n",
    "    }\n",
    "}"
   ]
  },
  {
   "cell_type": "code",
   "execution_count": 5,
   "id": "b2ffdb22-41a9-4c31-b8c7-713d11ebf15a",
   "metadata": {},
   "outputs": [
    {
     "name": "stdout",
     "output_type": "stream",
     "text": [
      "Test indices saved at inst/extdata/preterm_imp_test_idx.csv\n",
      "Scaler saved at inst/extdata/preterm_imp_scaler.joblib\n",
      "Model saved at inst/extdata/preterm_imp_best_model.joblib\n",
      "Predictions saved at inst/extdata/preterm_imp_predictions.csv\n"
     ]
    }
   ],
   "source": [
    "prefix = 'preterm_imp'\n",
    "model_name = 'RandomForestClassifier'\n",
    "train_and_save_model(prefix, seed, models_and_params[model_name])\n",
    "load_and_predict(prefix)"
   ]
  },
  {
   "cell_type": "code",
   "execution_count": 5,
   "id": "00603191-7f3d-4516-83f7-dfa6806767c2",
   "metadata": {},
   "outputs": [
    {
     "name": "stdout",
     "output_type": "stream",
     "text": [
      "Test indices saved at inst/extdata/gdm_imp_test_idx.csv\n",
      "Scaler saved at inst/extdata/gdm_imp_scaler.joblib\n",
      "Model saved at inst/extdata/gdm_imp_best_model.joblib\n",
      "Predictions saved at inst/extdata/gdm_imp_predictions.csv\n"
     ]
    }
   ],
   "source": [
    "prefix = 'gdm_imp'\n",
    "model_name = 'RandomForestClassifier'\n",
    "custom_precision = make_scorer(precision_score, zero_division=0)\n",
    "train_and_save_model(prefix, seed, models_and_params[model_name], cv=5, scoring=custom_precision)\n",
    "load_and_predict(prefix)"
   ]
  },
  {
   "cell_type": "code",
   "execution_count": 6,
   "id": "9064c8e2-d2f8-41ac-ac97-2c48d3d00b63",
   "metadata": {},
   "outputs": [
    {
     "name": "stdout",
     "output_type": "stream",
     "text": [
      "Test indices saved at inst/extdata/lga_imp_test_idx.csv\n",
      "Scaler saved at inst/extdata/lga_imp_scaler.joblib\n",
      "Model saved at inst/extdata/lga_imp_best_model.joblib\n",
      "Predictions saved at inst/extdata/lga_imp_predictions.csv\n"
     ]
    }
   ],
   "source": [
    "prefix = 'lga_imp'\n",
    "model_name = 'RandomForestClassifier'\n",
    "custom_precision = make_scorer(precision_score, zero_division=0)\n",
    "train_and_save_model(prefix, seed, models_and_params[model_name], cv=5, scoring=custom_precision)\n",
    "load_and_predict(prefix)"
   ]
  },
  {
   "cell_type": "code",
   "execution_count": 7,
   "id": "fa56e380-8e96-4dc4-880e-ec78162513b5",
   "metadata": {},
   "outputs": [
    {
     "name": "stdout",
     "output_type": "stream",
     "text": [
      "Test indices saved at inst/extdata/chorioamnionitis_imp_test_idx.csv\n",
      "Scaler saved at inst/extdata/chorioamnionitis_imp_scaler.joblib\n",
      "Model saved at inst/extdata/chorioamnionitis_imp_best_model.joblib\n",
      "Predictions saved at inst/extdata/chorioamnionitis_imp_predictions.csv\n"
     ]
    }
   ],
   "source": [
    "prefix = 'chorioamnionitis_imp'\n",
    "model_name = 'RandomForestClassifier'\n",
    "custom_precision = make_scorer(precision_score, zero_division=0)\n",
    "train_and_save_model(prefix, seed, models_and_params[model_name], cv=5, scoring=custom_precision)\n",
    "load_and_predict(prefix)"
   ]
  },
  {
   "cell_type": "code",
   "execution_count": 7,
   "id": "660cbb17-969d-46e9-a024-2434d9b0f682",
   "metadata": {},
   "outputs": [
    {
     "name": "stdout",
     "output_type": "stream",
     "text": [
      "Test indices saved at inst/extdata/ga_est_test_idx.csv\n",
      "Scaler saved at inst/extdata/ga_est_scaler.joblib\n",
      "Model saved at inst/extdata/ga_est_best_model.joblib\n"
     ]
    }
   ],
   "source": [
    "prefix = 'ga_est'\n",
    "model_name = 'ElasticNet'\n",
    "neg_mse_scorer = make_scorer(mean_squared_error, greater_is_better=False)\n",
    "train_and_save_model(prefix, seed, models_and_params[model_name], cv=3, scoring=neg_mse_scorer, task = 'regression')"
   ]
  },
  {
   "cell_type": "code",
   "execution_count": 8,
   "id": "aecef5be-5c91-4827-b59f-96bd2e4c4b89",
   "metadata": {},
   "outputs": [
    {
     "name": "stdout",
     "output_type": "stream",
     "text": [
      "Predictions saved at inst/extdata/ga_est_predictions.csv\n"
     ]
    }
   ],
   "source": [
    "prefix = 'ga_est'\n",
    "model_name = 'ElasticNet'\n",
    "load_and_predict(prefix)"
   ]
  },
  {
   "cell_type": "code",
   "execution_count": 5,
   "id": "0e4d36b8-fae5-44b1-8c75-19ef78ec8803",
   "metadata": {},
   "outputs": [
    {
     "name": "stdout",
     "output_type": "stream",
     "text": [
      "Test indices saved at inst/extdata/ga_resfull_rf_est_test_idx.csv\n",
      "Scaler saved at inst/extdata/ga_resfull_rf_est_scaler.joblib\n",
      "Model saved at inst/extdata/ga_resfull_rf_est_best_model.joblib\n"
     ]
    }
   ],
   "source": [
    "prefix = 'ga_resfull_rf_est'\n",
    "model_name = 'RandomForestRegressor'\n",
    "neg_mse_scorer = make_scorer(mean_squared_error, greater_is_better=False)\n",
    "train_and_save_model(prefix, seed, models_and_params[model_name], cv=5, scoring=neg_mse_scorer, task = 'regression')"
   ]
  },
  {
   "cell_type": "code",
   "execution_count": 6,
   "id": "8bda5545-3103-48a6-9428-9fd5a71d0183",
   "metadata": {},
   "outputs": [
    {
     "name": "stdout",
     "output_type": "stream",
     "text": [
      "Predictions saved at inst/extdata/ga_resfull_rf_est_predictions.csv\n"
     ]
    }
   ],
   "source": [
    "prefix = 'ga_resfull_rf_est'\n",
    "model_name = 'RandomForestRegressor'\n",
    "load_and_predict(prefix)"
   ]
  },
  {
   "cell_type": "code",
   "execution_count": null,
   "id": "30fa9b11-f6fb-49f8-856e-6f4240e2d6ad",
   "metadata": {},
   "outputs": [
    {
     "name": "stdout",
     "output_type": "stream",
     "text": [
      "Test indices saved at inst/extdata/ga_res_conds_preterm_est_test_idx.csv\n",
      "Scaler saved at inst/extdata/ga_res_conds_preterm_est_scaler.joblib\n"
     ]
    }
   ],
   "source": [
    "prefix = 'ga_res_conds_preterm_est'\n",
    "model_name = 'ElasticNet'\n",
    "neg_mse_scorer = make_scorer(mean_squared_error, greater_is_better=False)\n",
    "train_and_save_model(prefix, seed, models_and_params[model_name], cv=5, scoring=neg_mse_scorer, task = 'regression')"
   ]
  },
  {
   "cell_type": "code",
   "execution_count": null,
   "id": "a71e9b6b-21fb-4b26-9fc9-5752b29c94c8",
   "metadata": {},
   "outputs": [],
   "source": [
    "prefix = 'ga_res_conds_preterm_est'\n",
    "model_name = 'ElasticNet'\n",
    "load_and_predict(prefix)"
   ]
  },
  {
   "cell_type": "code",
   "execution_count": 19,
   "id": "8977edc4-a6c7-47a1-9e14-d8cf57d6c846",
   "metadata": {},
   "outputs": [
    {
     "name": "stdout",
     "output_type": "stream",
     "text": [
      "Test indices saved at inst/extdata/ga_res_conds_gdm_est_test_idx.csv\n",
      "Scaler saved at inst/extdata/ga_res_conds_gdm_est_scaler.joblib\n",
      "Model saved at inst/extdata/ga_res_conds_gdm_est_best_model.joblib\n"
     ]
    }
   ],
   "source": [
    "prefix = 'ga_res_conds_gdm_est'\n",
    "model_name = 'ElasticNet'\n",
    "neg_mse_scorer = make_scorer(mean_squared_error, greater_is_better=False)\n",
    "train_and_save_model(prefix, seed, models_and_params[model_name], cv=5, scoring=neg_mse_scorer, task = 'regression')"
   ]
  },
  {
   "cell_type": "code",
   "execution_count": 13,
   "id": "29932361-7ed6-468f-ab49-430efb9e5c5f",
   "metadata": {},
   "outputs": [
    {
     "name": "stdout",
     "output_type": "stream",
     "text": [
      "Predictions saved at inst/extdata/ga_res_conds_gdm_est_predictions.csv\n"
     ]
    }
   ],
   "source": [
    "prefix = 'ga_res_conds_gdm_est'\n",
    "model_name = 'ElasticNet'\n",
    "load_and_predict(prefix)"
   ]
  },
  {
   "cell_type": "code",
   "execution_count": 15,
   "id": "f52cc909-2edf-430d-9c96-7d8d0f4087e3",
   "metadata": {},
   "outputs": [
    {
     "name": "stdout",
     "output_type": "stream",
     "text": [
      "Test indices saved at inst/extdata/ga_res_conds_lga_est_test_idx.csv\n",
      "Scaler saved at inst/extdata/ga_res_conds_lga_est_scaler.joblib\n",
      "Model saved at inst/extdata/ga_res_conds_lga_est_best_model.joblib\n"
     ]
    }
   ],
   "source": [
    "prefix = 'ga_res_conds_lga_est'\n",
    "model_name = 'ElasticNet'\n",
    "neg_mse_scorer = make_scorer(mean_squared_error, greater_is_better=False)\n",
    "train_and_save_model(prefix, seed, models_and_params[model_name], cv=5, scoring=neg_mse_scorer, task = 'regression')"
   ]
  },
  {
   "cell_type": "code",
   "execution_count": null,
   "id": "46de3d78-2fc0-4763-adc6-026df119fd88",
   "metadata": {},
   "outputs": [],
   "source": [
    "prefix = 'ga_res_conds_lga_est'\n",
    "model_name = 'ElasticNet'\n",
    "load_and_predict(prefix)"
   ]
  },
  {
   "cell_type": "code",
   "execution_count": 13,
   "id": "f8dbea52-b7f6-4244-84f6-ff4ff0236b8f",
   "metadata": {},
   "outputs": [
    {
     "name": "stdout",
     "output_type": "stream",
     "text": [
      "Test indices saved at inst/extdata/ga_res_conds_chorioamnionitis_est_test_idx.csv\n",
      "Scaler saved at inst/extdata/ga_res_conds_chorioamnionitis_est_scaler.joblib\n",
      "Model saved at inst/extdata/ga_res_conds_chorioamnionitis_est_best_model.joblib\n"
     ]
    }
   ],
   "source": [
    "prefix = 'ga_res_conds_chorioamnionitis_est'\n",
    "model_name = 'ElasticNet'\n",
    "neg_mse_scorer = make_scorer(mean_squared_error, greater_is_better=False)\n",
    "train_and_save_model(prefix, seed, models_and_params[model_name], cv=5, scoring=neg_mse_scorer, task = 'regression')"
   ]
  },
  {
   "cell_type": "code",
   "execution_count": 14,
   "id": "5714a77d-e26a-4bf3-b65a-3fefe777fb34",
   "metadata": {
    "collapsed": true,
    "jupyter": {
     "outputs_hidden": true
    },
    "scrolled": true
   },
   "outputs": [
    {
     "ename": "MemoryError",
     "evalue": "",
     "output_type": "error",
     "traceback": [
      "\u001b[1;31m---------------------------------------------------------------------------\u001b[0m",
      "\u001b[1;31mMemoryError\u001b[0m                               Traceback (most recent call last)",
      "Cell \u001b[1;32mIn[14], line 3\u001b[0m\n\u001b[0;32m      1\u001b[0m prefix \u001b[38;5;241m=\u001b[39m \u001b[38;5;124m'\u001b[39m\u001b[38;5;124mga_res_conds_chorioamnionitis_est\u001b[39m\u001b[38;5;124m'\u001b[39m\n\u001b[0;32m      2\u001b[0m model_name \u001b[38;5;241m=\u001b[39m \u001b[38;5;124m'\u001b[39m\u001b[38;5;124mElasticNet\u001b[39m\u001b[38;5;124m'\u001b[39m\n\u001b[1;32m----> 3\u001b[0m load_and_predict(prefix)\n",
      "File \u001b[1;32mD:\\herdian\\tmp_project_folders\\placental_clock_dream_task2\\utils0.py:105\u001b[0m, in \u001b[0;36mload_and_predict\u001b[1;34m(prefix)\u001b[0m\n\u001b[0;32m    102\u001b[0m best_model \u001b[38;5;241m=\u001b[39m load(\u001b[38;5;124mf\u001b[39m\u001b[38;5;124m'\u001b[39m\u001b[38;5;124minst/extdata/\u001b[39m\u001b[38;5;132;01m{\u001b[39;00mprefix\u001b[38;5;132;01m}\u001b[39;00m\u001b[38;5;124m_best_model.joblib\u001b[39m\u001b[38;5;124m'\u001b[39m)\n\u001b[0;32m    104\u001b[0m \u001b[38;5;66;03m# Load the new dataset for prediction\u001b[39;00m\n\u001b[1;32m--> 105\u001b[0m X_new \u001b[38;5;241m=\u001b[39m pd\u001b[38;5;241m.\u001b[39mread_csv(\u001b[38;5;124mf\u001b[39m\u001b[38;5;124m'\u001b[39m\u001b[38;5;124minst/extdata/\u001b[39m\u001b[38;5;132;01m{\u001b[39;00mprefix\u001b[38;5;132;01m}\u001b[39;00m\u001b[38;5;124m_set.csv\u001b[39m\u001b[38;5;124m'\u001b[39m)\n\u001b[0;32m    107\u001b[0m \u001b[38;5;66;03m# Standardize the new dataset using the same scaler\u001b[39;00m\n\u001b[0;32m    108\u001b[0m X_new_scaled \u001b[38;5;241m=\u001b[39m scaler\u001b[38;5;241m.\u001b[39mtransform(X_new)\n",
      "File \u001b[1;32mD:\\herdian\\tmp_project_folders\\placental_clock_dream_task2\\placental_clock_dream_task2_env\\Lib\\site-packages\\pandas\\io\\parsers\\readers.py:1026\u001b[0m, in \u001b[0;36mread_csv\u001b[1;34m(filepath_or_buffer, sep, delimiter, header, names, index_col, usecols, dtype, engine, converters, true_values, false_values, skipinitialspace, skiprows, skipfooter, nrows, na_values, keep_default_na, na_filter, verbose, skip_blank_lines, parse_dates, infer_datetime_format, keep_date_col, date_parser, date_format, dayfirst, cache_dates, iterator, chunksize, compression, thousands, decimal, lineterminator, quotechar, quoting, doublequote, escapechar, comment, encoding, encoding_errors, dialect, on_bad_lines, delim_whitespace, low_memory, memory_map, float_precision, storage_options, dtype_backend)\u001b[0m\n\u001b[0;32m   1013\u001b[0m kwds_defaults \u001b[38;5;241m=\u001b[39m _refine_defaults_read(\n\u001b[0;32m   1014\u001b[0m     dialect,\n\u001b[0;32m   1015\u001b[0m     delimiter,\n\u001b[1;32m   (...)\u001b[0m\n\u001b[0;32m   1022\u001b[0m     dtype_backend\u001b[38;5;241m=\u001b[39mdtype_backend,\n\u001b[0;32m   1023\u001b[0m )\n\u001b[0;32m   1024\u001b[0m kwds\u001b[38;5;241m.\u001b[39mupdate(kwds_defaults)\n\u001b[1;32m-> 1026\u001b[0m \u001b[38;5;28;01mreturn\u001b[39;00m _read(filepath_or_buffer, kwds)\n",
      "File \u001b[1;32mD:\\herdian\\tmp_project_folders\\placental_clock_dream_task2\\placental_clock_dream_task2_env\\Lib\\site-packages\\pandas\\io\\parsers\\readers.py:626\u001b[0m, in \u001b[0;36m_read\u001b[1;34m(filepath_or_buffer, kwds)\u001b[0m\n\u001b[0;32m    623\u001b[0m     \u001b[38;5;28;01mreturn\u001b[39;00m parser\n\u001b[0;32m    625\u001b[0m \u001b[38;5;28;01mwith\u001b[39;00m parser:\n\u001b[1;32m--> 626\u001b[0m     \u001b[38;5;28;01mreturn\u001b[39;00m parser\u001b[38;5;241m.\u001b[39mread(nrows)\n",
      "File \u001b[1;32mD:\\herdian\\tmp_project_folders\\placental_clock_dream_task2\\placental_clock_dream_task2_env\\Lib\\site-packages\\pandas\\io\\parsers\\readers.py:1923\u001b[0m, in \u001b[0;36mTextFileReader.read\u001b[1;34m(self, nrows)\u001b[0m\n\u001b[0;32m   1916\u001b[0m nrows \u001b[38;5;241m=\u001b[39m validate_integer(\u001b[38;5;124m\"\u001b[39m\u001b[38;5;124mnrows\u001b[39m\u001b[38;5;124m\"\u001b[39m, nrows)\n\u001b[0;32m   1917\u001b[0m \u001b[38;5;28;01mtry\u001b[39;00m:\n\u001b[0;32m   1918\u001b[0m     \u001b[38;5;66;03m# error: \"ParserBase\" has no attribute \"read\"\u001b[39;00m\n\u001b[0;32m   1919\u001b[0m     (\n\u001b[0;32m   1920\u001b[0m         index,\n\u001b[0;32m   1921\u001b[0m         columns,\n\u001b[0;32m   1922\u001b[0m         col_dict,\n\u001b[1;32m-> 1923\u001b[0m     ) \u001b[38;5;241m=\u001b[39m \u001b[38;5;28mself\u001b[39m\u001b[38;5;241m.\u001b[39m_engine\u001b[38;5;241m.\u001b[39mread(  \u001b[38;5;66;03m# type: ignore[attr-defined]\u001b[39;00m\n\u001b[0;32m   1924\u001b[0m         nrows\n\u001b[0;32m   1925\u001b[0m     )\n\u001b[0;32m   1926\u001b[0m \u001b[38;5;28;01mexcept\u001b[39;00m \u001b[38;5;167;01mException\u001b[39;00m:\n\u001b[0;32m   1927\u001b[0m     \u001b[38;5;28mself\u001b[39m\u001b[38;5;241m.\u001b[39mclose()\n",
      "File \u001b[1;32mD:\\herdian\\tmp_project_folders\\placental_clock_dream_task2\\placental_clock_dream_task2_env\\Lib\\site-packages\\pandas\\io\\parsers\\c_parser_wrapper.py:234\u001b[0m, in \u001b[0;36mCParserWrapper.read\u001b[1;34m(self, nrows)\u001b[0m\n\u001b[0;32m    232\u001b[0m \u001b[38;5;28;01mtry\u001b[39;00m:\n\u001b[0;32m    233\u001b[0m     \u001b[38;5;28;01mif\u001b[39;00m \u001b[38;5;28mself\u001b[39m\u001b[38;5;241m.\u001b[39mlow_memory:\n\u001b[1;32m--> 234\u001b[0m         chunks \u001b[38;5;241m=\u001b[39m \u001b[38;5;28mself\u001b[39m\u001b[38;5;241m.\u001b[39m_reader\u001b[38;5;241m.\u001b[39mread_low_memory(nrows)\n\u001b[0;32m    235\u001b[0m         \u001b[38;5;66;03m# destructive to chunks\u001b[39;00m\n\u001b[0;32m    236\u001b[0m         data \u001b[38;5;241m=\u001b[39m _concatenate_chunks(chunks)\n",
      "File \u001b[1;32mparsers.pyx:838\u001b[0m, in \u001b[0;36mpandas._libs.parsers.TextReader.read_low_memory\u001b[1;34m()\u001b[0m\n",
      "File \u001b[1;32mparsers.pyx:921\u001b[0m, in \u001b[0;36mpandas._libs.parsers.TextReader._read_rows\u001b[1;34m()\u001b[0m\n",
      "File \u001b[1;32mparsers.pyx:1092\u001b[0m, in \u001b[0;36mpandas._libs.parsers.TextReader._convert_column_data\u001b[1;34m()\u001b[0m\n",
      "\u001b[1;31mMemoryError\u001b[0m: "
     ]
    }
   ],
   "source": [
    "prefix = 'ga_res_conds_chorioamnionitis_est'\n",
    "model_name = 'ElasticNet'\n",
    "load_and_predict(prefix)"
   ]
  },
  {
   "cell_type": "code",
   "execution_count": 18,
   "id": "111785ce-7700-46f8-afba-9d6ea3f9a175",
   "metadata": {},
   "outputs": [
    {
     "name": "stdout",
     "output_type": "stream",
     "text": [
      "Scaler saved at inst/extdata/ga_res_conds_pred_est_scaler.joblib\n",
      "Model saved at inst/extdata/ga_res_conds_pred_est_best_model.joblib\n",
      "Root Mean Squared Error: 0.77\n",
      "Mean Absolute Error: 0.54\n",
      "R^2: 0.81\n"
     ]
    }
   ],
   "source": [
    "prefix = 'ga_res_conds_pred_est'\n",
    "model_name = 'ElasticNet'\n",
    "neg_mse_scorer = make_scorer(mean_squared_error, greater_is_better=False)\n",
    "train_and_save_model(prefix, seed, models_and_params[model_name], cv=5, scoring=neg_mse_scorer, task = 'regression')"
   ]
  },
  {
   "cell_type": "code",
   "execution_count": 19,
   "id": "61d8775f-5d0f-4d84-b68b-d504923e68dd",
   "metadata": {},
   "outputs": [
    {
     "name": "stdout",
     "output_type": "stream",
     "text": [
      "Predictions saved at inst/extdata/ga_res_conds_pred_est_predictions.csv\n"
     ]
    }
   ],
   "source": [
    "prefix = 'ga_res_conds_pred_est'\n",
    "model_name = 'ElasticNet'\n",
    "load_and_predict(prefix)"
   ]
  },
  {
   "cell_type": "code",
   "execution_count": null,
   "id": "4530016e-1a5c-4df4-b856-fa0167262483",
   "metadata": {},
   "outputs": [
    {
     "name": "stdout",
     "output_type": "stream",
     "text": [
      "Test indices saved at inst/extdata/ga_res_comb_pr_est_test_idx.csv\n",
      "Scaler saved at inst/extdata/ga_res_comb_pr_est_scaler.joblib\n"
     ]
    }
   ],
   "source": [
    "prefix = 'ga_res_comb_pr_est'\n",
    "model_name = 'ElasticNet'\n",
    "neg_mse_scorer = make_scorer(mean_squared_error, greater_is_better=False)\n",
    "train_and_save_model(prefix, seed, models_and_params[model_name], cv=5, scoring=neg_mse_scorer, task = 'regression')"
   ]
  },
  {
   "cell_type": "code",
   "execution_count": 6,
   "id": "84dc9767-7a0b-4614-a357-24da130d8e08",
   "metadata": {},
   "outputs": [
    {
     "name": "stdout",
     "output_type": "stream",
     "text": [
      "Predictions saved at inst/extdata/ga_res_comb_pr_est_predictions.csv\n"
     ]
    }
   ],
   "source": [
    "prefix = 'ga_res_comb_pr_est'\n",
    "model_name = 'ElasticNet'\n",
    "load_and_predict(prefix)"
   ]
  },
  {
   "cell_type": "code",
   "execution_count": 7,
   "id": "44ff6da3-63c4-4b99-b281-67b24c254643",
   "metadata": {
    "scrolled": true
   },
   "outputs": [
    {
     "name": "stdout",
     "output_type": "stream",
     "text": [
      "Test indices saved at inst/extdata/ga_res_comb_tb_est_test_idx.csv\n",
      "Scaler saved at inst/extdata/ga_res_comb_tb_est_scaler.joblib\n",
      "Model saved at inst/extdata/ga_res_comb_tb_est_best_model.joblib\n"
     ]
    }
   ],
   "source": [
    "prefix = 'ga_res_comb_tb_est'\n",
    "model_name = 'ElasticNet'\n",
    "neg_mse_scorer = make_scorer(mean_squared_error, greater_is_better=False)\n",
    "train_and_save_model(prefix, seed, models_and_params[model_name], cv=5, scoring=neg_mse_scorer, task = 'regression')"
   ]
  },
  {
   "cell_type": "code",
   "execution_count": 8,
   "id": "30e7dfa0-dcc2-44e6-a94e-ec6786e0d77e",
   "metadata": {},
   "outputs": [
    {
     "name": "stdout",
     "output_type": "stream",
     "text": [
      "Predictions saved at inst/extdata/ga_res_comb_tb_est_predictions.csv\n"
     ]
    }
   ],
   "source": [
    "prefix = 'ga_res_comb_tb_est'\n",
    "model_name = 'ElasticNet'\n",
    "load_and_predict(prefix)"
   ]
  },
  {
   "cell_type": "code",
   "execution_count": 9,
   "id": "02c11a02-55c2-4c46-992d-536f5c44973e",
   "metadata": {},
   "outputs": [
    {
     "name": "stdout",
     "output_type": "stream",
     "text": [
      "Test indices saved at inst/extdata/ga_res_comb_ta_est_test_idx.csv\n",
      "Scaler saved at inst/extdata/ga_res_comb_ta_est_scaler.joblib\n",
      "Model saved at inst/extdata/ga_res_comb_ta_est_best_model.joblib\n"
     ]
    }
   ],
   "source": [
    "prefix = 'ga_res_comb_ta_est'\n",
    "model_name = 'ElasticNet'\n",
    "neg_mse_scorer = make_scorer(mean_squared_error, greater_is_better=False)\n",
    "train_and_save_model(prefix, seed, models_and_params[model_name], cv=5, scoring=neg_mse_scorer, task = 'regression')"
   ]
  },
  {
   "cell_type": "code",
   "execution_count": 10,
   "id": "f2dfed89-e63e-42af-9436-8f79afb501fd",
   "metadata": {},
   "outputs": [
    {
     "name": "stdout",
     "output_type": "stream",
     "text": [
      "Predictions saved at inst/extdata/ga_res_comb_ta_est_predictions.csv\n"
     ]
    }
   ],
   "source": [
    "prefix = 'ga_res_comb_ta_est'\n",
    "model_name = 'ElasticNet'\n",
    "load_and_predict(prefix)"
   ]
  },
  {
   "cell_type": "code",
   "execution_count": 13,
   "id": "a3ff2856-260b-41a3-b3f7-12db523ce4f3",
   "metadata": {},
   "outputs": [
    {
     "name": "stdout",
     "output_type": "stream",
     "text": [
      "Test indices saved at inst/extdata/preterm_pred_test_idx.csv\n",
      "Scaler saved at inst/extdata/preterm_pred_scaler.joblib\n",
      "Model saved at inst/extdata/preterm_pred_best_model.joblib\n"
     ]
    }
   ],
   "source": [
    "prefix = 'preterm_pred'\n",
    "model_name = 'LogisticElasticNet'\n",
    "custom_precision = make_scorer(precision_score, zero_division=0)\n",
    "train_and_save_model(prefix, seed, models_and_params[model_name], cv=5, scoring=custom_precision)"
   ]
  },
  {
   "cell_type": "code",
   "execution_count": null,
   "id": "75883ecd-8dc8-4999-ad51-a5e127e6317b",
   "metadata": {},
   "outputs": [
    {
     "name": "stdout",
     "output_type": "stream",
     "text": [
      "Predicted probabilities saved at inst/extdata/preterm_pred_prob.csv\n"
     ]
    }
   ],
   "source": [
    "prefix = 'preterm_pred'\n",
    "model_name = 'LogisticElasticNet'\n",
    "load_and_predict_probabilities(prefix)"
   ]
  },
  {
   "cell_type": "code",
   "execution_count": 15,
   "id": "a0805f77-b7c6-4521-ae19-5cf5b66271d7",
   "metadata": {},
   "outputs": [
    {
     "name": "stdout",
     "output_type": "stream",
     "text": [
      "Test indices saved at inst/extdata/gdm_pred_test_idx.csv\n",
      "Scaler saved at inst/extdata/gdm_pred_scaler.joblib\n",
      "Model saved at inst/extdata/gdm_pred_best_model.joblib\n"
     ]
    }
   ],
   "source": [
    "prefix = 'gdm_pred'\n",
    "model_name = 'LogisticElasticNet'\n",
    "custom_precision = make_scorer(precision_score, zero_division=0)\n",
    "train_and_save_model(prefix, seed, models_and_params[model_name], cv=5, scoring=custom_precision)"
   ]
  },
  {
   "cell_type": "code",
   "execution_count": 16,
   "id": "b4e9d3a0-8573-4689-9b61-8d6e4df2c7a7",
   "metadata": {},
   "outputs": [
    {
     "name": "stdout",
     "output_type": "stream",
     "text": [
      "Predicted probabilities saved at inst/extdata/gdm_pred_prob.csv\n"
     ]
    }
   ],
   "source": [
    "prefix = 'gdm_pred'\n",
    "model_name = 'LogisticElasticNet'\n",
    "load_and_predict_probabilities(prefix)"
   ]
  },
  {
   "cell_type": "code",
   "execution_count": 17,
   "id": "dafb3903-f9bc-4c07-a3f1-a414f6d37c71",
   "metadata": {},
   "outputs": [
    {
     "name": "stdout",
     "output_type": "stream",
     "text": [
      "Test indices saved at inst/extdata/lga_pred_test_idx.csv\n",
      "Scaler saved at inst/extdata/lga_pred_scaler.joblib\n",
      "Model saved at inst/extdata/lga_pred_best_model.joblib\n"
     ]
    }
   ],
   "source": [
    "prefix = 'lga_pred'\n",
    "model_name = 'LogisticElasticNet'\n",
    "custom_precision = make_scorer(precision_score, zero_division=0)\n",
    "train_and_save_model(prefix, seed, models_and_params[model_name], cv=5, scoring=custom_precision)"
   ]
  },
  {
   "cell_type": "code",
   "execution_count": 18,
   "id": "49bef94f-1308-48c7-ba5f-b1966388efed",
   "metadata": {},
   "outputs": [
    {
     "name": "stdout",
     "output_type": "stream",
     "text": [
      "Predicted probabilities saved at inst/extdata/lga_pred_prob.csv\n"
     ]
    }
   ],
   "source": [
    "prefix = 'lga_pred'\n",
    "model_name = 'LogisticElasticNet'\n",
    "load_and_predict_probabilities(prefix)"
   ]
  },
  {
   "cell_type": "code",
   "execution_count": 19,
   "id": "69afdc76-c098-4ed5-bc73-b57bff5dbe98",
   "metadata": {},
   "outputs": [
    {
     "name": "stdout",
     "output_type": "stream",
     "text": [
      "Test indices saved at inst/extdata/chorioamnionitis_pred_test_idx.csv\n",
      "Scaler saved at inst/extdata/chorioamnionitis_pred_scaler.joblib\n",
      "Model saved at inst/extdata/chorioamnionitis_pred_best_model.joblib\n"
     ]
    }
   ],
   "source": [
    "prefix = 'chorioamnionitis_pred'\n",
    "model_name = 'LogisticElasticNet'\n",
    "custom_precision = make_scorer(precision_score, zero_division=0)\n",
    "train_and_save_model(prefix, seed, models_and_params[model_name], cv=5, scoring=custom_precision)"
   ]
  },
  {
   "cell_type": "code",
   "execution_count": 20,
   "id": "218632b9-40e6-403b-b6af-12e9e3ee70a6",
   "metadata": {},
   "outputs": [
    {
     "name": "stdout",
     "output_type": "stream",
     "text": [
      "Predicted probabilities saved at inst/extdata/chorioamnionitis_pred_prob.csv\n"
     ]
    }
   ],
   "source": [
    "prefix = 'chorioamnionitis_pred'\n",
    "model_name = 'LogisticElasticNet'\n",
    "load_and_predict_probabilities(prefix)"
   ]
  }
 ],
 "metadata": {
  "kernelspec": {
   "display_name": "Python 3 (ipykernel)",
   "language": "python",
   "name": "python3"
  },
  "language_info": {
   "codemirror_mode": {
    "name": "ipython",
    "version": 3
   },
   "file_extension": ".py",
   "mimetype": "text/x-python",
   "name": "python",
   "nbconvert_exporter": "python",
   "pygments_lexer": "ipython3",
   "version": "3.12.4"
  }
 },
 "nbformat": 4,
 "nbformat_minor": 5
}

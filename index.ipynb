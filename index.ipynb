{
 "cells": [
  {
   "cell_type": "markdown",
   "id": "26b22ca3-376d-41d1-80b6-2d170010be7b",
   "metadata": {},
   "source": [
    "# Programming environment"
   ]
  },
  {
   "cell_type": "code",
   "execution_count": 1,
   "id": "fa371021-7867-4c5e-bf60-33d896f9aab0",
   "metadata": {},
   "outputs": [],
   "source": [
    "seed = 2024-6-10"
   ]
  },
  {
   "cell_type": "code",
   "execution_count": 2,
   "id": "7407a22f-b1b7-41eb-a2fa-cbca797867cc",
   "metadata": {},
   "outputs": [],
   "source": [
    "from sklearn.metrics import mean_squared_error, make_scorer, precision_score"
   ]
  },
  {
   "cell_type": "code",
   "execution_count": 3,
   "id": "0481526d-b4e3-4c59-bb51-237379c99c0b",
   "metadata": {},
   "outputs": [],
   "source": [
    "from utils import train_and_save_model, load_and_predict, load_and_predict_probabilities, save_model_coefficients"
   ]
  },
  {
   "cell_type": "code",
   "execution_count": 4,
   "id": "247d3a05-1301-4b2c-8ea5-40dd47d5f990",
   "metadata": {},
   "outputs": [],
   "source": [
    "from sklearn.ensemble import RandomForestClassifier, RandomForestRegressor\n",
    "from sklearn.linear_model import ElasticNet, LogisticRegression\n",
    "\n",
    "# Define models and their parameter grids\n",
    "models_and_params = {\n",
    "    'RandomForestClassifier': {\n",
    "        'model': RandomForestClassifier(random_state=seed),\n",
    "        'param_grid': {\n",
    "            'n_estimators': [50, 100, 200],\n",
    "            'max_depth': [None, 10, 20],\n",
    "            'min_samples_split': [2, 5, 10]\n",
    "        }\n",
    "    },\n",
    "    'RandomForestRegressor': {\n",
    "        'model': RandomForestRegressor(random_state=seed),\n",
    "        'param_grid': {\n",
    "            'n_estimators': [50, 100, 200],\n",
    "            'max_depth': [None, 10, 20],\n",
    "            'min_samples_split': [2, 5, 10]\n",
    "        }\n",
    "    },\n",
    "    'ElasticNet': {\n",
    "        'model': ElasticNet(random_state=seed, max_iter=100000),\n",
    "        'param_grid': {\n",
    "            'alpha': [0.01, 0.1, 1, 10],\n",
    "            'l1_ratio': [0.2, 0.5, 0.8]\n",
    "        }\n",
    "    },\n",
    "    'LogisticElasticNet': {\n",
    "        'model': LogisticRegression(penalty='elasticnet', solver='saga', l1_ratio=0.5, random_state=seed, max_iter=10000),\n",
    "        'param_grid': {\n",
    "            'C': [0.01, 0.1, 1, 10],\n",
    "            'l1_ratio': [0.1, 0.5, 0.9]  # Adjusting l1_ratio close to 1 acts like LASSO, close to 0 acts like Ridge\n",
    "        }\n",
    "    }\n",
    "}"
   ]
  },
  {
   "cell_type": "markdown",
   "id": "286bf1b2-edc6-4834-aaac-922f37d732c1",
   "metadata": {},
   "source": [
    "# Phenotype preprocessing"
   ]
  },
  {
   "cell_type": "markdown",
   "id": "1be3467d-a743-4fb8-ae10-c6cda3ae2e60",
   "metadata": {},
   "source": [
    "## Phenotype imputation for conditions"
   ]
  },
  {
   "cell_type": "markdown",
   "id": "fdae4e08-11f7-4414-ac2c-9d98e84c010e",
   "metadata": {},
   "source": [
    "### Preterm imputation"
   ]
  },
  {
   "cell_type": "code",
   "execution_count": 5,
   "id": "b2ffdb22-41a9-4c31-b8c7-713d11ebf15a",
   "metadata": {},
   "outputs": [
    {
     "name": "stdout",
     "output_type": "stream",
     "text": [
      "Test indices saved at inst/extdata/preterm_imp_test_idx.csv\n",
      "Scaler saved at inst/extdata/preterm_imp_scaler.joblib\n",
      "Model saved at inst/extdata/preterm_imp_best_model.joblib\n",
      "Predictions saved at inst/extdata/preterm_imp_predictions.csv\n"
     ]
    }
   ],
   "source": [
    "prefix = 'preterm_imp'\n",
    "model_name = 'RandomForestClassifier'\n",
    "train_and_save_model(prefix, seed, models_and_params[model_name])\n",
    "load_and_predict(prefix)"
   ]
  },
  {
   "cell_type": "markdown",
   "id": "c96f1310-3ae2-4339-b072-7667dd498a2f",
   "metadata": {},
   "source": [
    "### GDM imputation"
   ]
  },
  {
   "cell_type": "code",
   "execution_count": 5,
   "id": "00603191-7f3d-4516-83f7-dfa6806767c2",
   "metadata": {},
   "outputs": [
    {
     "name": "stdout",
     "output_type": "stream",
     "text": [
      "Test indices saved at inst/extdata/gdm_imp_test_idx.csv\n",
      "Scaler saved at inst/extdata/gdm_imp_scaler.joblib\n",
      "Model saved at inst/extdata/gdm_imp_best_model.joblib\n",
      "Predictions saved at inst/extdata/gdm_imp_predictions.csv\n"
     ]
    }
   ],
   "source": [
    "prefix = 'gdm_imp'\n",
    "model_name = 'RandomForestClassifier'\n",
    "custom_precision = make_scorer(precision_score, zero_division=0)\n",
    "train_and_save_model(prefix, seed, models_and_params[model_name], cv=5, scoring=custom_precision)\n",
    "load_and_predict(prefix)"
   ]
  },
  {
   "cell_type": "markdown",
   "id": "f92d3135-df61-4f54-afb2-ca437ad9447e",
   "metadata": {},
   "source": [
    "### LGA imputation"
   ]
  },
  {
   "cell_type": "code",
   "execution_count": 6,
   "id": "9064c8e2-d2f8-41ac-ac97-2c48d3d00b63",
   "metadata": {},
   "outputs": [
    {
     "name": "stdout",
     "output_type": "stream",
     "text": [
      "Test indices saved at inst/extdata/lga_imp_test_idx.csv\n",
      "Scaler saved at inst/extdata/lga_imp_scaler.joblib\n",
      "Model saved at inst/extdata/lga_imp_best_model.joblib\n",
      "Predictions saved at inst/extdata/lga_imp_predictions.csv\n"
     ]
    }
   ],
   "source": [
    "prefix = 'lga_imp'\n",
    "model_name = 'RandomForestClassifier'\n",
    "custom_precision = make_scorer(precision_score, zero_division=0)\n",
    "train_and_save_model(prefix, seed, models_and_params[model_name], cv=5, scoring=custom_precision)\n",
    "load_and_predict(prefix)"
   ]
  },
  {
   "cell_type": "markdown",
   "id": "ed62f373-c5f7-43d3-b309-18b6e187c1d6",
   "metadata": {},
   "source": [
    "### Chorioamnionitis imputation"
   ]
  },
  {
   "cell_type": "code",
   "execution_count": 7,
   "id": "fa56e380-8e96-4dc4-880e-ec78162513b5",
   "metadata": {},
   "outputs": [
    {
     "name": "stdout",
     "output_type": "stream",
     "text": [
      "Test indices saved at inst/extdata/chorioamnionitis_imp_test_idx.csv\n",
      "Scaler saved at inst/extdata/chorioamnionitis_imp_scaler.joblib\n",
      "Model saved at inst/extdata/chorioamnionitis_imp_best_model.joblib\n",
      "Predictions saved at inst/extdata/chorioamnionitis_imp_predictions.csv\n"
     ]
    }
   ],
   "source": [
    "prefix = 'chorioamnionitis_imp'\n",
    "model_name = 'RandomForestClassifier'\n",
    "custom_precision = make_scorer(precision_score, zero_division=0)\n",
    "train_and_save_model(prefix, seed, models_and_params[model_name], cv=5, scoring=custom_precision)\n",
    "load_and_predict(prefix)"
   ]
  },
  {
   "cell_type": "markdown",
   "id": "6a2fb2f8-a7d3-4405-a7be-305bf8696722",
   "metadata": {},
   "source": [
    "# Predictive modeling"
   ]
  },
  {
   "cell_type": "markdown",
   "id": "fa7ffb21-9185-4f95-b7b3-fb8eb759f2ea",
   "metadata": {},
   "source": [
    "## Model development"
   ]
  },
  {
   "cell_type": "markdown",
   "id": "19e71251-57d2-4dab-a4f3-f4a55f8acf3e",
   "metadata": {},
   "source": [
    "### GA prediction"
   ]
  },
  {
   "cell_type": "code",
   "execution_count": 7,
   "id": "660cbb17-969d-46e9-a024-2434d9b0f682",
   "metadata": {},
   "outputs": [
    {
     "name": "stdout",
     "output_type": "stream",
     "text": [
      "Test indices saved at inst/extdata/ga_est_test_idx.csv\n",
      "Scaler saved at inst/extdata/ga_est_scaler.joblib\n",
      "Model saved at inst/extdata/ga_est_best_model.joblib\n"
     ]
    }
   ],
   "source": [
    "prefix = 'ga_est'\n",
    "model_name = 'ElasticNet'\n",
    "neg_mse_scorer = make_scorer(mean_squared_error, greater_is_better=False)\n",
    "train_and_save_model(prefix, seed, models_and_params[model_name], cv=3, scoring=neg_mse_scorer, task = 'regression')"
   ]
  },
  {
   "cell_type": "code",
   "execution_count": 8,
   "id": "aecef5be-5c91-4827-b59f-96bd2e4c4b89",
   "metadata": {},
   "outputs": [
    {
     "name": "stdout",
     "output_type": "stream",
     "text": [
      "Predictions saved at inst/extdata/ga_est_predictions.csv\n"
     ]
    }
   ],
   "source": [
    "prefix = 'ga_est'\n",
    "model_name = 'ElasticNet'\n",
    "load_and_predict(prefix)"
   ]
  },
  {
   "cell_type": "code",
   "execution_count": 5,
   "id": "26827b09-383b-4bab-9ab9-66079782deac",
   "metadata": {},
   "outputs": [
    {
     "name": "stdout",
     "output_type": "stream",
     "text": [
      "Coefficients saved at inst/extdata/ga_est_coefficients.csv\n"
     ]
    }
   ],
   "source": [
    "prefix = 'ga_est'\n",
    "model_name = 'ElasticNet'\n",
    "save_model_coefficients(prefix)"
   ]
  },
  {
   "cell_type": "markdown",
   "id": "1d24e856-0241-429d-ab85-72b9be233c52",
   "metadata": {},
   "source": [
    "### Preterm prediction"
   ]
  },
  {
   "cell_type": "code",
   "execution_count": 13,
   "id": "a3ff2856-260b-41a3-b3f7-12db523ce4f3",
   "metadata": {},
   "outputs": [
    {
     "name": "stdout",
     "output_type": "stream",
     "text": [
      "Test indices saved at inst/extdata/preterm_pred_test_idx.csv\n",
      "Scaler saved at inst/extdata/preterm_pred_scaler.joblib\n",
      "Model saved at inst/extdata/preterm_pred_best_model.joblib\n"
     ]
    }
   ],
   "source": [
    "prefix = 'preterm_pred'\n",
    "model_name = 'LogisticElasticNet'\n",
    "custom_precision = make_scorer(precision_score, zero_division=0)\n",
    "train_and_save_model(prefix, seed, models_and_params[model_name], cv=5, scoring=custom_precision)"
   ]
  },
  {
   "cell_type": "code",
   "execution_count": null,
   "id": "75883ecd-8dc8-4999-ad51-a5e127e6317b",
   "metadata": {},
   "outputs": [
    {
     "name": "stdout",
     "output_type": "stream",
     "text": [
      "Predicted probabilities saved at inst/extdata/preterm_pred_prob.csv\n"
     ]
    }
   ],
   "source": [
    "prefix = 'preterm_pred'\n",
    "model_name = 'LogisticElasticNet'\n",
    "load_and_predict_probabilities(prefix)"
   ]
  },
  {
   "cell_type": "code",
   "execution_count": 6,
   "id": "99545a1b-4c79-48d2-a2b7-2584f87a3366",
   "metadata": {},
   "outputs": [
    {
     "name": "stdout",
     "output_type": "stream",
     "text": [
      "Coefficients saved at inst/extdata/preterm_pred_coefficients.csv\n"
     ]
    }
   ],
   "source": [
    "prefix = 'preterm_pred'\n",
    "model_name = 'LogisticElasticNet'\n",
    "save_model_coefficients(prefix)"
   ]
  },
  {
   "cell_type": "markdown",
   "id": "5110386e-894a-4934-ae37-4922ababe380",
   "metadata": {},
   "source": [
    "### GDM prediction"
   ]
  },
  {
   "cell_type": "code",
   "execution_count": 15,
   "id": "a0805f77-b7c6-4521-ae19-5cf5b66271d7",
   "metadata": {},
   "outputs": [
    {
     "name": "stdout",
     "output_type": "stream",
     "text": [
      "Test indices saved at inst/extdata/gdm_pred_test_idx.csv\n",
      "Scaler saved at inst/extdata/gdm_pred_scaler.joblib\n",
      "Model saved at inst/extdata/gdm_pred_best_model.joblib\n"
     ]
    }
   ],
   "source": [
    "prefix = 'gdm_pred'\n",
    "model_name = 'LogisticElasticNet'\n",
    "custom_precision = make_scorer(precision_score, zero_division=0)\n",
    "train_and_save_model(prefix, seed, models_and_params[model_name], cv=5, scoring=custom_precision)"
   ]
  },
  {
   "cell_type": "code",
   "execution_count": 16,
   "id": "b4e9d3a0-8573-4689-9b61-8d6e4df2c7a7",
   "metadata": {},
   "outputs": [
    {
     "name": "stdout",
     "output_type": "stream",
     "text": [
      "Predicted probabilities saved at inst/extdata/gdm_pred_prob.csv\n"
     ]
    }
   ],
   "source": [
    "prefix = 'gdm_pred'\n",
    "model_name = 'LogisticElasticNet'\n",
    "load_and_predict_probabilities(prefix)"
   ]
  },
  {
   "cell_type": "code",
   "execution_count": 7,
   "id": "0e8408dc-9d60-4fe8-80a8-2a6677006bc2",
   "metadata": {},
   "outputs": [
    {
     "name": "stdout",
     "output_type": "stream",
     "text": [
      "Coefficients saved at inst/extdata/gdm_pred_coefficients.csv\n"
     ]
    }
   ],
   "source": [
    "prefix = 'gdm_pred'\n",
    "model_name = 'LogisticElasticNet'\n",
    "save_model_coefficients(prefix)"
   ]
  },
  {
   "cell_type": "markdown",
   "id": "c9407c87-1719-4f0f-9def-e7d38d1c3407",
   "metadata": {},
   "source": [
    "### LGA prediction"
   ]
  },
  {
   "cell_type": "code",
   "execution_count": 17,
   "id": "dafb3903-f9bc-4c07-a3f1-a414f6d37c71",
   "metadata": {},
   "outputs": [
    {
     "name": "stdout",
     "output_type": "stream",
     "text": [
      "Test indices saved at inst/extdata/lga_pred_test_idx.csv\n",
      "Scaler saved at inst/extdata/lga_pred_scaler.joblib\n",
      "Model saved at inst/extdata/lga_pred_best_model.joblib\n"
     ]
    }
   ],
   "source": [
    "prefix = 'lga_pred'\n",
    "model_name = 'LogisticElasticNet'\n",
    "custom_precision = make_scorer(precision_score, zero_division=0)\n",
    "train_and_save_model(prefix, seed, models_and_params[model_name], cv=5, scoring=custom_precision)"
   ]
  },
  {
   "cell_type": "code",
   "execution_count": 18,
   "id": "49bef94f-1308-48c7-ba5f-b1966388efed",
   "metadata": {},
   "outputs": [
    {
     "name": "stdout",
     "output_type": "stream",
     "text": [
      "Predicted probabilities saved at inst/extdata/lga_pred_prob.csv\n"
     ]
    }
   ],
   "source": [
    "prefix = 'lga_pred'\n",
    "model_name = 'LogisticElasticNet'\n",
    "load_and_predict_probabilities(prefix)"
   ]
  },
  {
   "cell_type": "code",
   "execution_count": 8,
   "id": "bcce4fef-df87-4974-9f56-c97d4f35776e",
   "metadata": {},
   "outputs": [
    {
     "name": "stdout",
     "output_type": "stream",
     "text": [
      "Coefficients saved at inst/extdata/lga_pred_coefficients.csv\n"
     ]
    }
   ],
   "source": [
    "prefix = 'lga_pred'\n",
    "model_name = 'LogisticElasticNet'\n",
    "save_model_coefficients(prefix)"
   ]
  },
  {
   "cell_type": "markdown",
   "id": "cf2dae84-3933-43fe-b50e-5d719d0ac2e3",
   "metadata": {},
   "source": [
    "### Chorioamnionitis prediction"
   ]
  },
  {
   "cell_type": "code",
   "execution_count": 19,
   "id": "69afdc76-c098-4ed5-bc73-b57bff5dbe98",
   "metadata": {},
   "outputs": [
    {
     "name": "stdout",
     "output_type": "stream",
     "text": [
      "Test indices saved at inst/extdata/chorioamnionitis_pred_test_idx.csv\n",
      "Scaler saved at inst/extdata/chorioamnionitis_pred_scaler.joblib\n",
      "Model saved at inst/extdata/chorioamnionitis_pred_best_model.joblib\n"
     ]
    }
   ],
   "source": [
    "prefix = 'chorioamnionitis_pred'\n",
    "model_name = 'LogisticElasticNet'\n",
    "custom_precision = make_scorer(precision_score, zero_division=0)\n",
    "train_and_save_model(prefix, seed, models_and_params[model_name], cv=5, scoring=custom_precision)"
   ]
  },
  {
   "cell_type": "code",
   "execution_count": 20,
   "id": "218632b9-40e6-403b-b6af-12e9e3ee70a6",
   "metadata": {},
   "outputs": [
    {
     "name": "stdout",
     "output_type": "stream",
     "text": [
      "Predicted probabilities saved at inst/extdata/chorioamnionitis_pred_prob.csv\n"
     ]
    }
   ],
   "source": [
    "prefix = 'chorioamnionitis_pred'\n",
    "model_name = 'LogisticElasticNet'\n",
    "load_and_predict_probabilities(prefix)"
   ]
  },
  {
   "cell_type": "code",
   "execution_count": 9,
   "id": "02e8893c-c33a-4559-b656-e78b50b6cc35",
   "metadata": {},
   "outputs": [
    {
     "name": "stdout",
     "output_type": "stream",
     "text": [
      "Coefficients saved at inst/extdata/chorioamnionitis_pred_coefficients.csv\n"
     ]
    }
   ],
   "source": [
    "prefix = 'chorioamnionitis_pred'\n",
    "model_name = 'LogisticElasticNet'\n",
    "save_model_coefficients(prefix)"
   ]
  },
  {
   "cell_type": "markdown",
   "id": "1542ef37-6424-40a2-b559-62b60b598144",
   "metadata": {},
   "source": [
    "### GA res-full prediction"
   ]
  },
  {
   "cell_type": "markdown",
   "id": "0c87a49a-27ca-491a-a7bb-9b8056f7bec6",
   "metadata": {},
   "source": [
    "#### GA res-full random forest"
   ]
  },
  {
   "cell_type": "code",
   "execution_count": 5,
   "id": "0e4d36b8-fae5-44b1-8c75-19ef78ec8803",
   "metadata": {},
   "outputs": [
    {
     "name": "stdout",
     "output_type": "stream",
     "text": [
      "Test indices saved at inst/extdata/ga_resfull_rf_est_test_idx.csv\n",
      "Scaler saved at inst/extdata/ga_resfull_rf_est_scaler.joblib\n",
      "Model saved at inst/extdata/ga_resfull_rf_est_best_model.joblib\n"
     ]
    }
   ],
   "source": [
    "prefix = 'ga_resfull_rf_est'\n",
    "model_name = 'RandomForestRegressor'\n",
    "neg_mse_scorer = make_scorer(mean_squared_error, greater_is_better=False)\n",
    "train_and_save_model(prefix, seed, models_and_params[model_name], cv=5, scoring=neg_mse_scorer, task = 'regression')"
   ]
  },
  {
   "cell_type": "code",
   "execution_count": 6,
   "id": "8bda5545-3103-48a6-9428-9fd5a71d0183",
   "metadata": {},
   "outputs": [
    {
     "name": "stdout",
     "output_type": "stream",
     "text": [
      "Predictions saved at inst/extdata/ga_resfull_rf_est_predictions.csv\n"
     ]
    }
   ],
   "source": [
    "prefix = 'ga_resfull_rf_est'\n",
    "model_name = 'RandomForestRegressor'\n",
    "load_and_predict(prefix)"
   ]
  },
  {
   "cell_type": "markdown",
   "id": "4ff1328b-a5b2-4637-9e13-2d09870ce78f",
   "metadata": {},
   "source": [
    "### GA res-conds prediction"
   ]
  },
  {
   "cell_type": "code",
   "execution_count": 7,
   "id": "30fa9b11-f6fb-49f8-856e-6f4240e2d6ad",
   "metadata": {},
   "outputs": [
    {
     "name": "stdout",
     "output_type": "stream",
     "text": [
      "Test indices saved at inst/extdata/ga_res_conds_preterm_est_test_idx.csv\n",
      "Scaler saved at inst/extdata/ga_res_conds_preterm_est_scaler.joblib\n",
      "Model saved at inst/extdata/ga_res_conds_preterm_est_best_model.joblib\n"
     ]
    }
   ],
   "source": [
    "prefix = 'ga_res_conds_preterm_est'\n",
    "model_name = 'ElasticNet'\n",
    "neg_mse_scorer = make_scorer(mean_squared_error, greater_is_better=False)\n",
    "train_and_save_model(prefix, seed, models_and_params[model_name], cv=5, scoring=neg_mse_scorer, task = 'regression')"
   ]
  },
  {
   "cell_type": "code",
   "execution_count": 8,
   "id": "a71e9b6b-21fb-4b26-9fc9-5752b29c94c8",
   "metadata": {},
   "outputs": [
    {
     "name": "stdout",
     "output_type": "stream",
     "text": [
      "Predictions saved at inst/extdata/ga_res_conds_preterm_est_predictions.csv\n"
     ]
    }
   ],
   "source": [
    "prefix = 'ga_res_conds_preterm_est'\n",
    "model_name = 'ElasticNet'\n",
    "load_and_predict(prefix)"
   ]
  },
  {
   "cell_type": "code",
   "execution_count": 10,
   "id": "c9a79ab2-5b94-44e2-b8cf-500f7a91895c",
   "metadata": {},
   "outputs": [
    {
     "name": "stdout",
     "output_type": "stream",
     "text": [
      "Coefficients saved at inst/extdata/ga_res_conds_preterm_est_coefficients.csv\n"
     ]
    }
   ],
   "source": [
    "prefix = 'ga_res_conds_preterm_est'\n",
    "model_name = 'ElasticNet'\n",
    "save_model_coefficients(prefix)"
   ]
  },
  {
   "cell_type": "code",
   "execution_count": 8,
   "id": "8977edc4-a6c7-47a1-9e14-d8cf57d6c846",
   "metadata": {},
   "outputs": [
    {
     "name": "stdout",
     "output_type": "stream",
     "text": [
      "Test indices saved at inst/extdata/ga_res_conds_gdm_est_test_idx.csv\n",
      "Scaler saved at inst/extdata/ga_res_conds_gdm_est_scaler.joblib\n",
      "Model saved at inst/extdata/ga_res_conds_gdm_est_best_model.joblib\n"
     ]
    }
   ],
   "source": [
    "prefix = 'ga_res_conds_gdm_est'\n",
    "model_name = 'ElasticNet'\n",
    "neg_mse_scorer = make_scorer(mean_squared_error, greater_is_better=False)\n",
    "train_and_save_model(prefix, seed, models_and_params[model_name], cv=5, scoring=neg_mse_scorer, task = 'regression')"
   ]
  },
  {
   "cell_type": "code",
   "execution_count": 9,
   "id": "29932361-7ed6-468f-ab49-430efb9e5c5f",
   "metadata": {},
   "outputs": [
    {
     "name": "stdout",
     "output_type": "stream",
     "text": [
      "Predictions saved at inst/extdata/ga_res_conds_gdm_est_predictions.csv\n"
     ]
    }
   ],
   "source": [
    "prefix = 'ga_res_conds_gdm_est'\n",
    "model_name = 'ElasticNet'\n",
    "load_and_predict(prefix)"
   ]
  },
  {
   "cell_type": "code",
   "execution_count": 11,
   "id": "102ce9cc-d2b6-4338-96e3-4738f1347c22",
   "metadata": {},
   "outputs": [
    {
     "name": "stdout",
     "output_type": "stream",
     "text": [
      "Coefficients saved at inst/extdata/ga_res_conds_gdm_est_coefficients.csv\n"
     ]
    }
   ],
   "source": [
    "prefix = 'ga_res_conds_gdm_est'\n",
    "model_name = 'ElasticNet'\n",
    "save_model_coefficients(prefix)"
   ]
  },
  {
   "cell_type": "code",
   "execution_count": 11,
   "id": "f52cc909-2edf-430d-9c96-7d8d0f4087e3",
   "metadata": {},
   "outputs": [
    {
     "name": "stdout",
     "output_type": "stream",
     "text": [
      "Test indices saved at inst/extdata/ga_res_conds_lga_est_test_idx.csv\n",
      "Scaler saved at inst/extdata/ga_res_conds_lga_est_scaler.joblib\n",
      "Model saved at inst/extdata/ga_res_conds_lga_est_best_model.joblib\n"
     ]
    }
   ],
   "source": [
    "prefix = 'ga_res_conds_lga_est'\n",
    "model_name = 'ElasticNet'\n",
    "neg_mse_scorer = make_scorer(mean_squared_error, greater_is_better=False)\n",
    "train_and_save_model(prefix, seed, models_and_params[model_name], cv=5, scoring=neg_mse_scorer, task = 'regression')"
   ]
  },
  {
   "cell_type": "code",
   "execution_count": 12,
   "id": "46de3d78-2fc0-4763-adc6-026df119fd88",
   "metadata": {},
   "outputs": [
    {
     "name": "stdout",
     "output_type": "stream",
     "text": [
      "Predictions saved at inst/extdata/ga_res_conds_lga_est_predictions.csv\n"
     ]
    }
   ],
   "source": [
    "prefix = 'ga_res_conds_lga_est'\n",
    "model_name = 'ElasticNet'\n",
    "load_and_predict(prefix)"
   ]
  },
  {
   "cell_type": "code",
   "execution_count": 12,
   "id": "678491e0-2d8d-40a9-8755-36052e24b244",
   "metadata": {},
   "outputs": [
    {
     "name": "stdout",
     "output_type": "stream",
     "text": [
      "Coefficients saved at inst/extdata/ga_res_conds_lga_est_coefficients.csv\n"
     ]
    }
   ],
   "source": [
    "prefix = 'ga_res_conds_lga_est'\n",
    "model_name = 'ElasticNet'\n",
    "save_model_coefficients(prefix)"
   ]
  },
  {
   "cell_type": "code",
   "execution_count": 6,
   "id": "f8dbea52-b7f6-4244-84f6-ff4ff0236b8f",
   "metadata": {
    "scrolled": true
   },
   "outputs": [
    {
     "name": "stdout",
     "output_type": "stream",
     "text": [
      "Test indices saved at inst/extdata/ga_res_conds_chorioamnionitis_est_test_idx.csv\n",
      "Scaler saved at inst/extdata/ga_res_conds_chorioamnionitis_est_scaler.joblib\n",
      "Model saved at inst/extdata/ga_res_conds_chorioamnionitis_est_best_model.joblib\n"
     ]
    }
   ],
   "source": [
    "prefix = 'ga_res_conds_chorioamnionitis_est'\n",
    "model_name = 'ElasticNet'\n",
    "neg_mse_scorer = make_scorer(mean_squared_error, greater_is_better=False)\n",
    "train_and_save_model(prefix, seed, models_and_params[model_name], cv=5, scoring=neg_mse_scorer, task = 'regression')"
   ]
  },
  {
   "cell_type": "code",
   "execution_count": 7,
   "id": "5714a77d-e26a-4bf3-b65a-3fefe777fb34",
   "metadata": {
    "scrolled": true
   },
   "outputs": [
    {
     "name": "stdout",
     "output_type": "stream",
     "text": [
      "Predictions saved at inst/extdata/ga_res_conds_chorioamnionitis_est_predictions.csv\n"
     ]
    }
   ],
   "source": [
    "prefix = 'ga_res_conds_chorioamnionitis_est'\n",
    "model_name = 'ElasticNet'\n",
    "load_and_predict(prefix)"
   ]
  },
  {
   "cell_type": "code",
   "execution_count": 13,
   "id": "81fb5f8b-169b-47b0-91ae-31005efd0318",
   "metadata": {},
   "outputs": [
    {
     "name": "stdout",
     "output_type": "stream",
     "text": [
      "Coefficients saved at inst/extdata/ga_res_conds_chorioamnionitis_est_coefficients.csv\n"
     ]
    }
   ],
   "source": [
    "prefix = 'ga_res_conds_chorioamnionitis_est'\n",
    "model_name = 'ElasticNet'\n",
    "save_model_coefficients(prefix)"
   ]
  },
  {
   "cell_type": "code",
   "execution_count": 5,
   "id": "111785ce-7700-46f8-afba-9d6ea3f9a175",
   "metadata": {},
   "outputs": [
    {
     "name": "stdout",
     "output_type": "stream",
     "text": [
      "Test indices saved at inst/extdata/ga_res_conds_pred_est_test_idx.csv\n",
      "Scaler saved at inst/extdata/ga_res_conds_pred_est_scaler.joblib\n",
      "Model saved at inst/extdata/ga_res_conds_pred_est_best_model.joblib\n"
     ]
    }
   ],
   "source": [
    "prefix = 'ga_res_conds_pred_est'\n",
    "model_name = 'ElasticNet'\n",
    "neg_mse_scorer = make_scorer(mean_squared_error, greater_is_better=False)\n",
    "train_and_save_model(prefix, seed, models_and_params[model_name], cv=5, scoring=neg_mse_scorer, task = 'regression')"
   ]
  },
  {
   "cell_type": "code",
   "execution_count": 6,
   "id": "61d8775f-5d0f-4d84-b68b-d504923e68dd",
   "metadata": {},
   "outputs": [
    {
     "name": "stdout",
     "output_type": "stream",
     "text": [
      "Predictions saved at inst/extdata/ga_res_conds_pred_est_predictions.csv\n"
     ]
    }
   ],
   "source": [
    "prefix = 'ga_res_conds_pred_est'\n",
    "model_name = 'ElasticNet'\n",
    "load_and_predict(prefix)"
   ]
  },
  {
   "cell_type": "markdown",
   "id": "51905bfd-0ce9-4ca8-9446-bde2e0069ef2",
   "metadata": {},
   "source": [
    "### GA res-comb prediction"
   ]
  },
  {
   "cell_type": "code",
   "execution_count": 5,
   "id": "4530016e-1a5c-4df4-b856-fa0167262483",
   "metadata": {},
   "outputs": [
    {
     "name": "stdout",
     "output_type": "stream",
     "text": [
      "Test indices saved at inst/extdata/ga_res_comb_pr_est_test_idx.csv\n",
      "Scaler saved at inst/extdata/ga_res_comb_pr_est_scaler.joblib\n",
      "Model saved at inst/extdata/ga_res_comb_pr_est_best_model.joblib\n"
     ]
    }
   ],
   "source": [
    "prefix = 'ga_res_comb_pr_est'\n",
    "model_name = 'ElasticNet'\n",
    "neg_mse_scorer = make_scorer(mean_squared_error, greater_is_better=False)\n",
    "train_and_save_model(prefix, seed, models_and_params[model_name], cv=5, scoring=neg_mse_scorer, task = 'regression')"
   ]
  },
  {
   "cell_type": "code",
   "execution_count": 6,
   "id": "84dc9767-7a0b-4614-a357-24da130d8e08",
   "metadata": {},
   "outputs": [
    {
     "name": "stdout",
     "output_type": "stream",
     "text": [
      "Predictions saved at inst/extdata/ga_res_comb_pr_est_predictions.csv\n"
     ]
    }
   ],
   "source": [
    "prefix = 'ga_res_comb_pr_est'\n",
    "model_name = 'ElasticNet'\n",
    "load_and_predict(prefix)"
   ]
  },
  {
   "cell_type": "code",
   "execution_count": 14,
   "id": "4105ea2f-4dce-4a26-9a40-92923bd5e0d1",
   "metadata": {},
   "outputs": [
    {
     "name": "stdout",
     "output_type": "stream",
     "text": [
      "Coefficients saved at inst/extdata/ga_res_comb_pr_est_coefficients.csv\n"
     ]
    }
   ],
   "source": [
    "prefix = 'ga_res_comb_pr_est'\n",
    "model_name = 'ElasticNet'\n",
    "save_model_coefficients(prefix)"
   ]
  },
  {
   "cell_type": "code",
   "execution_count": 7,
   "id": "44ff6da3-63c4-4b99-b281-67b24c254643",
   "metadata": {
    "scrolled": true
   },
   "outputs": [
    {
     "name": "stdout",
     "output_type": "stream",
     "text": [
      "Test indices saved at inst/extdata/ga_res_comb_tb_est_test_idx.csv\n",
      "Scaler saved at inst/extdata/ga_res_comb_tb_est_scaler.joblib\n",
      "Model saved at inst/extdata/ga_res_comb_tb_est_best_model.joblib\n"
     ]
    }
   ],
   "source": [
    "prefix = 'ga_res_comb_tb_est'\n",
    "model_name = 'ElasticNet'\n",
    "neg_mse_scorer = make_scorer(mean_squared_error, greater_is_better=False)\n",
    "train_and_save_model(prefix, seed, models_and_params[model_name], cv=5, scoring=neg_mse_scorer, task = 'regression')"
   ]
  },
  {
   "cell_type": "code",
   "execution_count": 8,
   "id": "30e7dfa0-dcc2-44e6-a94e-ec6786e0d77e",
   "metadata": {},
   "outputs": [
    {
     "name": "stdout",
     "output_type": "stream",
     "text": [
      "Predictions saved at inst/extdata/ga_res_comb_tb_est_predictions.csv\n"
     ]
    }
   ],
   "source": [
    "prefix = 'ga_res_comb_tb_est'\n",
    "model_name = 'ElasticNet'\n",
    "load_and_predict(prefix)"
   ]
  },
  {
   "cell_type": "code",
   "execution_count": 15,
   "id": "c7d9ff07-e2d7-440c-9af1-b6076845de26",
   "metadata": {},
   "outputs": [
    {
     "name": "stdout",
     "output_type": "stream",
     "text": [
      "Coefficients saved at inst/extdata/ga_res_comb_tb_est_coefficients.csv\n"
     ]
    }
   ],
   "source": [
    "prefix = 'ga_res_comb_tb_est'\n",
    "model_name = 'ElasticNet'\n",
    "save_model_coefficients(prefix)"
   ]
  }
 ],
 "metadata": {
  "kernelspec": {
   "display_name": "Python 3 (ipykernel)",
   "language": "python",
   "name": "python3"
  },
  "language_info": {
   "codemirror_mode": {
    "name": "ipython",
    "version": 3
   },
   "file_extension": ".py",
   "mimetype": "text/x-python",
   "name": "python",
   "nbconvert_exporter": "python",
   "pygments_lexer": "ipython3",
   "version": "3.12.4"
  }
 },
 "nbformat": 4,
 "nbformat_minor": 5
}
